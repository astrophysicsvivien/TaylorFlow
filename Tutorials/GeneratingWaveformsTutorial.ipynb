{
 "cells": [
  {
   "cell_type": "markdown",
   "metadata": {},
   "source": [
    "#  Generating Waveforms with TaylorFlow"
   ]
  },
  {
   "cell_type": "markdown",
   "metadata": {},
   "source": [
    "Import tensorflow, taylorflow and other packages, eager execution is enable in order for tensorflow to behave similar to python,this is to become default in future versions of tensorflow"
   ]
  },
  {
   "cell_type": "code",
   "execution_count": 1,
   "metadata": {},
   "outputs": [],
   "source": [
    "import tensorflow as tf\n",
    "#enable Eager execution\n",
    "tf.enable_eager_execution()\n",
    "\n",
    "import taylorflow as tlf\n",
    "import numpy as np\n",
    "import matplotlib.pyplot as plt\n",
    "import time"
   ]
  },
  {
   "cell_type": "markdown",
   "metadata": {},
   "source": [
    "now generate a frequency domain waveform for m1 = m2 = 5 solar mass binary"
   ]
  },
  {
   "cell_type": "code",
   "execution_count": 2,
   "metadata": {},
   "outputs": [
    {
     "name": "stdout",
     "output_type": "stream",
     "text": [
      "WARNING:tensorflow:From C:\\ProgramData\\Anaconda3\\lib\\site-packages\\tensorflow\\python\\ops\\resource_variable_ops.py:642: colocate_with (from tensorflow.python.framework.ops) is deprecated and will be removed in a future version.\n",
      "Instructions for updating:\n",
      "Colocations handled automatically by placer.\n"
     ]
    }
   ],
   "source": [
    "mass1 = 5\n",
    "mass2 = 5\n",
    "\n",
    "freq, waveform = tlf.waveform.getwaveform(mass1,mass2,LuminosityDistance=1.,f_low=10.,\n",
    "               df=1./512,f_high=300.,phase_order=7)"
   ]
  },
  {
   "cell_type": "markdown",
   "metadata": {},
   "source": [
    "now we can plot the waveform. The frequency and waveform are currently stored as tensors, these can be turned into numpy arrays with the .numpy() command. This should only be neccesary on the the frequency as it is stored as a variable."
   ]
  },
  {
   "cell_type": "code",
   "execution_count": 3,
   "metadata": {},
   "outputs": [
    {
     "name": "stderr",
     "output_type": "stream",
     "text": [
      "C:\\ProgramData\\Anaconda3\\lib\\site-packages\\tensorflow\\python\\framework\\ops.py:739: ComplexWarning: Casting complex values to real discards the imaginary part\n",
      "  return np.array(self.numpy(), dtype=dtype)\n"
     ]
    },
    {
     "data": {
      "text/plain": [
       "Text(0,0.5,'Strain')"
      ]
     },
     "execution_count": 3,
     "metadata": {},
     "output_type": "execute_result"
    },
    {
     "data": {
      "image/png": "[encoded data removed]",
      "text/plain": [
       "<Figure size 432x288 with 1 Axes>"
      ]
     },
     "metadata": {
      "needs_background": "light"
     },
     "output_type": "display_data"
    }
   ],
   "source": [
    "plt.plot(freq.numpy(),waveform)\n",
    "plt.xlabel('frequency (Hz)')\n",
    "plt.ylabel('Strain')"
   ]
  },
  {
   "cell_type": "markdown",
   "metadata": {},
   "source": [
    "the device where the waveform calculations are performed can be controled using withdevice statements in TensorFlow"
   ]
  },
  {
   "cell_type": "code",
   "execution_count": 4,
   "metadata": {},
   "outputs": [
    {
     "name": "stdout",
     "output_type": "stream",
     "text": [
      "CPU speed is 0.0239842\n"
     ]
    }
   ],
   "source": [
    "tfcpu_start = time.time()\n",
    "with tf.device('/cpu:0'):\n",
    "    freq, waveform = tlf.waveform.getwaveform(mass1,mass2,LuminosityDistance=1.,f_low=10.,\n",
    "               df=1./512,f_high=300.,phase_order=7)\n",
    "tfcpu_end = time.time()\n",
    "tfcpu_speeds= tfcpu_end-tfcpu_start\n",
    "\n",
    "print('CPU speed is %g' %tfcpu_speeds)"
   ]
  },
  {
   "cell_type": "markdown",
   "metadata": {},
   "source": [
    "The following code will not work without access to a GPU device, if one is not avaiable to you. It is reccomended that you run this tutorial in a colab notebook with GPU acceleration enabled"
   ]
  },
  {
   "cell_type": "code",
   "execution_count": 5,
   "metadata": {},
   "outputs": [
    {
     "name": "stdout",
     "output_type": "stream",
     "text": [
      "GPU speed is 0.0219743\n"
     ]
    }
   ],
   "source": [
    "tfgpu_start = time.time()\n",
    "with tf.device('/gpu:0'):\n",
    "    freq, waveform = tlf.waveform.getwaveform(mass1,mass2,LuminosityDistance=1.,f_low=10.,\n",
    "               df=1./512,f_high=300.,phase_order=7)\n",
    "tfgpu_end = time.time()\n",
    "tfgpu_speeds = tfgpu_end-tfgpu_start\n",
    "print('GPU speed is %g' %tfgpu_speeds)"
   ]
  }
 ],
 "metadata": {
  "kernelspec": {
   "display_name": "Python 3",
   "language": "python",
   "name": "python3"
  },
  "language_info": {
   "codemirror_mode": {
    "name": "ipython",
    "version": 3
   },
   "file_extension": ".py",
   "mimetype": "text/x-python",
   "name": "python",
   "nbconvert_exporter": "python",
   "pygments_lexer": "ipython3",
   "version": "3.7.3"
  }
 },
 "nbformat": 4,
 "nbformat_minor": 2
}
