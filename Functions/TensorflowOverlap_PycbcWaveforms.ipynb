{
 "cells": [
  {
   "cell_type": "code",
   "execution_count": 1,
   "metadata": {},
   "outputs": [],
   "source": [
    "#Preamble\n",
    "import tensorflow as tf\n",
    "#enable Eager execution\n",
    "tf.enable_eager_execution()\n",
    "\n",
    "import numpy as np\n",
    "import matplotlib.pyplot as plt\n",
    "import TaylorFlow_190722 as tlf"
   ]
  },
  {
   "cell_type": "code",
   "execution_count": 2,
   "metadata": {},
   "outputs": [],
   "source": [
    "def cmplxInnerProd(temp,data,psd,df):\n",
    "    \"computes complex inner product in the fourier domain IP = 4 deltaf sum((a * conguagte(b))/Weights)\"\n",
    "    \n",
    "    weights = tf.sqrt(psd)\n",
    "    \n",
    "    return tf.multiply((4*df),tf.reduce_sum(tf.multiply(tf.divide(temp,weights),tf.divide(tf.conj(data),weights))))\n",
    "\n",
    "def InnerProd(temp,data,psd,df):\n",
    "    \"computes inner product in the fourier domain IP = 4 deltaf RE sum((a * conguagte(b))/Weights)\"\n",
    "    \n",
    "    return tf.real(cmplxInnerProd(temp,data,psd,df))\n",
    "\n",
    "def sigsq(temp, psd, df):\n",
    "    \"computes sig^2 = (a|a), which can then be used to normalise function \"\n",
    "    weights = tf.sqrt(psd)\n",
    "    \n",
    "    return tf.real(tf.multiply((4*df),tf.reduce_sum(tf.multiply(tf.divide(temp,weights),tf.divide(tf.conj(temp),weights)))))\n",
    "\n",
    "def sig(temp, psd, df):\n",
    "    \"returns the sigma value of the signal\"\n",
    "    \n",
    "    return tf.sqrt(sigsq(temp, psd, df))\n",
    "\n",
    "def TensorNorm(a):\n",
    "    \"divides by max value of tensor to normalise between 0 and 1\"\n",
    "    TensorMax = tf.reduce_max(tf.abs(a))\n",
    "    Tmax_cmplx_recip = tf.complex(tf.reciprocal(TensorMax),0.)\n",
    "    \n",
    "    return tf.multiply(a,Tmax_cmplx_recip),TensorMax\n",
    "\n",
    "def overlap(temp,data,psd,df):\n",
    "    \"Overlap equation\"\n",
    "    \n",
    "    norm = tf.divide(1,tf.multiply(sig(temp,psd,df),sig(data,psd,df)))\n",
    "    inner = InnerProd(temp,data,psd,df)\n",
    "    overlap = tf.multiply(norm,inner)\n",
    "        \n",
    "    return overlap\n",
    "\n",
    "def SNR(temp,data,psd,df):\n",
    "    \"Returns the SNR along with the normalization\"\n",
    "    norm = tf.reciprocal(sig(temp,psd,df))\n",
    "    inner = InnerProd(temp,data,psd,df)\n",
    "    \n",
    "    return tf.multiply(norm,inner)"
   ]
  },
  {
   "cell_type": "code",
   "execution_count": 3,
   "metadata": {},
   "outputs": [],
   "source": [
    "m1 = 10\n",
    "m2 = 10\n",
    "m3 = 5\n",
    "m4 = 5\n",
    "df = 1./512\n",
    "f_low = 20\n",
    "f_high = 2000.\n",
    "\n",
    "# freq1,waveform1 = tlf.TaylorFlow(m1, m2, f_low=f_low, f_high=f_high, df = df, t_c=0., phi_c = 0)\n",
    "# freq2,waveform2 = tlf.TaylorFlow(m3, m4, f_low=f_low, f_high=f_high, df = df, t_c=0., phi_c = 0)\n",
    "# n_waveform1,max1 = TensorNorm(waveform1)\n",
    "# # n_waveform2,max2 = TensorNorm(waveform2)\n",
    "# n_waveform2 = tf.multiply(waveform2,tf.complex(tf.reciprocal(max1), 0.))\n",
    "\n"
   ]
  },
  {
   "cell_type": "code",
   "execution_count": 4,
   "metadata": {},
   "outputs": [],
   "source": [
    "n_waveform1 = np.loadtxt('normpycbc_10sol.txt',dtype= complex).astype(np.complex64)\n",
    "n_waveform2 = np.loadtxt('normpycbc_5sol.txt',dtype= complex).astype(np.complex64)"
   ]
  },
  {
   "cell_type": "code",
   "execution_count": 5,
   "metadata": {},
   "outputs": [],
   "source": [
    "psd = tf.complex(np.ones(len(n_waveform1),dtype=np.float32), 0.)"
   ]
  },
  {
   "cell_type": "code",
   "execution_count": 6,
   "metadata": {},
   "outputs": [
    {
     "name": "stdout",
     "output_type": "stream",
     "text": [
      "complex64\n"
     ]
    }
   ],
   "source": [
    "print(n_waveform1.dtype)"
   ]
  },
  {
   "cell_type": "code",
   "execution_count": 7,
   "metadata": {},
   "outputs": [],
   "source": [
    "cmplxIP = cmplxInnerProd(n_waveform1, n_waveform2, psd, df)"
   ]
  },
  {
   "cell_type": "code",
   "execution_count": 8,
   "metadata": {},
   "outputs": [],
   "source": [
    "IP = InnerProd(n_waveform1, n_waveform2, psd, df)"
   ]
  },
  {
   "cell_type": "code",
   "execution_count": 9,
   "metadata": {},
   "outputs": [],
   "source": [
    "sig1 = sig(n_waveform1, psd, df)"
   ]
  },
  {
   "cell_type": "code",
   "execution_count": 10,
   "metadata": {},
   "outputs": [],
   "source": [
    "sig2 = sig(n_waveform2, psd, df)"
   ]
  },
  {
   "cell_type": "code",
   "execution_count": 11,
   "metadata": {},
   "outputs": [],
   "source": [
    "sigsq1= sigsq(n_waveform1, psd, df)"
   ]
  },
  {
   "cell_type": "code",
   "execution_count": 12,
   "metadata": {},
   "outputs": [],
   "source": [
    "sigsq2= sigsq(n_waveform2, psd, df)"
   ]
  },
  {
   "cell_type": "code",
   "execution_count": 13,
   "metadata": {},
   "outputs": [],
   "source": [
    "overlap1 = overlap(n_waveform1, n_waveform2, psd, df)"
   ]
  },
  {
   "cell_type": "code",
   "execution_count": 14,
   "metadata": {},
   "outputs": [
    {
     "name": "stdout",
     "output_type": "stream",
     "text": [
      "CmplxInnrP = 0.0428467 + 0.0672404 i\n",
      "RealInnerP = 0.0428467\n",
      "sig1 = 7.65271\n",
      "sig2 = 4.34984\n",
      "sigsq1 = 58.564\n",
      "sigsq2 = 18.9211\n",
      "Overlap = 0.00128715\n"
     ]
    }
   ],
   "source": [
    "print(\"CmplxInnrP = %g + %g i\" %(tf.real(cmplxIP), tf.imag(cmplxIP)))\n",
    "print(\"RealInnerP = %g\" %IP)\n",
    "print(\"sig1 = %g\" %sig1)\n",
    "print(\"sig2 = %g\" %sig2)\n",
    "print(\"sigsq1 = %g\" %sigsq1)\n",
    "print(\"sigsq2 = %g\" %sigsq2)\n",
    "print(\"Overlap = %g\" %overlap1)"
   ]
  },
  {
   "cell_type": "code",
   "execution_count": null,
   "metadata": {},
   "outputs": [],
   "source": []
  }
 ],
 "metadata": {
  "kernelspec": {
   "display_name": "Python 3",
   "language": "python",
   "name": "python3"
  },
  "language_info": {
   "codemirror_mode": {
    "name": "ipython",
    "version": 3
   },
   "file_extension": ".py",
   "mimetype": "text/x-python",
   "name": "python",
   "nbconvert_exporter": "python",
   "pygments_lexer": "ipython3",
   "version": "3.7.3"
  }
 },
 "nbformat": 4,
 "nbformat_minor": 2
}
