{
 "cells": [
  {
   "cell_type": "code",
   "execution_count": 11,
   "metadata": {},
   "outputs": [
    {
     "name": "stderr",
     "output_type": "stream",
     "text": [
      "C:\\ProgramData\\Anaconda3\\lib\\site-packages\\tensorflow\\python\\client\\session.py:1702: UserWarning: An interactive session is already active. This can cause out-of-memory errors in some cases. You must explicitly call `InteractiveSession.close()` to release resources held by the other session(s).\n",
      "  warnings.warn('An interactive session is already active. This can '\n"
     ]
    }
   ],
   "source": [
    "#Preamble\n",
    "import tensorflow as tf\n",
    "#enable Eager execution\n",
    "tf.enable_eager_execution()\n",
    "\n",
    "import numpy as np\n",
    "import matplotlib.pyplot as plt\n",
    "\n",
    "#Start Interactive Session\n",
    "sess = tf.InteractiveSession()\n",
    "\n",
    "def PN_phases(freq,mTot,eta,t_c,phi_c,phase_order):\n",
    "    \n",
    "    #constants in equation\n",
    "    piM = tf.multiply(mTot*4.96e-6,np.pi) # Total mass times pi\n",
    "    v = tf.pow(tf.multiply(piM,freq),(1/3)) # characteristic velocity of binary'\n",
    "    \n",
    "    #v parameters\n",
    "    v0 = tf.pow(v,-5)\n",
    "    \n",
    "    #produce PN coeffiecients\n",
    "    PN_cnst = tf.add((2*np.pi*t_c*freq),(-phi_c))\n",
    "    P0 = tf.multiply((3./128),tf.reciprocal(eta))\n",
    "    \n",
    "    #Produce full PN terms\n",
    "    PN0 = tf.multiply(P0,v0)\n",
    "    \n",
    "    #phases = PN_cnst + PN0\n",
    "    phases = tf.add(PN_cnst,PN0)\n",
    "    \n",
    "    return phases\n",
    "\n",
    "def PN_amplitude(freq,ChirpMass,LuminosityDistance):\n",
    "    #returns the amplitude of the 0PN waveform\n",
    "    #arguments are chirp mass, luminosity distance and frequencies\n",
    "                         \n",
    "    term1 = tf.reciprocal(LuminosityDistance/3e8)# divide by factor of c to convert to units of time\n",
    "    term2 = tf.multiply(np.sqrt(5/24)*(np.pi**(-2/3)),tf.pow(ChirpMass*4.96e-6,(5/6))) #times by mtsol to get units of time\n",
    "    term3 = tf.pow(freq,(-7/6))\n",
    "                         \n",
    "    return tf.multiply(term1,tf.multiply(term2,term3))\n",
    "\n",
    "def TaylorFlow(mass1,mass2,frequencies=None,LuminosityDistance=1.,t_c=0,phi_c=0.,f_low=10.,\n",
    "               df=0.1,f_high=2000.,phase_order=0):\n",
    "    \"\"\"\n",
    "    TaylorFlow Main Function\n",
    "    \n",
    "    \"\"\"\n",
    "    \n",
    "    #Define variable and constants in TensorFlow variables and constants   \n",
    "    #Masses and frequencies are required inputs\n",
    "    mass1 = tf.constant(mass1,name=\"mass1\",dtype=tf.float32)\n",
    "    mass2 = tf.constant(mass2,name=\"mass2\",dtype=tf.float32)\n",
    "    \n",
    "    #get total mass,chirp mass and symetric mass ratio for use later in function\n",
    "    M = tf.add(mass1,mass2) # m1 + m2 \n",
    "    eta = tf.divide(tf.multiply(mass1,mass2),tf.square(M)) # (m1*m2)/(m1+m2)^2\n",
    "    ChirpMass = tf.multiply(M,tf.pow(eta,(3/5))) #Chirp mass is given by M*(eta^3/5)   \n",
    "    \n",
    "    #define frequencies\n",
    "    f_ISO = 1/(6.**1.5*np.pi*(M)*4.93e-6) #frequency of innermost stable circular orbit (SI units)\n",
    "    if frequencies == None:\n",
    "        f = np.arange(1.,f_high,df)\n",
    "        frequencies = tf.Variable(f,name= \"frequencies\",dtype= tf.float32)\n",
    "    else:  \n",
    "        frequencies = tf.Variable(frequencies,name= \"frequencies\",dtype= tf.float32)\n",
    "        \n",
    "    #other constants                     \n",
    "    L_D =  tf.constant((3.086e+22*LuminosityDistance),name=\"LuminosityDistance\",dtype=tf.float32) \n",
    "    \n",
    "    #get phases at 0PN order\n",
    "    phase = PN_phases(frequencies,M,eta,t_c,phi_c,phase_order)\n",
    "    amp = PN_amplitude(frequencies,ChirpMass,L_D)\n",
    "    \n",
    "    #set amplitude to zero where the waveform results are unphysical\n",
    "    cond1 = frequencies<f_low #below f_low\n",
    "    ind1 = tf.where(cond1)\n",
    "    cond2 = frequencies>f_ISO #above fISCO\n",
    "    ind2 = tf.where(cond2)\n",
    "    amp = tf.scatter_update(tf.Variable(amp), ind1, tf.constant(0.))\n",
    "    amp = tf.scatter_update(tf.Variable(amp), ind2, tf.constant(0.))\n",
    "    \n",
    "    #Calculte waveform\n",
    "    iphase = tf.multiply(tf.complex(0.,1.),tf.complex(phase-(np.pi/4),0.))\n",
    "    waveform = tf.multiply(tf.complex(amp,0.),tf.exp(iphase))\n",
    "    \n",
    "    return frequencies,waveform"
   ]
  },
  {
   "cell_type": "code",
   "execution_count": 44,
   "metadata": {},
   "outputs": [],
   "source": [
    "m1 = 1.4\n",
    "m2 = 1.4\n",
    "df = 1./1024\n",
    "tc_ = 0.\n",
    "phi_ = 0.\n",
    "\n",
    "freq, waveform  = TaylorFlow(m1, m2, f_low=20., f_high=2000, df=df, t_c=tc_, phi_c = phi_)"
   ]
  },
  {
   "cell_type": "code",
   "execution_count": 48,
   "metadata": {},
   "outputs": [
    {
     "data": {
      "text/plain": [
       "[<matplotlib.lines.Line2D at 0x1ca9dcb4cc0>]"
      ]
     },
     "execution_count": 48,
     "metadata": {},
     "output_type": "execute_result"
    },
    {
     "data": {
      "image/png": "[encoded data removed]",
      "text/plain": [
       "<Figure size 432x288 with 1 Axes>"
      ]
     },
     "metadata": {
      "needs_background": "light"
     },
     "output_type": "display_data"
    }
   ],
   "source": [
    "plt.plot(freq.numpy(),np.real(waveform))\n",
    "plt.plot(freq.numpy(),np.imag(waveform))"
   ]
  },
  {
   "cell_type": "code",
   "execution_count": 46,
   "metadata": {},
   "outputs": [],
   "source": [
    "np.savetxt('TensorflowFreq.txt',freq.numpy())\n",
    "np.savetxt('TensorflowWaveform.txt',waveform)"
   ]
  }
 ],
 "metadata": {
  "kernelspec": {
   "display_name": "Python 3",
   "language": "python",
   "name": "python3"
  },
  "language_info": {
   "codemirror_mode": {
    "name": "ipython",
    "version": 3
   },
   "file_extension": ".py",
   "mimetype": "text/x-python",
   "name": "python",
   "nbconvert_exporter": "python",
   "pygments_lexer": "ipython3",
   "version": "3.7.3"
  }
 },
 "nbformat": 4,
 "nbformat_minor": 2
}
