{
 "cells": [
  {
   "cell_type": "code",
   "execution_count": 1,
   "metadata": {},
   "outputs": [],
   "source": [
    "#preamble\n",
    "import numpy as np\n",
    "import matplotlib.pyplot as plt\n",
    "\n",
    "def PN_phases(freq,mTot,eta,t_c,phi_c):\n",
    "    \"produce phases at 0PN order\"\n",
    "    #Characteristic velocity (expansion parameter)\n",
    "    \n",
    "    piM = mTot*np.pi*4.92549102554e-6 # pi multiplyed by total mass in seconds\n",
    "    v = ((piM*freq)**(1/3))\n",
    "    \n",
    "    # generate phases\n",
    "    phase =  (2*np.pi*freq*t_c) - phi_c + ((3/128)*(1/eta*(v**(-5))))\n",
    "    return phase\n",
    "\n",
    "def PN_amplitude(freq,ChirpMass,LuminosityDistance):\n",
    "    \"produce amplitude at 0PN order\"\n",
    "    \n",
    "    return (299792458/LuminosityDistance)*(((5/24)**0.5)*(np.pi**(-2/3)))*((ChirpMass*4.92549102554e-6)**(5/6))*(freq**(-7/6))\n",
    "\n",
    "def TaylorF2(mass1,mass2,frequencies=None,LuminosityDistance=1.,t_c=0.,phi_c=0.,f_low=20.,\n",
    "               df=1./512,f_high=1800.):\n",
    "    \n",
    "    #genrate characteristic masses\n",
    "    M = mass1+mass2\n",
    "    eta = (mass1*mass2)/(M**2)\n",
    "    ChirpMass = M*(eta**(3/5)) #Chirp mass is given by M*(eta^3/5)\n",
    "    \n",
    "    #define frequencies\n",
    "    f_ISO = 1/(6.**1.5*np.pi*(M)*4.92549102554e-6) #frequency of innermost stable circular orbit (SI units)\n",
    "    if frequencies == None:\n",
    "        f = np.arange(1.,f_ISO,df)\n",
    "        freq = f\n",
    "    else:  \n",
    "        freq = frequencies \n",
    "        \n",
    "    #Luminosity distance in SI Units\n",
    "    L_D =  3.086e+22*LuminosityDistance\n",
    "    \n",
    "    #Evaluate phases and amplitudes across frequencies\n",
    "    phase = PN_phases(freq,M,eta,t_c,phi_c)\n",
    "    amp = PN_amplitude(freq,ChirpMass,L_D)\n",
    "    \n",
    "    #set amplitude to zero where the waveform results are unphysical or unwanted\n",
    "    amp[freq<(f_low)] = 0.\n",
    "    amp[freq>f_ISO] = 0.\n",
    "    \n",
    "    #Produce waveform\n",
    "    waveform = amp*np.exp(1j*phase)\n",
    "    \n",
    "    return freq, waveform"
   ]
  },
  {
   "cell_type": "code",
   "execution_count": 2,
   "metadata": {},
   "outputs": [],
   "source": [
    "m1 = 2\n",
    "m2 = 2\n",
    "freq, waveform = TaylorF2(m1,m2,LuminosityDistance=1.,t_c=0.,phi_c=0.,f_low=20.,\n",
    "               df=1./512,f_high=1800.)"
   ]
  },
  {
   "cell_type": "code",
   "execution_count": 3,
   "metadata": {},
   "outputs": [],
   "source": [
    "#save frequency and waveform to file\n",
    "\n",
    "np.savetxt('PythonFreq.txt',freq)\n",
    "np.savetxt('PythonWaveform.txt', waveform)"
   ]
  },
  {
   "cell_type": "code",
   "execution_count": null,
   "metadata": {},
   "outputs": [],
   "source": []
  }
 ],
 "metadata": {
  "kernelspec": {
   "display_name": "ligo-py36",
   "language": "python",
   "name": "ligo-py36"
  },
  "language_info": {
   "codemirror_mode": {
    "name": "ipython",
    "version": 3
   },
   "file_extension": ".py",
   "mimetype": "text/x-python",
   "name": "python",
   "nbconvert_exporter": "python",
   "pygments_lexer": "ipython3",
   "version": "3.6.7"
  }
 },
 "nbformat": 4,
 "nbformat_minor": 2
}
