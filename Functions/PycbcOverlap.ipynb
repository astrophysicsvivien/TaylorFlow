{
 "cells": [
  {
   "cell_type": "code",
   "execution_count": 2,
   "metadata": {},
   "outputs": [],
   "source": [
    "from pycbc import types, fft, waveform, psd, filter\n",
    "import matplotlib.pyplot as plt\n",
    "import numpy as np"
   ]
  },
  {
   "cell_type": "code",
   "execution_count": 3,
   "metadata": {},
   "outputs": [],
   "source": [
    "m1 = 10\n",
    "m2 = 10\n",
    "m3 = 5\n",
    "m4 = 5\n",
    "f_low = 20\n",
    "df = 1./512\n",
    "\n",
    "waveform1,waveform1c = waveform.get_fd_waveform(approximant=\"TaylorF2\",\n",
    "                         mass1=m1,\n",
    "                         mass2=m2,\n",
    "                         f_lower=f_low,\n",
    "                         delta_f=df,phase_order=0, amplitude_order=0)\n",
    "waveform2,waveform2c = waveform.get_fd_waveform(approximant=\"TaylorF2\",\n",
    "                         mass1=m3,\n",
    "                         mass2=m4,\n",
    "                         f_lower=f_low,\n",
    "                         delta_f=df,phase_order=0, amplitude_order=0)"
   ]
  },
  {
   "cell_type": "code",
   "execution_count": 5,
   "metadata": {},
   "outputs": [
    {
     "name": "stdout",
     "output_type": "stream",
     "text": [
      "225136\n"
     ]
    }
   ],
   "source": [
    "# Resize the waveforms to the same length\n",
    "flen = max(len(waveform1), len(waveform2))\n",
    "waveform1.resize(flen)\n",
    "waveform2.resize(flen)\n",
    "print(flen)"
   ]
  },
  {
   "cell_type": "code",
   "execution_count": 7,
   "metadata": {},
   "outputs": [],
   "source": [
    "# Generate the aLIGO ZDHP PSD\n",
    "psd1 = psd.analytical.flat_unity(flen, df, f_low)"
   ]
  },
  {
   "cell_type": "code",
   "execution_count": 8,
   "metadata": {},
   "outputs": [
    {
     "name": "stdout",
     "output_type": "stream",
     "text": [
      "The match is: 0.0605\n",
      "439843\n"
     ]
    }
   ],
   "source": [
    "# Note: This takes a while the first time as an FFT plan is generated\n",
    "# subsequent calls are much faster.\n",
    "m, i = filter.match(waveform1, waveform2, psd=psd1, low_frequency_cutoff=f_low)\n",
    "print('The match is: {:.4f}'.format(m))\n",
    "print(i)"
   ]
  },
  {
   "cell_type": "code",
   "execution_count": 11,
   "metadata": {},
   "outputs": [
    {
     "name": "stdout",
     "output_type": "stream",
     "text": [
      "sigsq1 = 9.50844e-21\n",
      "sigsq2 = 9.50844e-21\n",
      "sig1 = 1.09086e-19\n",
      "sig2 = 6.20052e-20\n",
      "comp_overlap = 0.00128715 + -0.00201996 i\n",
      "overlap = 0.00128715\n"
     ]
    }
   ],
   "source": [
    "sigsq1 = filter.sigmasq(waveform1, waveform2,low_frequency_cutoff=f_low)\n",
    "print(\"sigsq1 = %g\" %sigsq1)\n",
    "sigsq2 = filter.sigmasq(waveform1, waveform2,low_frequency_cutoff=f_low)\n",
    "print(\"sigsq2 = %g\" %sigsq2)\n",
    "sig1 = filter.sigma(waveform1,psd1,low_frequency_cutoff=f_low)\n",
    "print(\"sig1 = %g\" %sig1)\n",
    "sig2 = filter.sigma(waveform2,psd1,low_frequency_cutoff=f_low)\n",
    "print(\"sig2 = %g\" %sig2)\n",
    "comp_overlap = filter.overlap_cplx(waveform1, waveform2, psd=psd1, low_frequency_cutoff=f_low)\n",
    "print(\"comp_overlap = %g + %g i\" %(comp_overlap.real,comp_overlap.imag))\n",
    "overlap = filter.overlap(waveform1, waveform2, psd=psd1, low_frequency_cutoff=f_low)\n",
    "print(\"overlap = %g\" %overlap)"
   ]
  },
  {
   "cell_type": "code",
   "execution_count": null,
   "metadata": {},
   "outputs": [],
   "source": []
  }
 ],
 "metadata": {
  "kernelspec": {
   "display_name": "PyCBC - Py2",
   "language": "python",
   "name": "pycbc_py2"
  },
  "language_info": {
   "codemirror_mode": {
    "name": "ipython",
    "version": 2
   },
   "file_extension": ".py",
   "mimetype": "text/x-python",
   "name": "python",
   "nbconvert_exporter": "python",
   "pygments_lexer": "ipython2",
   "version": "2.7.5"
  }
 },
 "nbformat": 4,
 "nbformat_minor": 2
}
