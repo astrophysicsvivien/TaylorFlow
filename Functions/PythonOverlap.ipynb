{
 "cells": [
  {
   "cell_type": "code",
   "execution_count": 1,
   "metadata": {},
   "outputs": [],
   "source": [
    "import numpy as np\n",
    "import scipy as sp \n",
    "import matplotlib.pyplot as plt\n",
    "from pycbc import waveform,filter"
   ]
  },
  {
   "cell_type": "code",
   "execution_count": 2,
   "metadata": {},
   "outputs": [],
   "source": [
    "def ComplexInnerProduct(a,b,delta_f,weights='none'):\n",
    "    \"computes complex inner product in the fourier domain IP = 4RE deltaf sum((a * conguagte(b))/PSD Weights)\"\n",
    "    if weights =='none':\n",
    "        weights = np.ones(len(a))\n",
    "        \n",
    "    return 4*df*(np.vdot((a/weights),(b/weights)))\n",
    "\n",
    "def InnerProduct(a,b,delta_f,weights='none'):\n",
    "    \"returns real component of Inner Product\"\n",
    "    return ComplexInnerProduct(a,b,delta_f,weights).real\n",
    "\n",
    "def sigsq(a,weight,delta_f):\n",
    "    \"returns the normal of a waveform (root of inner product with itself)\"\n",
    "    return 4*df*np.real((np.vdot((a/weights),(a/weights))))\n",
    "\n",
    "def sig(a,weight,delta_f):\n",
    "    \n",
    "    return np.sqrt(sigsq(a,weight,delta_f))\n",
    "\n",
    "def overlap(h1,h2,psd,delta_f):\n",
    "    \"returns the normalised overlap of the signals \"\n",
    "    overlap = (1/sig(h1,psd,delta_f)/sig(h2,psd,delta_f))*InnerProduct(h1,h2,df,weights)\n",
    "    return overlap"
   ]
  },
  {
   "cell_type": "code",
   "execution_count": 3,
   "metadata": {},
   "outputs": [],
   "source": [
    "m1 = 10\n",
    "m2 = 10\n",
    "m3 = 5\n",
    "m4 = 5\n",
    "f_low = 20\n",
    "df = 1./512\n",
    "\n",
    "waveform1,waveform1c = waveform.get_fd_waveform(approximant=\"TaylorF2\",\n",
    "                         mass1=m1,\n",
    "                         mass2=m2,\n",
    "                         f_lower=f_low,\n",
    "                         delta_f=df,phase_order=0, amplitude_order=0)\n",
    "waveform2,waveform2c = waveform.get_fd_waveform(approximant=\"TaylorF2\",\n",
    "                         mass1=m3,\n",
    "                         mass2=m4,\n",
    "                         f_lower=f_low,\n",
    "                         delta_f=df,phase_order=0, amplitude_order=0)"
   ]
  },
  {
   "cell_type": "code",
   "execution_count": 4,
   "metadata": {},
   "outputs": [
    {
     "ename": "NameError",
     "evalue": "name 'pycbc_waveform' is not defined",
     "output_type": "error",
     "traceback": [
      "\u001b[0;31m---------------------------------------------------------------------------\u001b[0m",
      "\u001b[0;31mNameError\u001b[0m                                 Traceback (most recent call last)",
      "\u001b[0;32m<ipython-input-4-ce9759d6d1d9>\u001b[0m in \u001b[0;36m<module>\u001b[0;34m\u001b[0m\n\u001b[0;32m----> 1\u001b[0;31m \u001b[0mweights\u001b[0m \u001b[0;34m=\u001b[0m \u001b[0mnp\u001b[0m\u001b[0;34m.\u001b[0m\u001b[0mones\u001b[0m\u001b[0;34m(\u001b[0m\u001b[0mlen\u001b[0m\u001b[0;34m(\u001b[0m\u001b[0mpycbc_waveform\u001b[0m\u001b[0;34m)\u001b[0m\u001b[0;34m)\u001b[0m\u001b[0;34m\u001b[0m\u001b[0;34m\u001b[0m\u001b[0m\n\u001b[0m\u001b[1;32m      2\u001b[0m \u001b[0mInnerP\u001b[0m \u001b[0;34m=\u001b[0m \u001b[0mComplexInnerProduct\u001b[0m\u001b[0;34m(\u001b[0m\u001b[0mwaveform1\u001b[0m\u001b[0;34m,\u001b[0m\u001b[0mwaveform2\u001b[0m\u001b[0;34m,\u001b[0m\u001b[0mdf\u001b[0m\u001b[0;34m)\u001b[0m\u001b[0;34m\u001b[0m\u001b[0;34m\u001b[0m\u001b[0m\n\u001b[1;32m      3\u001b[0m \u001b[0mRealInnerP\u001b[0m\u001b[0;34m=\u001b[0m \u001b[0mInnerProduct\u001b[0m\u001b[0;34m(\u001b[0m\u001b[0mwaveform1\u001b[0m\u001b[0;34m,\u001b[0m\u001b[0mwaveform2\u001b[0m\u001b[0;34m,\u001b[0m\u001b[0mdf\u001b[0m\u001b[0;34m)\u001b[0m\u001b[0;34m\u001b[0m\u001b[0;34m\u001b[0m\u001b[0m\n\u001b[1;32m      4\u001b[0m \u001b[0msigsqh1\u001b[0m \u001b[0;34m=\u001b[0m \u001b[0msigsq\u001b[0m\u001b[0;34m(\u001b[0m\u001b[0mwaveform1\u001b[0m\u001b[0;34m,\u001b[0m\u001b[0mweights\u001b[0m\u001b[0;34m,\u001b[0m\u001b[0mdf\u001b[0m\u001b[0;34m)\u001b[0m\u001b[0;34m\u001b[0m\u001b[0;34m\u001b[0m\u001b[0m\n\u001b[1;32m      5\u001b[0m \u001b[0msigsqh2\u001b[0m \u001b[0;34m=\u001b[0m \u001b[0msigsq\u001b[0m\u001b[0;34m(\u001b[0m\u001b[0mwaveform2\u001b[0m\u001b[0;34m,\u001b[0m\u001b[0mweights\u001b[0m\u001b[0;34m,\u001b[0m\u001b[0mdf\u001b[0m\u001b[0;34m)\u001b[0m\u001b[0;34m\u001b[0m\u001b[0;34m\u001b[0m\u001b[0m\n",
      "\u001b[0;31mNameError\u001b[0m: name 'pycbc_waveform' is not defined"
     ]
    }
   ],
   "source": [
    "weights = np.ones(len(pycbc_waveform))\n",
    "InnerP = ComplexInnerProduct(waveform1,waveform2,df)\n",
    "RealInnerP= InnerProduct(waveform1,waveform2,df)\n",
    "sigsqh1 = sigsq(waveform1,weights,df)\n",
    "sigsqh2 = sigsq(waveform2,weights,df)\n",
    "sigh1 = sig(pwaveform1,weights,df)\n",
    "sigh2 = sig(waveform2,weights,df)\n",
    "signal_overlap = overlap(waveform1,waveform2,weights,df)"
   ]
  },
  {
   "cell_type": "code",
   "execution_count": null,
   "metadata": {},
   "outputs": [],
   "source": [
    "print(InnerP)\n",
    "print(RealInnerP)\n",
    "print(sigsqh1) \n",
    "print(sigsqh2)\n",
    "print(sigh1)\n",
    "print(sigh2)\n",
    "print(signal_overlap)"
   ]
  },
  {
   "cell_type": "code",
   "execution_count": null,
   "metadata": {},
   "outputs": [],
   "source": []
  }
 ],
 "metadata": {
  "kernelspec": {
   "display_name": "ligo-py36",
   "language": "python",
   "name": "ligo-py36"
  },
  "language_info": {
   "codemirror_mode": {
    "name": "ipython",
    "version": 3
   },
   "file_extension": ".py",
   "mimetype": "text/x-python",
   "name": "python",
   "nbconvert_exporter": "python",
   "pygments_lexer": "ipython3",
   "version": "3.6.7"
  }
 },
 "nbformat": 4,
 "nbformat_minor": 2
}
