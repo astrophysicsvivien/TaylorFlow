{
 "cells": [
  {
   "cell_type": "code",
   "execution_count": 1,
   "metadata": {},
   "outputs": [],
   "source": [
    "from pycbc import types, fft, waveform, psd, filter\n",
    "import matplotlib.pyplot as plt\n",
    "import numpy as np"
   ]
  },
  {
   "cell_type": "code",
   "execution_count": 2,
   "metadata": {},
   "outputs": [
    {
     "name": "stderr",
     "output_type": "stream",
     "text": [
      "/cvmfs/oasis.opensciencegrid.org/ligo/sw/pycbc/x86_64_rhel_7/virtualenv/pycbc-v1.14.1/lib/python2.7/site-packages/numpy/core/numeric.py:501: ComplexWarning: Casting complex values to real discards the imaginary part\n",
      "  return array(a, dtype, copy=False, order=order)\n"
     ]
    },
    {
     "data": {
      "text/plain": [
       "[<matplotlib.lines.Line2D at 0x7fec9efb86d0>]"
      ]
     },
     "execution_count": 2,
     "metadata": {},
     "output_type": "execute_result"
    },
    {
     "data": {
      "image/png": "[encoded data removed]",
      "text/plain": [
       "<Figure size 432x288 with 1 Axes>"
      ]
     },
     "metadata": {
      "needs_background": "light"
     },
     "output_type": "display_data"
    }
   ],
   "source": [
    "m1 = 1.4\n",
    "m2 = 1.4\n",
    "m3 = 5\n",
    "m4 = 5\n",
    "f_low = 20\n",
    "df = 1./512\n",
    "\n",
    "sp1,sc1 = waveform.get_fd_waveform(approximant=\"TaylorF2\",\n",
    "                         mass1=m1,\n",
    "                         mass2=m2,\n",
    "                         f_lower=f_low,\n",
    "                         delta_f=df,phase_order=0, amplitude_order=0)\n",
    "sp2,sc2 = waveform.get_fd_waveform(approximant=\"TaylorF2\",\n",
    "                         mass1=m3,\n",
    "                         mass2=m4,\n",
    "                         f_lower=f_low,\n",
    "                         delta_f=df,phase_order=0, amplitude_order=0)\n",
    "\n",
    "plt.plot(sp1.sample_frequencies,sp1)\n",
    "plt.plot(sp2.sample_frequencies,sp2)"
   ]
  },
  {
   "cell_type": "code",
   "execution_count": 3,
   "metadata": {},
   "outputs": [
    {
     "data": {
      "text/plain": [
       "array([ 0.00000000e+00+0.00000000e+00j,  0.00000000e+00+0.00000000e+00j,\n",
       "        0.00000000e+00+0.00000000e+00j, ...,\n",
       "       -6.25451966e-24+1.60160371e-23j, -6.25478504e-24+1.60159067e-23j,\n",
       "       -6.25505043e-24+1.60157763e-23j])"
      ]
     },
     "execution_count": 3,
     "metadata": {},
     "output_type": "execute_result"
    }
   ],
   "source": [
    "np.array(sp1.data)"
   ]
  },
  {
   "cell_type": "code",
   "execution_count": 4,
   "metadata": {},
   "outputs": [
    {
     "data": {
      "text/plain": [
       "array([0.00000000e+00, 1.95312500e-03, 3.90625000e-03, ...,\n",
       "       1.57041406e+03, 1.57041602e+03, 1.57041797e+03])"
      ]
     },
     "execution_count": 4,
     "metadata": {},
     "output_type": "execute_result"
    }
   ],
   "source": [
    "np.array(sp1.sample_frequencies)"
   ]
  },
  {
   "cell_type": "code",
   "execution_count": 5,
   "metadata": {},
   "outputs": [
    {
     "name": "stdout",
     "output_type": "stream",
     "text": [
      "804055\n"
     ]
    }
   ],
   "source": [
    "# Resize the waveforms to the same length\n",
    "flen = max(len(sp2), len(sp1))\n",
    "sp1.resize(flen)\n",
    "sp2.resize(flen)\n",
    "print(flen)"
   ]
  },
  {
   "cell_type": "code",
   "execution_count": 6,
   "metadata": {},
   "outputs": [],
   "source": [
    "# Generate the aLIGO ZDHP PSD\n",
    "psd1 = psd.analytical.flat_unity(flen, df, f_low)"
   ]
  },
  {
   "cell_type": "code",
   "execution_count": 7,
   "metadata": {},
   "outputs": [
    {
     "name": "stdout",
     "output_type": "stream",
     "text": [
      "The match is: 0.0182\n",
      "424932\n"
     ]
    }
   ],
   "source": [
    "# Note: This takes a while the first time as an FFT plan is generated\n",
    "# subsequent calls are much faster.\n",
    "m, i = filter.match(sp1, sp2, psd=psd1, low_frequency_cutoff=f_low)\n",
    "print('The match is: {:.4f}'.format(m))\n",
    "print(i)"
   ]
  },
  {
   "cell_type": "code",
   "execution_count": 8,
   "metadata": {},
   "outputs": [
    {
     "name": "stdout",
     "output_type": "stream",
     "text": [
      "sigsq1 = 4.66947e-40\n",
      "sigsq2 = 3.84464e-39\n",
      "sig1 = 2.1609e-20\n",
      "sig2 = 6.20052e-20\n",
      "comp_overlap = 0.000161914 + -2.796e-05 i\n",
      "overlap = 0.000161914\n"
     ]
    }
   ],
   "source": [
    "sigsq1 = filter.sigmasq(sp1,psd1,low_frequency_cutoff=f_low)\n",
    "print(\"sigsq1 = %g\" %sigsq1)\n",
    "sigsq2 = filter.sigmasq(sp2,psd1,low_frequency_cutoff=f_low)\n",
    "print(\"sigsq2 = %g\" %sigsq2)\n",
    "sig1 = filter.sigma(sp1,psd1,low_frequency_cutoff=f_low)\n",
    "print(\"sig1 = %g\" %sig1)\n",
    "sig2 = filter.sigma(sp2,psd1,low_frequency_cutoff=f_low)\n",
    "print(\"sig2 = %g\" %sig2)\n",
    "comp_overlap = filter.overlap_cplx(sp1, sp2, psd=psd1, low_frequency_cutoff=f_low)\n",
    "print(\"comp_overlap = %g + %g i\" %(comp_overlap.real,comp_overlap.imag))\n",
    "overlap = filter.overlap(sp1, sp2, psd=psd1, low_frequency_cutoff=f_low)\n",
    "print(\"overlap = %g\" %overlap)"
   ]
  },
  {
   "cell_type": "code",
   "execution_count": null,
   "metadata": {},
   "outputs": [],
   "source": []
  }
 ],
 "metadata": {
  "kernelspec": {
   "display_name": "PyCBC - Py2",
   "language": "python",
   "name": "pycbc_py2"
  },
  "language_info": {
   "codemirror_mode": {
    "name": "ipython",
    "version": 2
   },
   "file_extension": ".py",
   "mimetype": "text/x-python",
   "name": "python",
   "nbconvert_exporter": "python",
   "pygments_lexer": "ipython2",
   "version": "2.7.5"
  }
 },
 "nbformat": 4,
 "nbformat_minor": 2
}
