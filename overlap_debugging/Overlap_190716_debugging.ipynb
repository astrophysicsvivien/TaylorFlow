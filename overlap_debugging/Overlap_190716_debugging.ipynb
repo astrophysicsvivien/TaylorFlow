{
 "cells": [
  {
   "cell_type": "code",
   "execution_count": 1,
   "metadata": {},
   "outputs": [],
   "source": [
    "#Preamble\n",
    "import tensorflow as tf\n",
    "#enable Eager execution\n",
    "tf.enable_eager_execution()\n",
    "\n",
    "import numpy as np\n",
    "import matplotlib.pyplot as plt\n",
    "import TaylorFlow_190716 as tlf\n",
    "\n",
    "def cmplxInnerProd(temp,data,psd,df):\n",
    "    \"computes complex inner product in the fourier domain IP = 4 deltaf sum((a * conguagte(b))/Weights)\"\n",
    "    \n",
    "    temp_psd = tf.divide(temp,tf.sqrt(psd))\n",
    "    data_psd = tf.divide(data,tf.sqrt(psd))\n",
    "    \n",
    "    return tf.multiply((4*df),tf.reduce_sum(tf.multiply(temp_psd,data_psd)))\n",
    "\n",
    "def InnerProd(temp,data,psd,df):\n",
    "    \"computes inner product in the fourier domain IP = 4 deltaf RE sum((a * conguagte(b))/Weights)\"\n",
    "    \n",
    "    return tf.real(cmplxInnerProd(temp,data,psd,df))\n",
    "\n",
    "def sigsq(temp, psd, df):\n",
    "    \"computes sig^2 = (a|a), which can then be used to normalise function \"\n",
    "    temp_psd = tf.divide(temp,psd)\n",
    "    \n",
    "    return tf.real(tf.multiply(4*df,tf.reduce_sum(tf.multiply(temp_psd,temp_psd))))\n",
    "\n",
    "def sig(temp, psd, df):\n",
    "    \"returns the sigma value of the signal\"\n",
    "    \n",
    "    return tf.sqrt(sigsq(temp, psd, df))\n",
    "\n",
    "def TensorNorm(a):\n",
    "    \"divides by max value of tensor to normalise between 0 and 1\"\n",
    "    \n",
    "    # This function was included as multiplying the tensors without normalizing between zero and one\n",
    "    # was setting all values to zero as they were so low.\n",
    "    \n",
    "    TensorMax = tf.reduce_max(tf.abs(a))\n",
    "    Tmax_cmplx_recip = tf.complex(tf.reciprocal(TensorMax),0.)\n",
    "    \n",
    "    return tf.multiply(a,Tmax_cmplx_recip),TensorMax\n",
    "\n",
    "def overlap(temp,data,psd,df):\n",
    "    \"Overlap equation\"\n",
    "\n",
    "    norm = tf.divide(1,tf.multiply(sig(temp,psd,df),sig(data,psd,df)))\n",
    "    inner = InnerProd(temp,data,psd,df)\n",
    "    overlap = tf.multiply(norm,inner)\n",
    "        \n",
    "    return overlap\n",
    "\n",
    "def SNR(temp,data,psd,df):\n",
    "    \"Returns the SNR along with the normalization\"\n",
    "    norm = tf.reciprocal(sig(temp,psd,df))\n",
    "    inner = InnerProd(temp,data,psd,df)\n",
    "    \n",
    "    return tf.multiply(norm,inner)"
   ]
  },
  {
   "cell_type": "code",
   "execution_count": 2,
   "metadata": {},
   "outputs": [
    {
     "name": "stdout",
     "output_type": "stream",
     "text": [
      "WARNING:tensorflow:From C:\\ProgramData\\Anaconda3\\lib\\site-packages\\tensorflow\\python\\ops\\resource_variable_ops.py:642: colocate_with (from tensorflow.python.framework.ops) is deprecated and will be removed in a future version.\n",
      "Instructions for updating:\n",
      "Colocations handled automatically by placer.\n"
     ]
    }
   ],
   "source": [
    "# set parameters for generating waveform\n",
    "m1 = 1.4 \n",
    "m2 = 1.4\n",
    "m3 = 1.4\n",
    "m4 = 1.4\n",
    "df = 1./2048\n",
    "f_low = 20.\n",
    "f_high = 2000.\n",
    "\n",
    "#produce waveforms\n",
    "freq1, wvf1 = tlf.TaylorFlow(m1, m2, f_low=f_low, f_high=f_high, df = df, t_c=0., phi_c = 0)\n",
    "freq2, wvf2 = tlf.TaylorFlow(m3, m4, f_low=f_low, f_high=f_high, df = df, t_c=0., phi_c = 0)\n",
    "\n",
    "#normalize waveforms\n",
    "wvfn1,max1 = TensorNorm(wvf1)\n",
    "wvfn2 = tf.multiply(wvf2,tf.complex(tf.reciprocal(max1),0.))\n",
    "\n",
    "#define psd for overlap\n",
    "psd = tf.complex(np.ones(len(wvf1),dtype=np.float32),0.)"
   ]
  },
  {
   "cell_type": "code",
   "execution_count": 3,
   "metadata": {},
   "outputs": [
    {
     "data": {
      "text/plain": [
       "[<matplotlib.lines.Line2D at 0x1892e948470>]"
      ]
     },
     "execution_count": 3,
     "metadata": {},
     "output_type": "execute_result"
    },
    {
     "data": {
      "image/png": "[encoded data removed]",
      "text/plain": [
       "<Figure size 432x288 with 1 Axes>"
      ]
     },
     "metadata": {
      "needs_background": "light"
     },
     "output_type": "display_data"
    }
   ],
   "source": [
    "# plot waveforms for visulal comparison\n",
    "plt.loglog(freq1.numpy(),abs(wvfn1))\n",
    "plt.loglog(freq2.numpy(),abs(wvfn2))"
   ]
  },
  {
   "cell_type": "code",
   "execution_count": 4,
   "metadata": {},
   "outputs": [
    {
     "name": "stdout",
     "output_type": "stream",
     "text": [
      "['overlap', 1.0]\n",
      "['SNR', 7.734488]\n",
      "['cmplxIP', (59.82231+0.0009052215j)]\n",
      "['IP', 59.82231]\n",
      "['sig1', 7.7344885]\n",
      "['sig2', 7.7344885]\n",
      "['sigsq1', 59.82231]\n",
      "['sigsq2', 59.82231]\n"
     ]
    }
   ],
   "source": [
    "# overlap function results\n",
    "overlap = overlap(wvfn1,wvfn2,psd,df)\n",
    "print([\"overlap\",overlap.numpy()])\n",
    "SNR = SNR(wvfn1,wvfn2,psd,df)\n",
    "print([\"SNR\",SNR.numpy()])\n",
    "cmplxIP = cmplxInnerProd(wvfn1,wvfn2,psd,df)\n",
    "print([\"cmplxIP\",cmplxIP.numpy()])\n",
    "IP = InnerProd(wvfn1,wvfn2,psd,df)\n",
    "print([\"IP\",IP.numpy()])\n",
    "sig1 = sig(wvfn1,psd,df)\n",
    "print([\"sig1\",sig1.numpy()])\n",
    "sig2 = sig(wvfn2,psd,df)\n",
    "print([\"sig2\",sig2.numpy()])\n",
    "sigsq1= sigsq(wvfn1, psd, df)\n",
    "print([\"sigsq1\",sigsq1.numpy()])\n",
    "sigsq2= sigsq(wvfn2, psd, df)\n",
    "print([\"sigsq2\",sigsq2.numpy()])"
   ]
  },
  {
   "cell_type": "code",
   "execution_count": null,
   "metadata": {},
   "outputs": [],
   "source": []
  }
 ],
 "metadata": {
  "kernelspec": {
   "display_name": "Python 3",
   "language": "python",
   "name": "python3"
  },
  "language_info": {
   "codemirror_mode": {
    "name": "ipython",
    "version": 3
   },
   "file_extension": ".py",
   "mimetype": "text/x-python",
   "name": "python",
   "nbconvert_exporter": "python",
   "pygments_lexer": "ipython3",
   "version": "3.7.3"
  }
 },
 "nbformat": 4,
 "nbformat_minor": 2
}
