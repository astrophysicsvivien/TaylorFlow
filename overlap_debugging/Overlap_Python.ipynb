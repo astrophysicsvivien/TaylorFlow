{
 "cells": [
  {
   "cell_type": "code",
   "execution_count": 1,
   "metadata": {},
   "outputs": [],
   "source": [
    "import numpy as np\n",
    "import scipy as np \n",
    "import matplotlib.pyplot as plt\n",
    "from pycbc import waveform,filter"
   ]
  },
  {
   "cell_type": "code",
   "execution_count": 7,
   "metadata": {},
   "outputs": [],
   "source": [
    "def ComplexInnerProduct(a,b,delta_f,weights='none'):\n",
    "    \"computes complex inner product in the fourier domain IP = 4RE deltaf sum((a * conguagte(b))/PSD Weights)\"\n",
    "    if weights =='none':\n",
    "        weights = np.ones(len(a))\n",
    "        \n",
    "    return 4*df*(np.vdot((a/weights),(b/weights)))\n",
    "\n",
    "def InnerProduct(a,b,delta_f,weights='none'):\n",
    "    \"returns real component of Inner Product\"\n",
    "    return ComplexInnerProduct(a,b,delta_f,weights).real\n",
    "\n",
    "def sigsq(a,weight,delta_f):\n",
    "    \"returns the normal of a waveform (root of inner product with itself)\"\n",
    "    return 4*df*np.real((np.vdot((a/weights),(a/weights))))\n",
    "\n",
    "def sig(a,weight,delta_f):\n",
    "    \n",
    "    return np.sqrt(sigsq(a,weight,delta_f))\n",
    "\n",
    "def overlap(h1,h2,psd,delta_f):\n",
    "    \"returns the normalised overlap of the signals \"\n",
    "    overlap = (1/sig(h1,psd,delta_f)/sig(h2,psd,delta_f))*InnerProduct(h1,h2,df,weights)\n",
    "    return overlap"
   ]
  },
  {
   "cell_type": "code",
   "execution_count": 8,
   "metadata": {},
   "outputs": [
    {
     "name": "stdout",
     "output_type": "stream",
     "text": [
      "[0.+0.j 0.+0.j 0.+0.j ... 0.+0.j 0.+0.j 0.+0.j]\n"
     ]
    },
    {
     "data": {
      "text/plain": [
       "[<matplotlib.lines.Line2D at 0x7f4ec2a15400>]"
      ]
     },
     "execution_count": 8,
     "metadata": {},
     "output_type": "execute_result"
    },
    {
     "data": {
      "image/png": "[encoded data removed]",
      "text/plain": [
       "<Figure size 432x288 with 1 Axes>"
      ]
     },
     "metadata": {
      "needs_background": "light"
     },
     "output_type": "display_data"
    }
   ],
   "source": [
    "m1 = 5\n",
    "m2 = 5\n",
    "m3 = 1.4\n",
    "m4 = 1.4\n",
    "f_low = 20\n",
    "df = 1./512\n",
    "\n",
    "hp1,hc1 = waveform.get_fd_waveform(approximant=\"TaylorF2\",\n",
    "                         mass1=m1,\n",
    "                         mass2=m2,\n",
    "                         f_lower=f_low,\n",
    "                         delta_f=df,phase_order=0)\n",
    "hp2,hc2 = waveform.get_fd_waveform(approximant=\"TaylorF2\",\n",
    "                         mass1=m3,\n",
    "                         mass2=m4,\n",
    "                         f_lower=f_low,\n",
    "                         delta_f=df,phase_order=0)\n",
    "\n",
    "flen = max(len(hp1), len(hp2))\n",
    "hp1.resize(flen)\n",
    "hp2.resize(flen)\n",
    "\n",
    "print(hp1)\n",
    "plt.plot(hp1.sample_frequencies,hp1)\n",
    "plt.plot(hp2.sample_frequencies,hp2)"
   ]
  },
  {
   "cell_type": "code",
   "execution_count": 9,
   "metadata": {},
   "outputs": [
    {
     "name": "stderr",
     "output_type": "stream",
     "text": [
      "/cvmfs/ligo-containers.opensciencegrid.org/lscsoft/conda/latest/envs/ligo-py36/lib/python3.6/site-packages/ipykernel_launcher.py:3: FutureWarning: elementwise comparison failed; returning scalar instead, but in the future will perform elementwise comparison\n",
      "  This is separate from the ipykernel package so we can avoid doing imports until\n"
     ]
    }
   ],
   "source": [
    "weights = np.ones(len(hp1))\n",
    "InnerP = ComplexInnerProduct(hp1,hp2,df)\n",
    "RealInnerP= InnerProduct(hp1,hp2,df)\n",
    "sigsqh1 = sigsq(hp1,weights,df)\n",
    "sigsqh2 = sigsq(hp2,weights,df)\n",
    "sigh1 = sig(hp1,weights,df)\n",
    "sigh2 = sig(hp2,weights,df)\n",
    "signal_overlap = overlap(hp1,hp2,weights,df)"
   ]
  },
  {
   "cell_type": "code",
   "execution_count": 10,
   "metadata": {},
   "outputs": [
    {
     "name": "stdout",
     "output_type": "stream",
     "text": [
      "(2.1694349977540815e-43+3.746272591276743e-44j)\n",
      "2.1694349977540815e-43\n",
      "3.844644103306487e-39\n",
      "4.669473666873177e-40\n",
      "6.200519416392861e-20\n",
      "2.1608964961036837e-20\n",
      "0.00016191407567803581\n"
     ]
    }
   ],
   "source": [
    "print(InnerP)\n",
    "print(RealInnerP)\n",
    "print(sigsqh1) \n",
    "print(sigsqh2)\n",
    "print(sigh1)\n",
    "print(sigh2)\n",
    "print(signal_overlap)"
   ]
  },
  {
   "cell_type": "code",
   "execution_count": null,
   "metadata": {},
   "outputs": [],
   "source": []
  },
  {
   "cell_type": "code",
   "execution_count": null,
   "metadata": {},
   "outputs": [],
   "source": []
  }
 ],
 "metadata": {
  "kernelspec": {
   "display_name": "ligo-py36",
   "language": "python",
   "name": "ligo-py36"
  },
  "language_info": {
   "codemirror_mode": {
    "name": "ipython",
    "version": 3
   },
   "file_extension": ".py",
   "mimetype": "text/x-python",
   "name": "python",
   "nbconvert_exporter": "python",
   "pygments_lexer": "ipython3",
   "version": "3.6.7"
  }
 },
 "nbformat": 4,
 "nbformat_minor": 2
}
