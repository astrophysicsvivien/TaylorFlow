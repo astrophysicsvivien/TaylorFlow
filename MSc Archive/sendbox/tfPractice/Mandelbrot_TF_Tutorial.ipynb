{
  "nbformat": 4,
  "nbformat_minor": 0,
  "metadata": {
    "colab": {
      "name": "Mandelbrot_TF_Tutorial.ipynb",
      "version": "0.3.2",
      "provenance": []
    },
    "kernelspec": {
      "name": "python3",
      "display_name": "Python 3"
    }
  },
  "cells": [
    {
      "cell_type": "code",
      "metadata": {
        "id": "nFJza_QLstow",
        "colab_type": "code",
        "colab": {}
      },
      "source": [
        "#Import libraries for simulation\n",
        "import tensorflow as tf\n",
        "import numpy as np\n",
        "\n",
        "#Imports for visualization\n",
        "import PIL.Image\n",
        "from io import BytesIO\n",
        "from IPython.display import clear_output, Image, display"
      ],
      "execution_count": 0,
      "outputs": []
    },
    {
      "cell_type": "markdown",
      "metadata": {
        "id": "kg5j9TTeswqy",
        "colab_type": "text"
      },
      "source": [
        "Simple follwing of Tutorial to compute and display the Mandelbrot set with TensorFlow, tutorial from: https://www.tensorflow.org/tutorials/non-ml/mandelbrot"
      ]
    },
    {
      "cell_type": "code",
      "metadata": {
        "id": "cOnH9GPLs_a_",
        "colab_type": "code",
        "colab": {}
      },
      "source": [
        "# Define a function to display the fractal once its produced\n",
        "\n",
        "def DisplayFractal(a,fmt='jpeg'):\n",
        "    \"\"\"Display an array of iteration counts as a picture of a fractal\"\"\"\n",
        "    a_cyclic = (6.28*a/20).reshape(list(a.shape)+[1])\n",
        "    img = np.concatenate([10+20*np.cos(a_cyclic),30+50*np.sin(a_cyclic),155-80*np.cos(a_cyclic)],2)\n",
        "    img[a==a.max()] = 0\n",
        "    a = img\n",
        "    a = np.uint8(np.clip(a,0,255))\n",
        "    f = BytesIO()\n",
        "    PIL.Image.fromarray(a).sdave(f,fmt)\n",
        "    display(Image(data=f.getvalue()))\n",
        "    "
      ],
      "execution_count": 0,
      "outputs": []
    },
    {
      "cell_type": "code",
      "metadata": {
        "id": "U8Z6qAcgux9V",
        "colab_type": "code",
        "colab": {
          "base_uri": "https://localhost:8080/",
          "height": 70
        },
        "outputId": "ecfa1bca-4117-4f9f-83ca-c70d76af31b3"
      },
      "source": [
        "#Initiate interactive session\n",
        "\n",
        "sess = tf.InteractiveSession()\n",
        "\n",
        "# use numpy to create 2D array of complex numbers\n",
        "\n",
        "Y, X = np.mgrid[-1.3:1.3:0.005,-2:1:0.005]\n",
        "Z = X + 1J*Y\n",
        "\n",
        "#define and initialize Tensors\n",
        "\n",
        "xs = tf.constant(Z.astype(np.complex64))\n",
        "zs = tf.Variable(xs)\n",
        "ns = tf.Variable(tf.zeros_like(xs,tf.float32))"
      ],
      "execution_count": 49,
      "outputs": [
        {
          "output_type": "stream",
          "text": [
            "/usr/local/lib/python3.6/dist-packages/tensorflow/python/client/session.py:1735: UserWarning: An interactive session is already active. This can cause out-of-memory errors in some cases. You must explicitly call `InteractiveSession.close()` to release resources held by the other session(s).\n",
            "  warnings.warn('An interactive session is already active. This can '\n"
          ],
          "name": "stderr"
        }
      ]
    },
    {
      "cell_type": "code",
      "metadata": {
        "id": "WqbTl_5IvuAO",
        "colab_type": "code",
        "colab": {
          "base_uri": "https://localhost:8080/",
          "height": 537
        },
        "outputId": "aff1aa44-33f1-4e84-c423-bdb292cfc043"
      },
      "source": [
        "#Initiate global variable and define computation\n",
        "\n",
        "    \n",
        "\n",
        "tf.global_variables_initializer().run()\n",
        "\n",
        "#compute new values of z:z^2 +x\n",
        "\n",
        "zs_ = zs*zs + xs\n",
        "\n",
        "#Have we diverged with new value?\n",
        "not_diverged = tf.abs(zs_) < 4\n",
        "\n",
        "#operation to update zs and iteration count\n",
        "\n",
        "step = tf.group(zs.assign(zs_),ns.assign_add(tf.cast(not_diverged,tf.float32)))\n",
        "\n",
        "#finally run the code for some steps\n",
        "\n",
        "for i in range(100):step.run()\n",
        "   \n",
        "\n",
        "DisplayFractal(ns.eval())"
      ],
      "execution_count": 52,
      "outputs": [
        {
          "output_type": "display_data",
          "data": {
            "image/jpeg": "[encoded data removed]",
            "text/plain": [
              "<IPython.core.display.Image object>"
            ]
          },
          "metadata": {
            "tags": []
          }
        }
      ]
    }
  ]
}
