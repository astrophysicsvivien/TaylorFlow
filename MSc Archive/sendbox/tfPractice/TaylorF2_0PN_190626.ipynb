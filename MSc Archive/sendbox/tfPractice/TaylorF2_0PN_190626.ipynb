{
  "nbformat": 4,
  "nbformat_minor": 0,
  "metadata": {
    "colab": {
      "name": "TaylorF2_0PN_190626.ipynb",
      "version": "0.3.2",
      "provenance": [],
      "collapsed_sections": []
    },
    "kernelspec": {
      "name": "python3",
      "display_name": "Python 3"
    }
  },
  "cells": [
    {
      "cell_type": "code",
      "metadata": {
        "id": "DazHAdyobCaT",
        "colab_type": "code",
        "colab": {}
      },
      "source": [
        "import tensorflow as tf\n",
        "import numpy as np\n",
        "from numpy import complex128\n",
        "import matplotlib.pyplot as plt\n",
        "\n",
        "# tensorflow 0PN waveform\n",
        "# equations based upon: \n",
        "# https://github.com/astrophysicsvivien/TaylorFlow/blob/master/documents/TaylorF2.pdf\n",
        "\n"
      ],
      "execution_count": 0,
      "outputs": []
    },
    {
      "cell_type": "code",
      "metadata": {
        "id": "he28Yc9cEU82",
        "colab_type": "code",
        "colab": {}
      },
      "source": [
        "def phases_0PN(mTot,freq,mSym,t_c,phi_c):\n",
        "    # returns the phase orders of the 0PN waveform\n",
        "    # arguments are total mass, frequencies, symertric mass ratio, coelescence time & coalecencse phase\n",
        "    return (3/128)*((np.pi*mTot*freq)**(-5/3))*(1/mSym)+(2*np.pi*freq*t_c) - phi_c\n",
        "\n",
        "def amp_0PN(mChirp,distL,freq):\n",
        "    #returns the amplitude of the 0PN waveform\n",
        "    #arguments are chirp mass, luminosity distance and frequency range\n",
        "    \n",
        "    return (1/distL)*((5/24)**(1/2))*(np.pi**(-2/3))*(mChirp**(5/6))\n",
        "\n",
        "def initc(f_low,f_ISCO,df):\n",
        "    # Define range of frequencies to compute waveform over\n",
        "    N = int(f_ISCO/df + 1)\n",
        "    freq = np.linspace(f_low,f_ISCO,N,dtype=complex128)\n",
        "    return freq\n",
        "\n",
        "def TaylorF2_0PN(mass1,mass2,f_low,df,d_L,phi_c=np.pi):\n",
        "    #Returns 0PN taylorF2 waveform\n",
        "    #arguments are masses of system starting frequency, frequency step, \n",
        "    #luminosity distance in Mpc,and coalescence phase\n",
        "    \n",
        "    #calculate mass parameters\n",
        "    M = mass1 + mass2\n",
        "    eta = (mass1*mass2)/(M**2)\n",
        "    mChirp = M*(eta**(3/5))\n",
        "    \n",
        "    #calculate frequency parameters\n",
        "    t_c = -1.0/df\n",
        "    \n",
        "    # calculatge frequency of innermost stable orbit and initilize frequency space \n",
        "    fISCO = 1/(6.**1.5*np.pi*M*4.93e-6)\n",
        "    f = initc(f_low,fISCO,df)\n",
        "    \n",
        "    #calculate waveform components\n",
        "    \n",
        "    LuminosityDistance = d_L*3.086e+22\n",
        "    A = amp_0PN(mChirp,LuminosityDistance,f)\n",
        "    Psi  = phases_0PN(M,f,eta,t_c,phi_c)\n",
        "    comp = 1j\n",
        "    \n",
        "    waveform = A*(f**(-7/6))*np.exp(comp*Psi)\n",
        "    return f, waveform\n",
        "\n"
      ],
      "execution_count": 0,
      "outputs": []
    },
    {
      "cell_type": "code",
      "metadata": {
        "id": "02qwmAqkEW5m",
        "colab_type": "code",
        "colab": {
          "base_uri": "https://localhost:8080/",
          "height": 326
        },
        "outputId": "ee25386b-3f9c-4a0c-f0a2-b959ae6db3cf"
      },
      "source": [
        "frequencies,waveform = TaylorF2_0PN(1.4,1.8,20,0.2,40)\n",
        "time_domain = np.fft.ifft(waveform)\n",
        "t = np.linspace(0,len(frequencies)-1,len(frequencies))\n",
        "\n",
        "plt.plot(t,waveform)\n",
        "plt.plot(t,time_domain)\n",
        "plt.legend(['f domain','t domain'])"
      ],
      "execution_count": 22,
      "outputs": [
        {
          "output_type": "stream",
          "text": [
            "/usr/local/lib/python3.6/dist-packages/numpy/core/numeric.py:538: ComplexWarning: Casting complex values to real discards the imaginary part\n",
            "  return array(a, dtype, copy=False, order=order)\n"
          ],
          "name": "stderr"
        },
        {
          "output_type": "execute_result",
          "data": {
            "text/plain": [
              "<matplotlib.legend.Legend at 0x7f6245a596a0>"
            ]
          },
          "metadata": {
            "tags": []
          },
          "execution_count": 22
        },
        {
          "output_type": "display_data",
          "data": {
            "image/png": "[encoded data removed]",
            "text/plain": [
              "<Figure size 432x288 with 1 Axes>"
            ]
          },
          "metadata": {
            "tags": []
          }
        }
      ]
    }
  ]
}
