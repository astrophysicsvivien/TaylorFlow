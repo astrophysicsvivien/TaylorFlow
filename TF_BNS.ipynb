{
  "nbformat": 4,
  "nbformat_minor": 0,
  "metadata": {
    "colab": {
      "name": "TF_BNS.ipynb",
      "version": "0.3.2",
      "provenance": [],
      "include_colab_link": true
    },
    "kernelspec": {
      "name": "python3",
      "display_name": "Python 3"
    }
  },
  "cells": [
    {
      "cell_type": "markdown",
      "metadata": {
        "id": "view-in-github",
        "colab_type": "text"
      },
      "source": [
        "<a href=\"https://colab.research.google.com/github/astrophysicsvivien/TaylorFlow/blob/master/TF_BNS.ipynb\" target=\"_parent\"><img src=\"https://colab.research.google.com/assets/colab-badge.svg\" alt=\"Open In Colab\"/></a>"
      ]
    },
    {
      "cell_type": "code",
      "metadata": {
        "id": "kX3B6N0PLNCJ",
        "colab_type": "code",
        "colab": {
          "base_uri": "https://localhost:8080/",
          "height": 605
        },
        "outputId": "4f1c7bd8-e05c-441a-8850-f03561619e37"
      },
      "source": [
        "pip install lalsuite pycbc"
      ],
      "execution_count": 1,
      "outputs": [
        {
          "output_type": "stream",
          "text": [
            "Requirement already satisfied: lalsuite in /usr/local/lib/python3.6/dist-packages (6.62)\n",
            "Requirement already satisfied: pycbc in /usr/local/lib/python3.6/dist-packages (1.14.1)\n",
            "Requirement already satisfied: python-dateutil in /usr/local/lib/python3.6/dist-packages (from lalsuite) (2.5.3)\n",
            "Requirement already satisfied: matplotlib in /usr/local/lib/python3.6/dist-packages (from lalsuite) (3.0.3)\n",
            "Requirement already satisfied: numpy>=1.7 in /usr/local/lib/python3.6/dist-packages (from lalsuite) (1.16.4)\n",
            "Requirement already satisfied: ligo-segments in /usr/local/lib/python3.6/dist-packages (from lalsuite) (1.2.0)\n",
            "Requirement already satisfied: scipy in /usr/local/lib/python3.6/dist-packages (from lalsuite) (1.3.1)\n",
            "Requirement already satisfied: lscsoft-glue in /usr/local/lib/python3.6/dist-packages (from lalsuite) (2.0.0)\n",
            "Requirement already satisfied: cython in /usr/local/lib/python3.6/dist-packages (from pycbc) (0.29.13)\n",
            "Requirement already satisfied: emcee==2.2.1 in /usr/local/lib/python3.6/dist-packages (from pycbc) (2.2.1)\n",
            "Requirement already satisfied: mpld3>=0.3 in /usr/local/lib/python3.6/dist-packages (from pycbc) (0.3)\n",
            "Requirement already satisfied: astropy>=2.0.3; python_version > \"3.0\" in /usr/local/lib/python3.6/dist-packages (from pycbc) (3.0.5)\n",
            "Requirement already satisfied: jinja2 in /usr/local/lib/python3.6/dist-packages (from pycbc) (2.10.1)\n",
            "Requirement already satisfied: decorator>=3.4.2 in /usr/local/lib/python3.6/dist-packages (from pycbc) (4.4.0)\n",
            "Requirement already satisfied: Mako>=1.0.1 in /usr/local/lib/python3.6/dist-packages (from pycbc) (1.1.0)\n",
            "Requirement already satisfied: beautifulsoup4>=4.6.0 in /usr/local/lib/python3.6/dist-packages (from pycbc) (4.6.3)\n",
            "Requirement already satisfied: pillow in /usr/local/lib/python3.6/dist-packages (from pycbc) (4.3.0)\n",
            "Requirement already satisfied: six>=1.10.0 in /usr/local/lib/python3.6/dist-packages (from pycbc) (1.12.0)\n",
            "Requirement already satisfied: requests>=1.2.1 in /usr/local/lib/python3.6/dist-packages (from pycbc) (2.21.0)\n",
            "Requirement already satisfied: h5py>=2.5 in /usr/local/lib/python3.6/dist-packages (from pycbc) (2.8.0)\n",
            "Requirement already satisfied: cycler>=0.10 in /usr/local/lib/python3.6/dist-packages (from matplotlib->lalsuite) (0.10.0)\n",
            "Requirement already satisfied: kiwisolver>=1.0.1 in /usr/local/lib/python3.6/dist-packages (from matplotlib->lalsuite) (1.1.0)\n",
            "Requirement already satisfied: pyparsing!=2.0.4,!=2.1.2,!=2.1.6,>=2.0.1 in /usr/local/lib/python3.6/dist-packages (from matplotlib->lalsuite) (2.4.2)\n",
            "Requirement already satisfied: pyOpenSSL in /usr/local/lib/python3.6/dist-packages (from lscsoft-glue->lalsuite) (19.0.0)\n",
            "Requirement already satisfied: MarkupSafe>=0.23 in /usr/local/lib/python3.6/dist-packages (from jinja2->pycbc) (1.1.1)\n",
            "Requirement already satisfied: olefile in /usr/local/lib/python3.6/dist-packages (from pillow->pycbc) (0.46)\n",
            "Requirement already satisfied: certifi>=2017.4.17 in /usr/local/lib/python3.6/dist-packages (from requests>=1.2.1->pycbc) (2019.6.16)\n",
            "Requirement already satisfied: chardet<3.1.0,>=3.0.2 in /usr/local/lib/python3.6/dist-packages (from requests>=1.2.1->pycbc) (3.0.4)\n",
            "Requirement already satisfied: idna<2.9,>=2.5 in /usr/local/lib/python3.6/dist-packages (from requests>=1.2.1->pycbc) (2.8)\n",
            "Requirement already satisfied: urllib3<1.25,>=1.21.1 in /usr/local/lib/python3.6/dist-packages (from requests>=1.2.1->pycbc) (1.24.3)\n",
            "Requirement already satisfied: setuptools in /usr/local/lib/python3.6/dist-packages (from kiwisolver>=1.0.1->matplotlib->lalsuite) (41.0.1)\n",
            "Requirement already satisfied: cryptography>=2.3 in /usr/local/lib/python3.6/dist-packages (from pyOpenSSL->lscsoft-glue->lalsuite) (2.7)\n",
            "Requirement already satisfied: asn1crypto>=0.21.0 in /usr/local/lib/python3.6/dist-packages (from cryptography>=2.3->pyOpenSSL->lscsoft-glue->lalsuite) (0.24.0)\n",
            "Requirement already satisfied: cffi!=1.11.3,>=1.8 in /usr/local/lib/python3.6/dist-packages (from cryptography>=2.3->pyOpenSSL->lscsoft-glue->lalsuite) (1.12.3)\n",
            "Requirement already satisfied: pycparser in /usr/local/lib/python3.6/dist-packages (from cffi!=1.11.3,>=1.8->cryptography>=2.3->pyOpenSSL->lscsoft-glue->lalsuite) (2.19)\n"
          ],
          "name": "stdout"
        }
      ]
    },
    {
      "cell_type": "code",
      "metadata": {
        "id": "6MIcY8XGLJql",
        "colab_type": "code",
        "colab": {}
      },
      "source": [
        "from pycbc.frame import read_frame\n",
        "from pycbc.filter import highpass_fir, lowpass_fir\n",
        "from pycbc.waveform import get_fd_waveform\n",
        "from pycbc.psd import welch, interpolate\n",
        "from pycbc.catalog import Merger\n",
        "\n",
        "import pylab\n",
        "import matplotlib.pyplot as plt"
      ],
      "execution_count": 0,
      "outputs": []
    },
    {
      "cell_type": "code",
      "metadata": {
        "id": "UaSltd-JLSk6",
        "colab_type": "code",
        "colab": {
          "base_uri": "https://localhost:8080/",
          "height": 283
        },
        "outputId": "0cdec970-c4ab-4f91-8d41-51388a0fbe46"
      },
      "source": [
        "for ifo in ['H1', 'L1']:\n",
        "    # Read data and remove low frequency content\n",
        "    h1 = Merger(\"GW170817\").strain(ifo)\n",
        "    h1 = highpass_fir(h1, 15, 8)\n",
        "\n",
        "    # Calculate the noise spectrum\n",
        "    psd = interpolate(welch(h1), 1.0 / h1.duration)\n",
        "\n",
        "    # whiten\n",
        "    white_strain = (h1.to_frequencyseries() / psd ** 0.5).to_timeseries()\n",
        "\n",
        "    # remove some of the high and low\n",
        "    smooth = highpass_fir(white_strain, 35, 8)\n",
        "    smooth = lowpass_fir(white_strain, 300, 8)\n",
        "    \n",
        "    # time shift and flip L1\n",
        "    if ifo == 'L1':\n",
        "        smooth *= -1\n",
        "        smooth.roll(int(.007 / smooth.delta_t))\n",
        "        \n",
        "    pylab.plot(smooth.sample_times, smooth, label=ifo)\n",
        "\n",
        "pylab.legend()\n",
        "pylab.xlim(1187008882.4-32, 1187008882.4+32)\n",
        "pylab.ylim(-500, 500)\n",
        "pylab.ylabel('Smoothed-Whitened Strain')\n",
        "pylab.grid()\n",
        "pylab.xlabel('GPS Time (s)')\n",
        "pylab.show()"
      ],
      "execution_count": 3,
      "outputs": [
        {
          "output_type": "display_data",
          "data": {
            "image/png": "[encoded data removed]",
            "text/plain": [
              "<Figure size 432x288 with 1 Axes>"
            ]
          },
          "metadata": {
            "tags": []
          }
        }
      ]
    },
    {
      "cell_type": "code",
      "metadata": {
        "id": "bVsaNw05NN6O",
        "colab_type": "code",
        "colab": {
          "base_uri": "https://localhost:8080/",
          "height": 319
        },
        "outputId": "ec39ad30-f663-4ca5-bb84-c77fc01069c4"
      },
      "source": [
        "fd_smooth = smooth.to_frequencyseries()\n",
        "plt.plot(fd_smooth.sample_frequencies,fd_smooth)"
      ],
      "execution_count": 4,
      "outputs": [
        {
          "output_type": "stream",
          "text": [
            "/usr/local/lib/python3.6/dist-packages/numpy/core/numeric.py:538: ComplexWarning: Casting complex values to real discards the imaginary part\n",
            "  return array(a, dtype, copy=False, order=order)\n"
          ],
          "name": "stderr"
        },
        {
          "output_type": "execute_result",
          "data": {
            "text/plain": [
              "[<matplotlib.lines.Line2D at 0x7fb6f8c355c0>]"
            ]
          },
          "metadata": {
            "tags": []
          },
          "execution_count": 4
        },
        {
          "output_type": "display_data",
          "data": {
            "image/png": "[encoded data removed]",
            "text/plain": [
              "<Figure size 432x288 with 1 Axes>"
            ]
          },
          "metadata": {
            "tags": []
          }
        }
      ]
    },
    {
      "cell_type": "code",
      "metadata": {
        "id": "15J1komHRBd0",
        "colab_type": "code",
        "colab": {}
      },
      "source": [
        "import tensorflow as tf\n",
        "#enable Eager execution\n",
        "tf.enable_eager_execution()\n",
        "\n",
        "import numpy as np\n",
        "import matplotlib.pyplot as plt\n",
        "import time"
      ],
      "execution_count": 0,
      "outputs": []
    },
    {
      "cell_type": "code",
      "metadata": {
        "id": "Ny9wXSM7Ou13",
        "colab_type": "code",
        "colab": {}
      },
      "source": [
        "def PN_phases(freq,mTot,eta,phase_order):\n",
        "    \"\"\"\n",
        "    PN phase orders for TaylorF2\n",
        "    \"\"\"\n",
        "    \n",
        "    #constants in equation\n",
        "    piM = tf.multiply(mTot*4.92549102554e-6,np.pi) # Total mass times pi\n",
        "    v = tf.pow(tf.multiply(piM,freq),(1/3)) # characteristic velocity of binary\n",
        "    etasq = tf.pow(eta,2) # square of the symmetric mass ratio\n",
        "    etacb= tf.pow(eta,3) # cube of the symmetric mass ratio\n",
        "    gamma = 0.577215664901532 #Euler–Mascheroni constant\n",
        "    \n",
        "    #v parameters\n",
        "    v0 = tf.pow(v,-5)\n",
        "    v2 = tf.pow(v,2)\n",
        "    v3 = tf.pow(v,3)\n",
        "    v4 = tf.pow(v,4)\n",
        "    v5 = tf.pow(v,5)\n",
        "    v5log = tf.log(v)\n",
        "    v6 = tf.pow(v,6)\n",
        "    v6log = tf.log(4*v)\n",
        "    v7 = tf.pow(v,7)\n",
        "    \n",
        "    #produce PN coeffiecients\n",
        "    P0 = tf.multiply((3./128),tf.reciprocal(eta))\n",
        "    P2 = tf.multiply(tf.add(743/84,((11)*eta)),(5/9))\n",
        "    P3 = (-16*np.pi)\n",
        "    P4 = tf.multiply(tf.add((3058673/1016064),tf.add(((5429/1008)*eta),(617/144)*etasq)),(10))\n",
        "    P5 = tf.multiply(tf.add(7729/84,(-13*eta)),(np.pi*5/9))\n",
        "    Pl5 = tf.multiply(tf.add(7729/84,(-13*eta)),(np.pi*5/3))\n",
        "    P6 = tf.add(((11583231236531/4694215680)-(640*np.pi*np.pi/3)-(6848*gamma/21)),\\\n",
        "         tf.add(((((-15737765635/3048192)+(2255*np.pi*np.pi/12)))*eta),\\\n",
        "         tf.add(((76055/1728)*etasq),(-127825/1296)*etacb)))\n",
        "    Pl6 = -(6848/21)\n",
        "    P7 = tf.multiply(tf.add((77096675/254016),tf.add(((378515/1512)*eta),(-74045/756)*etasq)),(np.pi))\n",
        "\n",
        "    \n",
        "    #Produce full PN terms\n",
        "    PN0 = tf.multiply(P0,v0)\n",
        "    PN2 = tf.multiply(P2,v2)\n",
        "    PN3 = tf.multiply(P3,v3)\n",
        "    PN4 = tf.multiply(P4,v4)\n",
        "    PN5 = tf.multiply(tf.add(P5,tf.multiply(Pl5,v5log)),v5)\n",
        "    PN6 = tf.multiply(tf.add(P6,tf.multiply(Pl6,v6log)),v6)\n",
        "    PN7 = tf.multiply(P7,v7)\n",
        "    \n",
        "    #phases = PN_cnst + PN0(1+PN1*v+PN2*v2+PN3*v3+PN4+PN5+PN6+PN7)\n",
        "    if phase_order == 7:\n",
        "        phases = tf.multiply(PN0,(1+PN2+PN3+PN4+PN5+PN6+PN7))\n",
        "    elif phase_order == 6:\n",
        "        phases = tf.multiply(PN0,(1+PN2+PN3+PN4+PN5+PN6))\n",
        "    elif phase_order == 5:\n",
        "        phases = tf.multiply(PN0,(1+PN2+PN3+PN4+PN5))\n",
        "    elif phase_order == 4:\n",
        "        phases = tf.multiply(PN0,(1+PN2+PN3+PN4)) \n",
        "    elif phase_order == 3:\n",
        "        phases = tf.multiply(PN0,(1+PN2+PN3))\n",
        "    elif phase_order == 2:\n",
        "        phases = tf.multiply(PN0,(1+PN2))\n",
        "    elif phase_order == 1:\n",
        "        phases = PN0\n",
        "    else:\n",
        "        phases = PN0\n",
        "        \n",
        "\n",
        "    return phases\n",
        "                         \n",
        "def PN_amplitude(freq,ChirpMass,LuminosityDistance):\n",
        "    \"\"\"\n",
        "    Amplitude at 0PN order\n",
        "    \n",
        "    \"\"\"\n",
        "    #returns the amplitude of the 0PN waveform\n",
        "    #arguments are chirp mass, luminosity distance and frequencies\n",
        "                         \n",
        "    term1 = tf.reciprocal(LuminosityDistance/299792458)# divide by factor of c to convert to units of time\n",
        "    term2 = tf.multiply(np.sqrt(5/24)*(np.pi**(-2/3)),tf.pow(ChirpMass*4.92549102554e-6,(5/6))) #times by mtsol to get units of time\n",
        "    term3 = tf.pow(freq,(-7/6))\n",
        "                         \n",
        "    return tf.multiply(term1,tf.multiply(term2,term3))\n",
        "                         \n",
        "def taylorf2(mass1,mass2,frequencies=None,LuminosityDistance=1.,f_low=10.,\n",
        "               df=1./512,f_high=1600.,phase_order=0):\n",
        "    \"\"\"\n",
        "    TaylorFlow Main Function\n",
        "    \n",
        "    \"\"\"\n",
        "                         \n",
        "    #Define variable and constants in TensorFlow variables and constants   \n",
        "    #Masses and frequencies are required inputs\n",
        "    mass1 = tf.constant(mass1,name=\"mass1\",dtype=tf.float32)\n",
        "    mass2 = tf.constant(mass2,name=\"mass2\",dtype=tf.float32)\n",
        "    \n",
        "    #get total mass,chirp mass and symetric mass ratio for use later in function\n",
        "    M = tf.add(mass1,mass2)\n",
        "    eta = tf.divide(tf.multiply(mass1,mass2),tf.pow(M,2))\n",
        "    ChirpMass = tf.multiply(M,tf.pow(eta,(3/5))) #Chirp mass is given by M*(eta^3/5)   \n",
        "    \n",
        "    #define fISCO\n",
        "    f_ISO = 1/(6.**1.5*np.pi*(M)*4.92549102554e-6) #frequency of innermost stable circular orbit (SI units)\n",
        "    \n",
        "    #define frequencies\n",
        "    if frequencies is None:\n",
        "        f = np.arange(1.,f_high,df)\n",
        "        frequencies = tf.Variable(f,name= \"frequencies\",dtype= tf.float32)\n",
        "    else: \n",
        "        frequencies[0] = 1\n",
        "        frequencies = tf.Variable(frequencies,name= \"frequencies\",dtype= tf.float32)\n",
        "        \n",
        "\n",
        "    #other constants                     \n",
        "    L_D =  tf.constant((3.086e+22*LuminosityDistance),name=\"LuminosityDistance\",dtype=tf.float32) \n",
        "    \n",
        "    #get phases at 0PN order\n",
        "    phase = PN_phases(frequencies, M, eta, phase_order)\n",
        "    amp = PN_amplitude(frequencies, ChirpMass, L_D)\n",
        "    \n",
        "    #set amplitude to zero where the waveform results are unphysical/unwanted\n",
        "    cond1 = frequencies<f_low #below f_low\n",
        "    ind1 = tf.where(cond1)\n",
        "    cond2 = frequencies>f_ISO #above fISCO\n",
        "    ind2 = tf.where(cond2)\n",
        "    amp = tf.scatter_update(tf.Variable(amp), ind1, tf.constant(0.))\n",
        "    amp = tf.scatter_update(tf.Variable(amp), ind2, tf.constant(0.))\n",
        "    \n",
        "    #Calculte waveform\n",
        "    iphase = tf.multiply(tf.complex(0.,1.),tf.complex(phase-(np.pi/4)+np.pi,0.))\n",
        "    waveform = tf.multiply(tf.complex(amp,0.),tf.exp(iphase))\n",
        "     \n",
        "    return frequencies, waveform"
      ],
      "execution_count": 0,
      "outputs": []
    },
    {
      "cell_type": "code",
      "metadata": {
        "id": "ILHAsjGIQdrG",
        "colab_type": "code",
        "colab": {}
      },
      "source": [
        "def tensornorm(a):\n",
        "    \"\"\"divides by max value of tensor to normalise between 0 and 1\"\"\"\n",
        "    TensorMax = tf.reduce_max(tf.abs(a))\n",
        "    norm_condition = tf.complex(tf.reciprocal(TensorMax),0.)\n",
        "    \n",
        "    return tf.multiply(a,norm_condition),norm_condition\n",
        "\n",
        "def ComplexInnerProduct(temp,data,psd,df):\n",
        "    \"\"\"computes complex inner product in the fourier domain IP = 4 deltaf sum((a * conguagte(b))/Weights)\"\"\"\n",
        "    \n",
        "    weights = tf.sqrt(psd)\n",
        "    norm = (4*df)\n",
        "    a_weight = tf.div_no_nan(temp,weights)\n",
        "    b_conj = tf.conj(data)\n",
        "    b_weight = tf.div_no_nan(tf.cast(b_conj,dtype=tf.complex64),weights)\n",
        "    a_dot_b = tf.reduce_sum(tf.multiply(a_weight,b_weight))\n",
        "    \n",
        "    return tf.multiply(norm,a_dot_b)\n",
        "\n",
        "def InnerProduct(temp,data,psd,df):\n",
        "    \"\"\"computes inner product in the fourier domain IP = 4 deltaf RE sum((a * conguagte(b))/Weights)\"\"\"\n",
        "    \n",
        "    return tf.real(ComplexInnerProduct(temp,data,psd,df))\n",
        "\n",
        "def matchedfilter(temp,data,psd,df):\n",
        "    \"\"\"Computes the overlap between two waveforms\"\"\"\n",
        "    \n",
        "    prod_a_b = InnerProduct(temp,data,psd,df)\n",
        "    prod_a_a = InnerProduct(temp,temp,psd,df)\n",
        "    prod_b_b = InnerProduct(data,data,psd,df)\n",
        "    \n",
        "    sigma = tf.sqrt(tf.multiply(prod_a_a,prod_b_b))\n",
        "    \n",
        "    return tf.divide(prod_a_b,sigma)\n",
        "\n",
        "def match(temp,data,psd,df,freq,norm_condition,tc_low = -1.,tc_high = 1.):\n",
        "    \"\"\"Calculate the max match between two waveforms by maximisiung over coalescence time\"\"\"\n",
        "    \n",
        "    t_c = tf.cast(tf.linspace(tc_low,tc_high,201),dtype=tf.float32)\n",
        "    freq_tc = tf.tensordot(t_c,freq,axes=0)\n",
        "    freq_tc = tf.cast(freq_tc,dtype=tf.complex64)\n",
        "    shift_factor = tf.exp(1j*2*np.pi*freq_tc)*norm_condition\n",
        "\n",
        "    match_max = np.zeros(len(t_c))\n",
        "    for coa_time in range(len(t_c)):\n",
        "        waveform_shift = shift_factor[coa_time,:]\n",
        "        waveform_shifted = tf.multiply(waveform_shift,temp)\n",
        "        match_max[coa_time] = matchedfilter(waveform_shifted,data,psd,df)\n",
        "    \n",
        "    return t_c, match_max\n",
        "\n",
        "def match_cpu(temp,data,psd,df,freq,norm_condition,tc_low = -1.,tc_high = 1.):\n",
        "    \"\"\"Calculate the max match between two waveforms by maximisiung over coalescence time, calculated on the cpu\"\"\"\n",
        "    \n",
        "    with tf.device('/cpu:0'):\n",
        "        t_c = tf.cast(tf.linspace(tc_low,tc_high,201),dtype=tf.float32)\n",
        "        freq_tc = tf.tensordot(t_c,freq1,axes=0)\n",
        "        freq_tc = tf.cast(freq_tc,dtype=tf.complex64)\n",
        "        shift_factor = tf.exp(1j*2*np.pi*freq_tc)*norm_condition\n",
        "\n",
        "        match_max = np.zeros(len(t_c))\n",
        "        for coa_time in range(len(t_c)):\n",
        "            waveform_shift = shift_factor[coa_time,:]\n",
        "            waveform_shifted = tf.multiply(waveform_shift,waveform1)\n",
        "            match_max[coa_time] = matchedfilter(waveform_shifted,nwaveform1,psd1,df)\n",
        "    \n",
        "    return t_c, match_max\n",
        "\n",
        "def loglikelihood(temp,data,psd,df):\n",
        "    \"\"\"Computes the relative log likelihood of two data sets, computed by <data|temp>-1/2<temp|temp> \"\"\"\n",
        "    return (InnerProduct(data,temp,psd,df)-0.5*InnerProduct(temp,temp,psd,df))\n",
        "\n",
        "\n",
        "def SNR(temp,data,psd,df):\n",
        "    \"\"\"Compute the SNR at the true value of the parameters \"\"\"\n",
        "\n",
        "    return tf.sqrt(2*loglikelihood(temp,data,psd,df))"
      ],
      "execution_count": 0,
      "outputs": []
    },
    {
      "cell_type": "code",
      "metadata": {
        "id": "uP3tYBuzQevF",
        "colab_type": "code",
        "colab": {
          "base_uri": "https://localhost:8080/",
          "height": 104
        },
        "outputId": "76e82c36-d72b-4d9c-87c0-41c453e00c5c"
      },
      "source": [
        "m1 = 1.46\n",
        "m2 = 1.27\n",
        "freq = fd_smooth.sample_frequencies\n",
        "psd1 = psd\n",
        "df = fd_smooth.sample_frequencies[1]-fd_smooth.sample_frequencies[0]\n",
        "\n",
        "tf_freq,tf_waveform = taylorf2(m1,m2,frequencies=freq)"
      ],
      "execution_count": 8,
      "outputs": [
        {
          "output_type": "stream",
          "text": [
            "WARNING: Logging before flag parsing goes to stderr.\n",
            "W0815 12:50:07.984766 140425043228544 deprecation.py:323] From <ipython-input-6-5deb1f575097>:119: add_dispatch_support.<locals>.wrapper (from tensorflow.python.ops.array_ops) is deprecated and will be removed in a future version.\n",
            "Instructions for updating:\n",
            "Use tf.where in 2.0, which has the same broadcast rule as np.where\n"
          ],
          "name": "stderr"
        }
      ]
    },
    {
      "cell_type": "code",
      "metadata": {
        "id": "j-HWs55mQ3IW",
        "colab_type": "code",
        "colab": {
          "base_uri": "https://localhost:8080/",
          "height": 326
        },
        "outputId": "b9a86882-b7e3-4169-a022-cfd3d15eacf5"
      },
      "source": [
        "plt.plot(tf_freq.numpy(),tf_waveform)"
      ],
      "execution_count": 9,
      "outputs": [
        {
          "output_type": "stream",
          "text": [
            "/usr/local/lib/python3.6/dist-packages/numpy/core/numeric.py:538: ComplexWarning: Casting complex values to real discards the imaginary part\n",
            "  return array(a, dtype, copy=False, order=order)\n"
          ],
          "name": "stderr"
        },
        {
          "output_type": "execute_result",
          "data": {
            "text/plain": [
              "[<matplotlib.lines.Line2D at 0x7fb6e96e7d68>]"
            ]
          },
          "metadata": {
            "tags": []
          },
          "execution_count": 9
        },
        {
          "output_type": "display_data",
          "data": {
            "image/png": "[encoded data removed]",
            "text/plain": [
              "<Figure size 432x288 with 1 Axes>"
            ]
          },
          "metadata": {
            "tags": []
          }
        }
      ]
    },
    {
      "cell_type": "code",
      "metadata": {
        "id": "7Pba2HJLTvjy",
        "colab_type": "code",
        "colab": {}
      },
      "source": [
        "psd1 = tf.constant(psd,dtype=tf.complex64)\n",
        "match_freq = tf.cast(freq,dtype=tf.float32)"
      ],
      "execution_count": 0,
      "outputs": []
    },
    {
      "cell_type": "code",
      "metadata": {
        "id": "paIvHLG8WpXq",
        "colab_type": "code",
        "colab": {
          "base_uri": "https://localhost:8080/",
          "height": 67
        },
        "outputId": "da181d8a-cd5b-4bb8-a963-e247220c7a98"
      },
      "source": [
        "psd1"
      ],
      "execution_count": 18,
      "outputs": [
        {
          "output_type": "execute_result",
          "data": {
            "text/plain": [
              "<tf.Tensor: id=227, shape=(65537,), dtype=complex64, numpy=\n",
              "array([3.1e-44+0.j, 3.8e-44+0.j, 4.6e-44+0.j, ..., 0.0e+00+0.j,\n",
              "       0.0e+00+0.j, 0.0e+00+0.j], dtype=complex64)>"
            ]
          },
          "metadata": {
            "tags": []
          },
          "execution_count": 18
        }
      ]
    },
    {
      "cell_type": "code",
      "metadata": {
        "id": "C2j3uaxgWs1S",
        "colab_type": "code",
        "colab": {
          "base_uri": "https://localhost:8080/",
          "height": 67
        },
        "outputId": "3f0447bc-9bba-428d-a33a-01dcf3dc7657"
      },
      "source": [
        "tf_waveform"
      ],
      "execution_count": 19,
      "outputs": [
        {
          "output_type": "execute_result",
          "data": {
            "text/plain": [
              "<tf.Tensor: id=167, shape=(65537,), dtype=complex64, numpy=\n",
              "array([ 0.-0.j,  0.-0.j, -0.+0.j, ..., -0.+0.j, -0.+0.j, -0.+0.j],\n",
              "      dtype=complex64)>"
            ]
          },
          "metadata": {
            "tags": []
          },
          "execution_count": 19
        }
      ]
    },
    {
      "cell_type": "code",
      "metadata": {
        "id": "PxFb1AuTWxbU",
        "colab_type": "code",
        "colab": {}
      },
      "source": [
        "data = tf.constant(fd_smooth,dtype=tf.complex64)\n",
        "my_temp,norm_condition = tensornorm(tf_waveform)"
      ],
      "execution_count": 0,
      "outputs": []
    },
    {
      "cell_type": "code",
      "metadata": {
        "id": "b6VrYHFCXBUw",
        "colab_type": "code",
        "colab": {
          "base_uri": "https://localhost:8080/",
          "height": 101
        },
        "outputId": "576620a9-2a05-411d-8d29-52928aeb5f74"
      },
      "source": [
        "data"
      ],
      "execution_count": 22,
      "outputs": [
        {
          "output_type": "execute_result",
          "data": {
            "text/plain": [
              "<tf.Tensor: id=296, shape=(65537,), dtype=complex64, numpy=\n",
              "array([12.809879  +0.0000000e+00j, 11.989696  -1.1955410e-01j,\n",
              "       11.41462   -2.7520773e-01j, ..., -0.18259346-5.7507681e-05j,\n",
              "       -0.18057624+2.3513574e-03j, -0.17657408+0.0000000e+00j],\n",
              "      dtype=complex64)>"
            ]
          },
          "metadata": {
            "tags": []
          },
          "execution_count": 22
        }
      ]
    },
    {
      "cell_type": "code",
      "metadata": {
        "id": "ktw9XbaqXok8",
        "colab_type": "code",
        "colab": {
          "base_uri": "https://localhost:8080/",
          "height": 34
        },
        "outputId": "3e711cfa-5b7b-4f06-efd4-784cd70e8d75"
      },
      "source": [
        "print(my_temp)"
      ],
      "execution_count": 30,
      "outputs": [
        {
          "output_type": "stream",
          "text": [
            "tf.Tensor([ 0.+0.j  0.+0.j -0.+0.j ... -0.+0.j -0.+0.j -0.+0.j], shape=(65537,), dtype=complex64)\n"
          ],
          "name": "stdout"
        }
      ]
    },
    {
      "cell_type": "code",
      "metadata": {
        "id": "YOr0oc2kRUm1",
        "colab_type": "code",
        "colab": {}
      },
      "source": [
        "t_c, m = match(my_temp,data,psd1,df,match_freq,norm_condition)"
      ],
      "execution_count": 0,
      "outputs": []
    },
    {
      "cell_type": "code",
      "metadata": {
        "id": "RbrCLpmYXzPj",
        "colab_type": "code",
        "colab": {
          "base_uri": "https://localhost:8080/",
          "height": 34
        },
        "outputId": "8f9b1cc7-30c7-40d1-fb4d-d30df78e258c"
      },
      "source": [
        "CIP = ComplexInnerProduct(my_temp,data,psd1,df)\n",
        "print(CIP)"
      ],
      "execution_count": 33,
      "outputs": [
        {
          "output_type": "stream",
          "text": [
            "tf.Tensor(0j, shape=(), dtype=complex64)\n"
          ],
          "name": "stdout"
        }
      ]
    },
    {
      "cell_type": "code",
      "metadata": {
        "id": "jmj0fwuKWvUI",
        "colab_type": "code",
        "colab": {
          "base_uri": "https://localhost:8080/",
          "height": 218
        },
        "outputId": "18a5d1e9-db82-42bc-a708-5df1be5c2873"
      },
      "source": [
        "print(m)"
      ],
      "execution_count": 29,
      "outputs": [
        {
          "output_type": "stream",
          "text": [
            "[nan nan nan nan nan nan nan nan nan nan nan nan nan nan nan nan nan nan\n",
            " nan nan nan nan nan nan nan nan nan nan nan nan nan nan nan nan nan nan\n",
            " nan nan nan nan nan nan nan nan nan nan nan nan nan nan nan nan nan nan\n",
            " nan nan nan nan nan nan nan nan nan nan nan nan nan nan nan nan nan nan\n",
            " nan nan nan nan nan nan nan nan nan nan nan nan nan nan nan nan nan nan\n",
            " nan nan nan nan nan nan nan nan nan nan nan nan nan nan nan nan nan nan\n",
            " nan nan nan nan nan nan nan nan nan nan nan nan nan nan nan nan nan nan\n",
            " nan nan nan nan nan nan nan nan nan nan nan nan nan nan nan nan nan nan\n",
            " nan nan nan nan nan nan nan nan nan nan nan nan nan nan nan nan nan nan\n",
            " nan nan nan nan nan nan nan nan nan nan nan nan nan nan nan nan nan nan\n",
            " nan nan nan nan nan nan nan nan nan nan nan nan nan nan nan nan nan nan\n",
            " nan nan nan]\n"
          ],
          "name": "stdout"
        }
      ]
    },
    {
      "cell_type": "code",
      "metadata": {
        "id": "P7oa0opXR5-V",
        "colab_type": "code",
        "colab": {
          "base_uri": "https://localhost:8080/",
          "height": 34
        },
        "outputId": "8f56741d-4fb6-4974-b983-de47352f86d1"
      },
      "source": [
        "logl= loglikelihood(my_temp,data,psd1,df)\n",
        "print(logl)"
      ],
      "execution_count": 36,
      "outputs": [
        {
          "output_type": "stream",
          "text": [
            "tf.Tensor(0.0, shape=(), dtype=float32)\n"
          ],
          "name": "stdout"
        }
      ]
    },
    {
      "cell_type": "code",
      "metadata": {
        "id": "X9kjae97Ydo0",
        "colab_type": "code",
        "colab": {}
      },
      "source": [
        ""
      ],
      "execution_count": 0,
      "outputs": []
    }
  ]
}