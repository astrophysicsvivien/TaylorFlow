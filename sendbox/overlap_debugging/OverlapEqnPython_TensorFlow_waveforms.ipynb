{
 "cells": [
  {
   "cell_type": "code",
   "execution_count": 1,
   "metadata": {},
   "outputs": [],
   "source": [
    "#Preamble\n",
    "import tensorflow as tf\n",
    "#enable Eager execution\n",
    "tf.enable_eager_execution()\n",
    "\n",
    "import numpy as np\n",
    "import matplotlib.pyplot as plt\n",
    "import TaylorFlow_190717 as tlf\n",
    "\n",
    "def ComplexInnerProduct(a,b,delta_f,weights='none'):\n",
    "    \"computes complex inner product in the fourier domain IP = 4RE deltaf sum((a * conguagte(b))/PSD Weights)\"\n",
    "    if weights =='none':\n",
    "        weights = np.ones(len(a))\n",
    "        \n",
    "    return 4*df*(np.vdot((a/weights),(b/weights)))\n",
    "\n",
    "def InnerProduct(a,b,delta_f,weights='none'):\n",
    "    \"returns real component of Inner Product\"\n",
    "    return ComplexInnerProduct(a,b,delta_f,weights).real\n",
    "\n",
    "def sigsq(a,weight,delta_f):\n",
    "    \"returns the normal of a waveform (root of inner product with itself)\"\n",
    "    return 4*df*np.real((np.vdot((a/weights),(a/weights))))\n",
    "\n",
    "def sig(a,weight,delta_f):\n",
    "    \n",
    "    return np.sqrt(sigsq(a,weight,delta_f))\n",
    "\n",
    "def overlap(h1,h2,psd,delta_f):\n",
    "    \"returns the normalised overlap of the signals \"\n",
    "    overlap = (1/sig(h1,psd,delta_f)/sig(h2,psd,delta_f))*InnerProduct(h1,h2,df,weights)\n",
    "    return overlap"
   ]
  },
  {
   "cell_type": "code",
   "execution_count": 2,
   "metadata": {},
   "outputs": [
    {
     "name": "stdout",
     "output_type": "stream",
     "text": [
      "WARNING:tensorflow:From C:\\ProgramData\\Anaconda3\\lib\\site-packages\\tensorflow\\python\\ops\\resource_variable_ops.py:642: colocate_with (from tensorflow.python.framework.ops) is deprecated and will be removed in a future version.\n",
      "Instructions for updating:\n",
      "Colocations handled automatically by placer.\n"
     ]
    },
    {
     "name": "stderr",
     "output_type": "stream",
     "text": [
      "C:\\ProgramData\\Anaconda3\\lib\\site-packages\\tensorflow\\python\\framework\\ops.py:739: ComplexWarning: Casting complex values to real discards the imaginary part\n",
      "  return np.array(self.numpy(), dtype=dtype)\n"
     ]
    },
    {
     "data": {
      "text/plain": [
       "[<matplotlib.lines.Line2D at 0x1f3be8f4320>]"
      ]
     },
     "execution_count": 2,
     "metadata": {},
     "output_type": "execute_result"
    },
    {
     "data": {
      "image/png": "[encoded data removed]",
      "text/plain": [
       "<Figure size 432x288 with 1 Axes>"
      ]
     },
     "metadata": {
      "needs_background": "light"
     },
     "output_type": "display_data"
    }
   ],
   "source": [
    "s1_m1 = 1.4\n",
    "s1_m2 = 1.4\n",
    "s2_m1 = 5\n",
    "s2_m2 = 5\n",
    "df = 1./512\n",
    "tc_ = 1.\n",
    "f_low = 20\n",
    "f_high = 2000.\n",
    "\n",
    "freq1, wvf1 = tlf.TaylorFlow(s1_m1, s1_m2, f_low=f_low, f_high=f_high, df = df, t_c=tc_, phi_c = 0)\n",
    "freq2, wvf2 = tlf.TaylorFlow(s2_m1, s2_m2, f_low=f_low, f_high=f_high, df = df, t_c=tc_, phi_c = 0)\n",
    "\n",
    "plt.plot(freq1.numpy(),wvf1)\n",
    "plt.plot(freq2.numpy(),wvf2)"
   ]
  },
  {
   "cell_type": "code",
   "execution_count": 3,
   "metadata": {},
   "outputs": [
    {
     "name": "stderr",
     "output_type": "stream",
     "text": [
      "C:\\ProgramData\\Anaconda3\\lib\\site-packages\\ipykernel_launcher.py:12: FutureWarning: elementwise comparison failed; returning scalar instead, but in the future will perform elementwise comparison\n",
      "  if sys.path[0] == '':\n"
     ]
    }
   ],
   "source": [
    "weights = np.ones(len(wvf1))\n",
    "InnerP = ComplexInnerProduct(wvf1,wvf2,df)\n",
    "RealInnerP= InnerProduct(wvf1,wvf2,df)\n",
    "sigsqh1 = sigsq(wvf1,weights,df)\n",
    "sigsqh2 = sigsq(wvf2,weights,df)\n",
    "sigh1 = sig(wvf1,weights,df)\n",
    "sigh2 = sig(wvf2,weights,df)\n",
    "signal_overlap = overlap(wvf1,wvf2,weights,df)"
   ]
  },
  {
   "cell_type": "code",
   "execution_count": 4,
   "metadata": {},
   "outputs": [
    {
     "name": "stdout",
     "output_type": "stream",
     "text": [
      "(1.3480375619681433e-39-9.425921701434902e-45j)\n",
      "1.3480375619681433e-39\n",
      "4.718321693155034e-40\n",
      "3.89410088270153e-39\n",
      "2.1721698122280943e-20\n",
      "6.240273137212448e-20\n",
      "0.994499618004643\n"
     ]
    }
   ],
   "source": [
    "print(InnerP)\n",
    "print(RealInnerP)\n",
    "print(sigsqh1) \n",
    "print(sigsqh2)\n",
    "print(sigh1)\n",
    "print(sigh2)\n",
    "print(signal_overlap)"
   ]
  },
  {
   "cell_type": "code",
   "execution_count": null,
   "metadata": {},
   "outputs": [],
   "source": []
  }
 ],
 "metadata": {
  "kernelspec": {
   "display_name": "Python 3",
   "language": "python",
   "name": "python3"
  },
  "language_info": {
   "codemirror_mode": {
    "name": "ipython",
    "version": 3
   },
   "file_extension": ".py",
   "mimetype": "text/x-python",
   "name": "python",
   "nbconvert_exporter": "python",
   "pygments_lexer": "ipython3",
   "version": "3.7.3"
  }
 },
 "nbformat": 4,
 "nbformat_minor": 2
}
