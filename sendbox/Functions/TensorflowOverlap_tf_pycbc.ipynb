{
 "cells": [
  {
   "cell_type": "code",
   "execution_count": 1,
   "metadata": {},
   "outputs": [],
   "source": [
    "#Preamble\n",
    "import tensorflow as tf\n",
    "#enable Eager execution\n",
    "tf.enable_eager_execution()\n",
    "\n",
    "import numpy as np\n",
    "import matplotlib.pyplot as plt\n",
    "import TaylorFlow_190725 as tlf"
   ]
  },
  {
   "cell_type": "code",
   "execution_count": 2,
   "metadata": {},
   "outputs": [],
   "source": [
    "def cmplxInnerProd(temp,data,psd,df):\n",
    "    \"computes complex inner product in the fourier domain IP = 4 deltaf sum((a * conguagte(b))/Weights)\"\n",
    "    \n",
    "    weights = tf.sqrt(psd)\n",
    "    \n",
    "    return tf.multiply((4*df),tf.reduce_sum(tf.multiply(tf.divide(temp,weights),tf.divide(tf.conj(data),weights))))\n",
    "\n",
    "def InnerProd(temp,data,psd,df):\n",
    "    \"computes inner product in the fourier domain IP = 4 deltaf RE sum((a * conguagte(b))/Weights)\"\n",
    "    \n",
    "    return tf.real(cmplxInnerProd(temp,data,psd,df))\n",
    "\n",
    "def sigsq(temp, psd, df):\n",
    "    \"computes sig^2 = (a|a), which can then be used to normalise function \"\n",
    "    weights = tf.sqrt(psd)\n",
    "    \n",
    "    return tf.real(tf.multiply((4*df),tf.reduce_sum(tf.multiply(tf.divide(temp,weights),tf.divide(tf.conj(temp),weights)))))\n",
    "\n",
    "def sig(temp, psd, df):\n",
    "    \"returns the sigma value of the signal\"\n",
    "    \n",
    "    return tf.sqrt(sigsq(temp, psd, df))\n",
    "\n",
    "def TensorNorm(a):\n",
    "    \"divides by max value of tensor to normalise between 0 and 1\"\n",
    "    TensorMax = tf.reduce_max(tf.abs(a))\n",
    "    Tmax_cmplx_recip = tf.complex(tf.reciprocal(TensorMax),0.)\n",
    "    \n",
    "    return tf.multiply(a,Tmax_cmplx_recip),TensorMax\n",
    "\n",
    "def overlap(temp,data,psd,df):\n",
    "    \"Overlap equation\"\n",
    "    \n",
    "    norm = tf.divide(1,tf.multiply(sig(temp,psd,df),sig(data,psd,df)))\n",
    "    inner = InnerProd(temp,data,psd,df)\n",
    "    overlap = tf.multiply(norm,inner)\n",
    "        \n",
    "    return overlap\n",
    "\n",
    "def SNR(temp,data,psd,df):\n",
    "    \"Returns the SNR along with the normalization\"\n",
    "    norm = tf.reciprocal(sig(temp,psd,df))\n",
    "    inner = InnerProd(temp,data,psd,df)\n",
    "    \n",
    "    return tf.multiply(norm,inner)"
   ]
  },
  {
   "cell_type": "code",
   "execution_count": 3,
   "metadata": {},
   "outputs": [],
   "source": [
    "waveform1 = np.loadtxt('PycbcWaveform.txt',dtype=complex).astype(np.complex64)\n",
    "waveform1_freq = np.loadtxt('PycbcFreq.txt')\n",
    "\n",
    "waveform1 = waveform1[1:]\n",
    "waveform1_freq = waveform1_freq[1:]"
   ]
  },
  {
   "cell_type": "code",
   "execution_count": 4,
   "metadata": {},
   "outputs": [
    {
     "name": "stdout",
     "output_type": "stream",
     "text": [
      "WARNING:tensorflow:From C:\\ProgramData\\Anaconda3\\lib\\site-packages\\tensorflow\\python\\ops\\resource_variable_ops.py:642: colocate_with (from tensorflow.python.framework.ops) is deprecated and will be removed in a future version.\n",
      "Instructions for updating:\n",
      "Colocations handled automatically by placer.\n"
     ]
    }
   ],
   "source": [
    "m1 = 10\n",
    "m2 = 10\n",
    "m3 = 10\n",
    "m4 = 10\n",
    "df = 1./512\n",
    "f_low = 20\n",
    "f_high = 2000.\n",
    "\n",
    "# freq1,waveform1 = tlf.TaylorFlow(m1, m2, frequencies=n_waveform1_freq,\n",
    "#                                   f_low=f_low, f_high=f_high, df = df, t_c=0., phi_c = 0)\n",
    "\n",
    "freq2,waveform2 = tlf.TaylorFlow(m3, m4, frequencies=waveform1_freq,\n",
    "                                  f_low=f_low, f_high=f_high, df = df, t_c=0., phi_c = 0)\n",
    "\n",
    "\n",
    "n_waveform1, max1 = TensorNorm(waveform1)\n",
    "n_waveform2 = tf.multiply(waveform2,tf.complex(tf.reciprocal(max1), 0.))"
   ]
  },
  {
   "cell_type": "code",
   "execution_count": 5,
   "metadata": {},
   "outputs": [
    {
     "name": "stdout",
     "output_type": "stream",
     "text": [
      "[ 0.0000000e+00+0.0000000e+00j  0.0000000e+00+0.0000000e+00j\n",
      "  0.0000000e+00+0.0000000e+00j ... -3.1888762e-22+8.1725308e-22j\n",
      " -3.1898435e-22+8.1720557e-22j -3.1908106e-22+8.1715807e-22j]\n",
      "tf.Tensor([ 0.-0.j  0.-0.j  0.+0.j ... -0.+0.j -0.+0.j -0.+0.j], shape=(112567,), dtype=complex64)\n",
      "tf.Tensor(\n",
      "[ 0.        +0.j          0.        +0.j          0.        +0.j\n",
      " ... -0.02217618+0.05683367j -0.02218291+0.05683037j\n",
      " -0.02218963+0.05682706j], shape=(112567,), dtype=complex64)\n",
      "tf.Tensor([ 0.+0.j  0.+0.j  0.+0.j ... -0.+0.j -0.+0.j -0.+0.j], shape=(112567,), dtype=complex64)\n"
     ]
    }
   ],
   "source": [
    "print(waveform1)\n",
    "print(waveform2)\n",
    "print(n_waveform1)\n",
    "print(n_waveform2)"
   ]
  },
  {
   "cell_type": "code",
   "execution_count": 6,
   "metadata": {},
   "outputs": [],
   "source": [
    "psd = tf.complex(np.ones(len(n_waveform1),dtype=np.float32), 0.)"
   ]
  },
  {
   "cell_type": "code",
   "execution_count": 7,
   "metadata": {},
   "outputs": [
    {
     "name": "stdout",
     "output_type": "stream",
     "text": [
      "<dtype: 'complex64'>\n"
     ]
    }
   ],
   "source": [
    "print(n_waveform1.dtype)"
   ]
  },
  {
   "cell_type": "code",
   "execution_count": 8,
   "metadata": {},
   "outputs": [],
   "source": [
    "cmplxIP = cmplxInnerProd(n_waveform1, n_waveform2, psd, df)"
   ]
  },
  {
   "cell_type": "code",
   "execution_count": 9,
   "metadata": {},
   "outputs": [],
   "source": [
    "IP = InnerProd(n_waveform1, n_waveform2, psd, df)"
   ]
  },
  {
   "cell_type": "code",
   "execution_count": 10,
   "metadata": {},
   "outputs": [],
   "source": [
    "sig1 = sig(n_waveform1, psd, df)"
   ]
  },
  {
   "cell_type": "code",
   "execution_count": 11,
   "metadata": {},
   "outputs": [],
   "source": [
    "sig2 = sig(n_waveform2, psd, df)"
   ]
  },
  {
   "cell_type": "code",
   "execution_count": 12,
   "metadata": {},
   "outputs": [],
   "source": [
    "sigsq1= sigsq(n_waveform1, psd, df)"
   ]
  },
  {
   "cell_type": "code",
   "execution_count": 13,
   "metadata": {},
   "outputs": [],
   "source": [
    "sigsq2= sigsq(n_waveform2, psd, df)"
   ]
  },
  {
   "cell_type": "code",
   "execution_count": 14,
   "metadata": {},
   "outputs": [],
   "source": [
    "overlap1 = overlap(n_waveform1, n_waveform2, psd, df)"
   ]
  },
  {
   "cell_type": "code",
   "execution_count": 15,
   "metadata": {},
   "outputs": [
    {
     "name": "stdout",
     "output_type": "stream",
     "text": [
      "CmplxInnrP = -0.0200793 + -0.167911 i\n",
      "RealInnerP = -0.0200793\n",
      "sig1 = 7.58612\n",
      "sig2 = 7.63467\n",
      "sigsq1 = 57.5492\n",
      "sigsq2 = 58.2882\n",
      "Overlap = -0.000346687\n"
     ]
    }
   ],
   "source": [
    "print(\"CmplxInnrP = %g + %g i\" %(tf.real(cmplxIP), tf.imag(cmplxIP)))\n",
    "print(\"RealInnerP = %g\" %IP)\n",
    "print(\"sig1 = %g\" %sig1)\n",
    "print(\"sig2 = %g\" %sig2)\n",
    "print(\"sigsq1 = %g\" %sigsq1)\n",
    "print(\"sigsq2 = %g\" %sigsq2)\n",
    "print(\"Overlap = %g\" %overlap1)"
   ]
  },
  {
   "cell_type": "code",
   "execution_count": null,
   "metadata": {},
   "outputs": [],
   "source": []
  }
 ],
 "metadata": {
  "kernelspec": {
   "display_name": "Python 3",
   "language": "python",
   "name": "python3"
  },
  "language_info": {
   "codemirror_mode": {
    "name": "ipython",
    "version": 3
   },
   "file_extension": ".py",
   "mimetype": "text/x-python",
   "name": "python",
   "nbconvert_exporter": "python",
   "pygments_lexer": "ipython3",
   "version": "3.7.3"
  }
 },
 "nbformat": 4,
 "nbformat_minor": 2
}
