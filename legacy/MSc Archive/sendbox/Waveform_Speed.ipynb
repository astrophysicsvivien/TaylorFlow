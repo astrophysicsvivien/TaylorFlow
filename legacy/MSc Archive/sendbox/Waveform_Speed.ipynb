{
  "nbformat": 4,
  "nbformat_minor": 0,
  "metadata": {
    "colab": {
      "name": "Waveform_Speed.ipynb",
      "version": "0.3.2",
      "provenance": [],
      "collapsed_sections": [],
      "include_colab_link": true
    },
    "kernelspec": {
      "name": "python3",
      "display_name": "Python 3"
    },
    "accelerator": "GPU"
  },
  "cells": [
    {
      "cell_type": "markdown",
      "metadata": {
        "id": "view-in-github",
        "colab_type": "text"
      },
      "source": [
        "<a href=\"https://colab.research.google.com/github/astrophysicsvivien/TaylorFlow/blob/master/Waveform_Speed.ipynb\" target=\"_parent\"><img src=\"https://colab.research.google.com/assets/colab-badge.svg\" alt=\"Open In Colab\"/></a>"
      ]
    },
    {
      "cell_type": "code",
      "metadata": {
        "id": "mGyGUx1jjv1p",
        "colab_type": "code",
        "outputId": "2771e0ce-225b-4ae6-92c9-e0cb707934e4",
        "colab": {
          "base_uri": "https://localhost:8080/",
          "height": 605
        }
      },
      "source": [
        "pip install lalsuite pycbc"
      ],
      "execution_count": 1,
      "outputs": [
        {
          "output_type": "stream",
          "text": [
            "Requirement already satisfied: lalsuite in /usr/local/lib/python3.6/dist-packages (6.62)\n",
            "Requirement already satisfied: pycbc in /usr/local/lib/python3.6/dist-packages (1.14.1)\n",
            "Requirement already satisfied: matplotlib in /usr/local/lib/python3.6/dist-packages (from lalsuite) (3.0.3)\n",
            "Requirement already satisfied: ligo-segments in /usr/local/lib/python3.6/dist-packages (from lalsuite) (1.2.0)\n",
            "Requirement already satisfied: numpy>=1.7 in /usr/local/lib/python3.6/dist-packages (from lalsuite) (1.16.4)\n",
            "Requirement already satisfied: lscsoft-glue in /usr/local/lib/python3.6/dist-packages (from lalsuite) (2.0.0)\n",
            "Requirement already satisfied: scipy in /usr/local/lib/python3.6/dist-packages (from lalsuite) (1.3.1)\n",
            "Requirement already satisfied: python-dateutil in /usr/local/lib/python3.6/dist-packages (from lalsuite) (2.5.3)\n",
            "Requirement already satisfied: Mako>=1.0.1 in /usr/local/lib/python3.6/dist-packages (from pycbc) (1.1.0)\n",
            "Requirement already satisfied: mpld3>=0.3 in /usr/local/lib/python3.6/dist-packages (from pycbc) (0.3)\n",
            "Requirement already satisfied: requests>=1.2.1 in /usr/local/lib/python3.6/dist-packages (from pycbc) (2.21.0)\n",
            "Requirement already satisfied: six>=1.10.0 in /usr/local/lib/python3.6/dist-packages (from pycbc) (1.12.0)\n",
            "Requirement already satisfied: beautifulsoup4>=4.6.0 in /usr/local/lib/python3.6/dist-packages (from pycbc) (4.6.3)\n",
            "Requirement already satisfied: h5py>=2.5 in /usr/local/lib/python3.6/dist-packages (from pycbc) (2.8.0)\n",
            "Requirement already satisfied: emcee==2.2.1 in /usr/local/lib/python3.6/dist-packages (from pycbc) (2.2.1)\n",
            "Requirement already satisfied: jinja2 in /usr/local/lib/python3.6/dist-packages (from pycbc) (2.10.1)\n",
            "Requirement already satisfied: decorator>=3.4.2 in /usr/local/lib/python3.6/dist-packages (from pycbc) (4.4.0)\n",
            "Requirement already satisfied: pillow in /usr/local/lib/python3.6/dist-packages (from pycbc) (4.3.0)\n",
            "Requirement already satisfied: cython in /usr/local/lib/python3.6/dist-packages (from pycbc) (0.29.13)\n",
            "Requirement already satisfied: astropy>=2.0.3; python_version > \"3.0\" in /usr/local/lib/python3.6/dist-packages (from pycbc) (3.0.5)\n",
            "Requirement already satisfied: cycler>=0.10 in /usr/local/lib/python3.6/dist-packages (from matplotlib->lalsuite) (0.10.0)\n",
            "Requirement already satisfied: pyparsing!=2.0.4,!=2.1.2,!=2.1.6,>=2.0.1 in /usr/local/lib/python3.6/dist-packages (from matplotlib->lalsuite) (2.4.2)\n",
            "Requirement already satisfied: kiwisolver>=1.0.1 in /usr/local/lib/python3.6/dist-packages (from matplotlib->lalsuite) (1.1.0)\n",
            "Requirement already satisfied: pyOpenSSL in /usr/local/lib/python3.6/dist-packages (from lscsoft-glue->lalsuite) (19.0.0)\n",
            "Requirement already satisfied: MarkupSafe>=0.9.2 in /usr/local/lib/python3.6/dist-packages (from Mako>=1.0.1->pycbc) (1.1.1)\n",
            "Requirement already satisfied: urllib3<1.25,>=1.21.1 in /usr/local/lib/python3.6/dist-packages (from requests>=1.2.1->pycbc) (1.24.3)\n",
            "Requirement already satisfied: chardet<3.1.0,>=3.0.2 in /usr/local/lib/python3.6/dist-packages (from requests>=1.2.1->pycbc) (3.0.4)\n",
            "Requirement already satisfied: idna<2.9,>=2.5 in /usr/local/lib/python3.6/dist-packages (from requests>=1.2.1->pycbc) (2.8)\n",
            "Requirement already satisfied: certifi>=2017.4.17 in /usr/local/lib/python3.6/dist-packages (from requests>=1.2.1->pycbc) (2019.6.16)\n",
            "Requirement already satisfied: olefile in /usr/local/lib/python3.6/dist-packages (from pillow->pycbc) (0.46)\n",
            "Requirement already satisfied: setuptools in /usr/local/lib/python3.6/dist-packages (from kiwisolver>=1.0.1->matplotlib->lalsuite) (41.0.1)\n",
            "Requirement already satisfied: cryptography>=2.3 in /usr/local/lib/python3.6/dist-packages (from pyOpenSSL->lscsoft-glue->lalsuite) (2.7)\n",
            "Requirement already satisfied: asn1crypto>=0.21.0 in /usr/local/lib/python3.6/dist-packages (from cryptography>=2.3->pyOpenSSL->lscsoft-glue->lalsuite) (0.24.0)\n",
            "Requirement already satisfied: cffi!=1.11.3,>=1.8 in /usr/local/lib/python3.6/dist-packages (from cryptography>=2.3->pyOpenSSL->lscsoft-glue->lalsuite) (1.12.3)\n",
            "Requirement already satisfied: pycparser in /usr/local/lib/python3.6/dist-packages (from cffi!=1.11.3,>=1.8->cryptography>=2.3->pyOpenSSL->lscsoft-glue->lalsuite) (2.19)\n"
          ],
          "name": "stdout"
        }
      ]
    },
    {
      "cell_type": "code",
      "metadata": {
        "id": "XkAIdQjyTzKB",
        "colab_type": "code",
        "colab": {}
      },
      "source": [
        "import tensorflow as tf\n",
        "#enable Eager execution\n",
        "tf.enable_eager_execution()\n",
        "\n",
        "import numpy as np\n",
        "import matplotlib.pyplot as plt\n",
        "import time\n",
        "\n",
        "import pycbc.waveform"
      ],
      "execution_count": 0,
      "outputs": []
    },
    {
      "cell_type": "code",
      "metadata": {
        "id": "tNQZLx5LUEQy",
        "colab_type": "code",
        "colab": {}
      },
      "source": [
        "#Start Interactive Session\n",
        "sess = tf.InteractiveSession()\n",
        "\n",
        "def PN_phases(freq,mTot,eta,phase_order):\n",
        "    \"\"\"\n",
        "    PN phase orders for TaylorF2\n",
        "    \"\"\"\n",
        "    \n",
        "    #constants in equation\n",
        "    mtsun = 4.925491025543575903411922162094833998e-6\n",
        "    piM = tf.multiply(mTot*mtsun,np.pi) # Total mass times pi\n",
        "    v = tf.pow(tf.multiply(piM,freq),(1/3)) # characteristic velocity of binary\n",
        "    etasq = tf.pow(eta,2) # square of the symmetric mass ratio\n",
        "    etacb= tf.pow(eta,3) # cube of the symmetric mass ratio\n",
        "    gamma = 0.577215664901532 #Euler–Mascheroni constant\n",
        "    \n",
        "    #v parameters\n",
        "    v0 = tf.pow(v,-5)\n",
        "    v2 = tf.pow(v,2)\n",
        "    v3 = tf.pow(v,3)\n",
        "    v4 = tf.pow(v,4)\n",
        "    v5 = tf.pow(v,5)\n",
        "    v5log = tf.log(v)\n",
        "    v6 = tf.pow(v,6)\n",
        "    v6log = tf.log(4*v)\n",
        "    v7 = tf.pow(v,7)\n",
        "    \n",
        "    #produce PN coeffiecients\n",
        "    P0 = tf.multiply((3./128),tf.reciprocal(eta))\n",
        "    P2 = tf.multiply(tf.add(743/84,((11)*eta)),(5/9))\n",
        "    P3 = (-16*np.pi)\n",
        "    P4 = tf.multiply(tf.add((3058673/1016064),tf.add(((5429/1008)*eta),(617/144)*etasq)),(10))\n",
        "    P5 = tf.multiply(tf.add(7729/84,(-13*eta)),(np.pi*5/9))\n",
        "    Pl5 = tf.multiply(tf.add(7729/84,(-13*eta)),(np.pi*5/3))\n",
        "    P6 = tf.add(((11583231236531/4694215680)-(640*np.pi*np.pi/3)-(6848*gamma/21)),\\\n",
        "         tf.add(((((-15737765635/3048192)+(2255*np.pi*np.pi/12)))*eta),\\\n",
        "         tf.add(((76055/1728)*etasq),(-127825/1296)*etacb)))\n",
        "    Pl6 = -(6848/21)\n",
        "    P7 = tf.multiply(tf.add((77096675/254016),tf.add(((378515/1512)*eta),(-74045/756)*etasq)),(np.pi))\n",
        "\n",
        "    #Produce full PN terms\n",
        "    PN0 = tf.multiply(P0,v0)\n",
        "    PN2 = tf.multiply(P2,v2)\n",
        "    PN3 = tf.multiply(P3,v3)\n",
        "    PN4 = tf.multiply(P4,v4)\n",
        "    PN5 = tf.multiply(tf.add(P5,tf.multiply(Pl5,v5log)),v5)\n",
        "    PN6 = tf.multiply(tf.add(P6,tf.multiply(Pl6,v6log)),v6)\n",
        "    PN7 = tf.multiply(P7,v7)\n",
        "    \n",
        "    #phases = PN_cnst + PN0(1+PN1*v+PN2*v2+PN3*v3+PN4+PN5+PN6+PN7)\n",
        "    if phase_order == 7:\n",
        "        phases = tf.multiply(PN0,(1+PN2+PN3+PN4+PN5+PN6+PN7))\n",
        "    elif phase_order == 6:\n",
        "        phases = tf.multiply(PN0,(1+PN2+PN3+PN4+PN5+PN6))\n",
        "    elif phase_order == 5:\n",
        "        phases = tf.multiply(PN0,(1+PN2+PN3+PN4+PN5))\n",
        "    elif phase_order == 4:\n",
        "        phases = tf.multiply(PN0,(1+PN2+PN3+PN4)) \n",
        "    elif phase_order == 3:\n",
        "        phases = tf.multiply(PN0,(1+PN2+PN3))\n",
        "    elif phase_order == 2:\n",
        "        phases = tf.multiply(PN0,(1+PN2))\n",
        "    elif phase_order == 1:\n",
        "        phases = PN0\n",
        "    else:\n",
        "        phases = PN0\n",
        "        \n",
        "    return phases\n",
        "                         \n",
        "def PN_amplitude(freq,ChirpMass,LuminosityDistance):\n",
        "    \"\"\"\n",
        "    Amplitude at 0PN order\n",
        "    \n",
        "    \"\"\"\n",
        "    #returns the amplitude of the 0PN waveform\n",
        "    #arguments are chirp mass, luminosity distance and frequencies\n",
        "                         \n",
        "    term1 = tf.reciprocal(LuminosityDistance/299792458)# divide by factor of c to convert to units of time\n",
        "    term2 = tf.multiply(np.sqrt(5/24)*(np.pi**(-2/3)),tf.pow(ChirpMass*4.92549102554e-6,(5/6))) #times by mtsol to get units of time\n",
        "    term3 = tf.pow(freq,(-7/6))\n",
        "                         \n",
        "    return tf.multiply(term1,tf.multiply(term2,term3))\n",
        "                         \n",
        "def taylorf2(mass1,mass2,frequencies=None,LuminosityDistance=1.,f_low=10.,\n",
        "               df=1./512,f_high=1600.,phase_order=0):\n",
        "    \"\"\"\n",
        "    TaylorFlow Main Function\n",
        "    \n",
        "    \"\"\"\n",
        "                         \n",
        "    #Define variable and constants in TensorFlow variables and constants   \n",
        "    #Masses and frequencies are required inputs\n",
        "    mass1 = tf.constant(mass1,name=\"mass1\",dtype=tf.float32)\n",
        "    mass2 = tf.constant(mass2,name=\"mass2\",dtype=tf.float32)\n",
        "    \n",
        "    #get total mass,chirp mass and symetric mass ratio for use later in function\n",
        "    M = tf.add(mass1,mass2)\n",
        "    eta = tf.divide(tf.multiply(mass1,mass2),tf.pow(M,2))\n",
        "    ChirpMass = tf.multiply(M,tf.pow(eta,(3/5))) #Chirp mass is given by M*(eta^3/5)   \n",
        "    \n",
        "    #define fISCO\n",
        "    f_ISO = 1/(6.**1.5*np.pi*(M)*4.92549102554e-6) #frequency of innermost stable circular orbit (SI units)\n",
        "    \n",
        "    #define frequencies\n",
        "    if frequencies is None:\n",
        "        f = tf.range(1.,f_ISO,df)\n",
        "        frequencies = tf.Variable(f,name= \"frequencies\",dtype= tf.float32)\n",
        "    else: \n",
        "        frequencies[0] = 1\n",
        "        frequencies = tf.Variable(frequencies,name= \"frequencies\",dtype= tf.float32)\n",
        "            \n",
        "    #other constants                     \n",
        "    L_D =  tf.constant((3.086e+22*LuminosityDistance),name=\"LuminosityDistance\",dtype=tf.float32) \n",
        "    \n",
        "    #get phases at PN order\n",
        "    phase = PN_phases(frequencies, M, eta, phase_order)\n",
        "    \n",
        "    #get restricted amplitude\n",
        "    amp = PN_amplitude(frequencies,ChirpMass,L_D)\n",
        "    \n",
        "    #set amplitude to zero where the waveform results are unphysical/unwanted\n",
        "    cond1 = frequencies<f_low #below f_low\n",
        "    ind1 = tf.where(cond1)\n",
        "    cond2 = frequencies>f_ISO #above fISCO\n",
        "    ind2 = tf.where(cond2)\n",
        "    amp = tf.scatter_update(tf.Variable(amp), ind1, tf.constant(0.))\n",
        "    amp = tf.scatter_update(tf.Variable(amp), ind2, tf.constant(0.))\n",
        "    \n",
        "    #Calculte waveform\n",
        "    iphase = tf.multiply(tf.complex(0.,1.),tf.complex(phase-(np.pi/4)+np.pi,0.))\n",
        "    waveform = tf.multiply(tf.complex(amp,0.),tf.exp(iphase))\n",
        "      \n",
        "    return frequencies, waveform"
      ],
      "execution_count": 0,
      "outputs": []
    },
    {
      "cell_type": "code",
      "metadata": {
        "id": "UJ3WC7-KLoyQ",
        "colab_type": "code",
        "colab": {}
      },
      "source": [
        "def pyPN_phases(freq,mTot,eta,phase_order):\n",
        "    \"produce phases at 0PN order\"\n",
        "    \n",
        "    #constants in equation\n",
        "    mtsun = 4.925491025543575903411922162094833998e-6\n",
        "    piM = mTot*np.pi*mtsun # pi multiplyed by total mass in seconds\n",
        "    v = (piM*freq)**(1/3) #Characteristic Velocity of Binary\n",
        "    etasq = eta*eta # square of the symmetric mass ratio\n",
        "    etacb= eta*eta*eta # cube of the symmetric mass ratio\n",
        "    gamma = 0.577215664901532 #Euler–Mascheroni constant\n",
        "    theta = -11831./9240.\n",
        "    lambdaa = -1987./3080.0\n",
        "    \n",
        "    \n",
        "    #Generate V terms\n",
        "    V0 = v**(-5)\n",
        "    V2 = v**2\n",
        "    V3 = v*V2\n",
        "    V4 = v*V3\n",
        "    V5 = v*V4\n",
        "    Vlog5 = np.log(v)\n",
        "    V6 = v*V5\n",
        "    Vlog6 = np.log(4*v)\n",
        "    V7 = v*V6\n",
        "    \n",
        "    # generate phase coefficients\n",
        "    P0 = (3/128)*(1/eta)\n",
        "    P2 = (743/84+(11*eta))*(5/9)\n",
        "    P3 = (-16*np.pi)\n",
        "    P4 = 10*((3058673/1016064)+((5429/1008)*eta)+((617/144)*etasq))\n",
        "    P5 = 5.0/9.0 * (7729.0/84.0 - 13.0 * eta) * np.pi \n",
        "    Pl5 = 5.0/3.0 * (7729.0/84.0 - 13.0 * eta) * np.pi \n",
        "    P6 = (11583.231236531/4.694215680 - 640.0/3.0 * np.pi * np.pi- \\\n",
        "            6848.0/21.0*gamma) + \\\n",
        "            eta * (-15335.597827/3.048192 + 2255./12. * np.pi * \\\n",
        "            np.pi - 1760./3.*theta +12320./9.*lambdaa) + \\\n",
        "            etasq * 76055.0/1728.0 - \\\n",
        "            etacb*  127825.0/1296.0\n",
        "    Pl6 = -6848.0/21.0\n",
        "    P7 = np.pi*((77096675/254016)+((378515/1512)*eta)+((-74045/756)*etasq))\n",
        "    \n",
        "    #Generetate PN terms\n",
        "    \n",
        "    PN0 = P0*V0\n",
        "    PN2 = P2*V2\n",
        "    PN3 = P3*V3\n",
        "    PN4 = P4*V4\n",
        "    PN5 = (P5+Pl5*Vlog5)*V5\n",
        "    PN6 = (P6+Pl6*Vlog6)*V6\n",
        "    PN7 = P7*V7\n",
        "    \n",
        "    #phases = PN_cnst + PN0*(1+PN2+PN3+PN4+PN5+PN6+PN7)\n",
        "    if phase_order == 7:\n",
        "        phases = PN0*(1+PN2+PN3+PN4+PN5+PN6+PN7)\n",
        "    elif phase_order == 6:\n",
        "        phases = PN0*(1+PN2+PN3+PN4+PN5+PN6)\n",
        "    elif phase_order == 5:\n",
        "        phases = PN0*(1+PN2+PN3+PN4+PN5)\n",
        "    elif phase_order == 4:\n",
        "        phases = PN0*(1+PN2+PN3+PN4) \n",
        "    elif phase_order == 3:\n",
        "        phases = PN0*(1+PN2+PN3)\n",
        "    elif phase_order == 2:\n",
        "        phases = PN0*(1+PN2)\n",
        "    elif phase_order == 1:\n",
        "        phases = PN0\n",
        "    else:\n",
        "        phases = PN0\n",
        "    \n",
        "    return phases\n",
        "\n",
        "def pyPN_amplitude(freq,ChirpMass,LuminosityDistance):\n",
        "    \"produce amplitude at 0PN order\"\n",
        "    \n",
        "    return (299792458/LuminosityDistance)*(((5/24)**0.5)*(np.pi**(-2/3)))*((ChirpMass*4.92549102554e-6)**(5/6))*(freq**(-7/6))\n",
        "\n",
        "def pytaylorf2(mass1,mass2,frequencies=None,LuminosityDistance=1.,f_low=10.,\n",
        "               df=1./512, f_high=1600., phase_order=0):\n",
        "    \n",
        "    #genrate characteristic masses\n",
        "    M = mass1+mass2\n",
        "    eta = (mass1*mass2)/(M**2)\n",
        "    ChirpMass = M*(eta**(3/5)) #Chirp mass is given by M*(eta^3/5)\n",
        "    \n",
        "    #define frequencies\n",
        "    f_ISO = 1/(6.**1.5*np.pi*(M)*4.92549102554e-6) #frequency of innermost stable circular orbit (SI units)\n",
        "    if frequencies is None:\n",
        "        f = np.arange(f_low,f_ISO,df)\n",
        "        freq = f\n",
        "    else: \n",
        "        frequencies[0] = 1\n",
        "        freq = frequencies \n",
        "        \n",
        "    #Luminosity distance in SI Units\n",
        "    L_D =  3.086e+22*LuminosityDistance\n",
        "    \n",
        "    #Evaluate phases and amplitudes across frequencies\n",
        "    phase = pyPN_phases(freq,M,eta,phase_order)\n",
        "    amp = pyPN_amplitude(freq,ChirpMass,L_D)\n",
        "    \n",
        "    #set amplitude to zero where the waveform results are unphysical or unwanted\n",
        "    np.array(amp)[np.array(np.argwhere(freq<f_low))] = 0.\n",
        "    np.array(amp)[np.array(np.argwhere(freq>f_ISO))] = 0.\n",
        "    \n",
        "    #Produce waveform\n",
        "    waveform = amp*np.exp(1j*(phase+(3/4)*np.pi))\n",
        "    \n",
        "    return freq, waveform"
      ],
      "execution_count": 0,
      "outputs": []
    },
    {
      "cell_type": "code",
      "metadata": {
        "id": "4fFkIWjPUTUr",
        "colab_type": "code",
        "colab": {}
      },
      "source": [
        "m1 = 1.4\n",
        "m2 = 1.4\n",
        "flow = 10\n",
        "fhigh = 2000\n",
        "df = 1./512"
      ],
      "execution_count": 0,
      "outputs": []
    },
    {
      "cell_type": "code",
      "metadata": {
        "id": "j4m_Q4YvO42G",
        "colab_type": "code",
        "colab": {
          "base_uri": "https://localhost:8080/",
          "height": 188
        },
        "outputId": "6a50ee30-3221-41ba-c674-a5bdd6948db9"
      },
      "source": [
        "PN_order = 7\n",
        "\n",
        "speed_tests = 1\n",
        "pycbc_speeds = np.zeros(speed_tests)\n",
        "tf_speeds = np.zeros(speed_tests)\n",
        "tfcpu_speeds = np.zeros(speed_tests)\n",
        "tfgpu_speeds = np.zeros(speed_tests)\n",
        "python_speeds = np.zeros(speed_tests)\n",
        "\n",
        "for speed in range(speed_tests):\n",
        "    pycbc_start = time.time()\n",
        "    pycbc_waveform, hc1 = pycbc.waveform.get_fd_waveform(approximant=\"TaylorF2\",\n",
        "                                 mass1=m1, mass2=m2,\n",
        "                                 f_lower=flow,\n",
        "                                 f_high = fhigh,\n",
        "                                 delta_f=df,\n",
        "                                 phase_order=PN_order,\n",
        "                                 amplitude_order=0)\n",
        "    pycbc_end = time.time()\n",
        "    pycbc_speeds[speed] = pycbc_end-pycbc_start\n",
        "    #####\n",
        "    tf_start = time.time()\n",
        "    freq,tf_waveform = taylorf2(m1,m2,\n",
        "                                df = df,\n",
        "                                f_low = flow,\n",
        "                                f_high = fhigh,\n",
        "                                phase_order = PN_order)\n",
        "    tf_end = time.time()\n",
        "    tf_speeds[speed] = tf_end-tf_start\n",
        "    #####\n",
        "    tfcpu_start = time.time()\n",
        "    with tf.device('/cpu:0'):\n",
        "        freq,tf_waveform = taylorf2(m1,m2,\n",
        "                                df = df,\n",
        "                                f_low = flow,\n",
        "                                f_high = fhigh,\n",
        "                                phase_order = PN_order)\n",
        "\n",
        "    tfcpu_end = time.time()\n",
        "    tfcpu_speeds[speed] = tfcpu_end-tfcpu_start\n",
        "    #####\n",
        "    tfgpu_start = time.time()\n",
        "    with tf.device('/gpu:0'):\n",
        "        freq,tf_waveform = taylorf2(m1,m2,\n",
        "                                df = df,\n",
        "                                f_low = flow,\n",
        "                                f_high = fhigh,\n",
        "                                phase_order = PN_order)\n",
        "\n",
        "    tfgpu_end = time.time()\n",
        "    tfgpu_speeds[speed] = tfgpu_end-tfgpu_start\n",
        "    #####\n",
        "    py_start = time.time()\n",
        "    pyfreq,pywaveform = pytaylorf2(m1,m2,\n",
        "                                df = df,\n",
        "                                f_low = flow,\n",
        "                                f_high = fhigh,\n",
        "                                phase_order = PN_order)\n",
        "    py_end = time.time()\n",
        "    python_speeds[speed] = py_end-py_start\n",
        "\n",
        "print('pycbc time is %g' %(pycbc_end-pycbc_start))\n",
        "print('TaylorFlow CPU/GPU time is %g' %(tf_end-tf_start))\n",
        "print('TaylorFlow CPU time is %g' %(tfcpu_end-tfcpu_start))\n",
        "print('TaylorFlow GPU time is %g' %(tfgpu_end-tfgpu_start))\n",
        "print('python time is %g' %(py_end-py_start))\n"
      ],
      "execution_count": 6,
      "outputs": [
        {
          "output_type": "stream",
          "text": [
            "WARNING: Logging before flag parsing goes to stderr.\n",
            "W0820 09:00:10.200972 139628644591488 deprecation.py:323] From <ipython-input-3-f6292a7525dd>:120: add_dispatch_support.<locals>.wrapper (from tensorflow.python.ops.array_ops) is deprecated and will be removed in a future version.\n",
            "Instructions for updating:\n",
            "Use tf.where in 2.0, which has the same broadcast rule as np.where\n"
          ],
          "name": "stderr"
        },
        {
          "output_type": "stream",
          "text": [
            "pycbc time is 0.150683\n",
            "TaylorFlow CPU/GPU time is 0.502088\n",
            "TaylorFlow CPU time is 0.161334\n",
            "TaylorFlow GPU time is 0.0243897\n",
            "python time is 0.30405\n"
          ],
          "name": "stdout"
        }
      ]
    },
    {
      "cell_type": "code",
      "metadata": {
        "id": "GDyGykGBVl4C",
        "colab_type": "code",
        "outputId": "928d618d-ec7e-4b36-993b-b45bb7bd2a53",
        "colab": {
          "base_uri": "https://localhost:8080/",
          "height": 357
        }
      },
      "source": [
        "PN_order = 7\n",
        "\n",
        "total_start = time.time()\n",
        "\n",
        "speed_tests = 500\n",
        "pycbc_speeds = np.zeros(speed_tests)\n",
        "tf_speeds = np.zeros(speed_tests)\n",
        "tfcpu_speeds = np.zeros(speed_tests)\n",
        "tfgpu_speeds = np.zeros(speed_tests)\n",
        "python_speeds = np.zeros(speed_tests)\n",
        "\n",
        "for speed in range(speed_tests):\n",
        "    pycbc_start = time.time()\n",
        "    pycbc_waveform, hc1 = pycbc.waveform.get_fd_waveform(approximant=\"TaylorF2\",\n",
        "                                 mass1=m1, mass2=m2,\n",
        "                                 f_lower=flow,\n",
        "                                 f_high = fhigh,\n",
        "                                 delta_f=df,\n",
        "                                 phase_order=PN_order,\n",
        "                                 amplitude_order=0)\n",
        "    pycbc_end = time.time()\n",
        "    pycbc_speeds[speed] = pycbc_end-pycbc_start\n",
        "    #####\n",
        "    tf_start = time.time()\n",
        "    freq,tf_waveform = taylorf2(m1,m2,\n",
        "                                df = df,\n",
        "                                f_low = flow,\n",
        "                                f_high = fhigh,\n",
        "                                phase_order = PN_order)\n",
        "    tf_end = time.time()\n",
        "    tf_speeds[speed] = tf_end-tf_start\n",
        "    #####\n",
        "    tfcpu_start = time.time()\n",
        "    with tf.device('/cpu:0'):\n",
        "        freq,tf_waveform = taylorf2(m1,m2,\n",
        "                                df = df,\n",
        "                                f_low = flow,\n",
        "                                f_high = fhigh,\n",
        "                                phase_order = PN_order)\n",
        "\n",
        "    tfcpu_end = time.time()\n",
        "    tfcpu_speeds[speed] = tfcpu_end-tfcpu_start\n",
        "    #####\n",
        "    tfgpu_start = time.time()\n",
        "    with tf.device('/gpu:0'):\n",
        "        freq,tf_waveform = taylorf2(m1,m2,\n",
        "                                df = df,\n",
        "                                f_low = flow,\n",
        "                                f_high = fhigh,\n",
        "                                phase_order = PN_order)\n",
        "\n",
        "    tfgpu_end = time.time()\n",
        "    tfgpu_speeds[speed] = tfgpu_end-tfgpu_start\n",
        "    #####\n",
        "    py_start = time.time()\n",
        "    pyfreq,pywaveform = pytaylorf2(m1,m2,\n",
        "                                df = df,\n",
        "                                f_low = flow,\n",
        "                                f_high = fhigh,\n",
        "                                phase_order = PN_order)\n",
        "    py_end = time.time()\n",
        "    python_speeds[speed] = py_end-py_start\n",
        "total_stop = time.time()\n",
        "\n",
        "print('total time is %g' %(total_stop-total_start))\n",
        "\n",
        "plt.figure()\n",
        "plt.plot(pycbc_waveform.sample_frequencies,pycbc_waveform)\n",
        "plt.plot(freq.numpy(),tf_waveform)\n",
        "plt.plot(pyfreq[:],pywaveform[:])\n",
        "plt.ylabel('strain')\n",
        "plt.xlabel('frequencies (Hz)')\n",
        "plt.legend(['Pycbc','TaylorFlow','Python'])\n",
        "\n"
      ],
      "execution_count": 7,
      "outputs": [
        {
          "output_type": "stream",
          "text": [
            "total time is 299.95\n"
          ],
          "name": "stdout"
        },
        {
          "output_type": "stream",
          "text": [
            "/usr/local/lib/python3.6/dist-packages/numpy/core/numeric.py:538: ComplexWarning: Casting complex values to real discards the imaginary part\n",
            "  return array(a, dtype, copy=False, order=order)\n"
          ],
          "name": "stderr"
        },
        {
          "output_type": "execute_result",
          "data": {
            "text/plain": [
              "<matplotlib.legend.Legend at 0x7efd702667f0>"
            ]
          },
          "metadata": {
            "tags": []
          },
          "execution_count": 7
        },
        {
          "output_type": "display_data",
          "data": {
            "image/png": "[encoded data removed]",
            "text/plain": [
              "<Figure size 432x288 with 1 Axes>"
            ]
          },
          "metadata": {
            "tags": []
          }
        }
      ]
    },
    {
      "cell_type": "code",
      "metadata": {
        "id": "8_wTOT0FV_wq",
        "colab_type": "code",
        "outputId": "8569e087-86e9-4f65-9e44-b4b9042bef5c",
        "colab": {
          "base_uri": "https://localhost:8080/",
          "height": 283
        }
      },
      "source": [
        "plt.figure()\n",
        "bins = 30\n",
        "plt.hist(pycbc_speeds[:],bins,density=True)\n",
        "plt.hist(tf_speeds[:],bins,density=True)\n",
        "plt.hist(tfcpu_speeds[:],bins,density=True)\n",
        "plt.hist(tfgpu_speeds[:],bins,density=True,color='firebrick')\n",
        "plt.hist(python_speeds[:],bins,density=True,color='darkviolet')\n",
        "\n",
        "plt.xlabel('Time (s)')\n",
        "plt.ylabel('Probability Density')\n",
        "plt.legend(['PyCBC','TensorFlow GPU/CPU Hybrid','TensorFlow CPU','TensorFlow GPU','Python'])\n",
        "plt.grid()"
      ],
      "execution_count": 15,
      "outputs": [
        {
          "output_type": "display_data",
          "data": {
            "image/png": "[encoded data removed]",
            "text/plain": [
              "<Figure size 432x288 with 1 Axes>"
            ]
          },
          "metadata": {
            "tags": []
          }
        }
      ]
    },
    {
      "cell_type": "markdown",
      "metadata": {
        "id": "933eyMfKukoJ",
        "colab_type": "text"
      },
      "source": [
        "speed histograms for 500 waveforms per method generated at m1=m2=1.4mSol (3.5PN)"
      ]
    },
    {
      "cell_type": "code",
      "metadata": {
        "id": "dG5NXGOnPcCP",
        "colab_type": "code",
        "outputId": "4c0f3e89-096a-465a-f204-50413a79919d",
        "colab": {
          "base_uri": "https://localhost:8080/",
          "height": 317
        }
      },
      "source": [
        "plt.figure()\n",
        "plt.hist(pycbc_speeds[:],30,density=True)\n",
        "plt.xlabel('Time (s)')\n",
        "plt.ylabel('Probability Density')\n",
        "plt.legend(['PyCBC'])\n",
        "plt.grid()\n",
        "plt.axvline(pycbc_speeds.mean(), color='k', linestyle='dashed', linewidth=1)\n",
        "plt.axvline(pycbc_speeds.mean()+pycbc_speeds.std(), color='r', linestyle='dashed', linewidth=1)\n",
        "plt.axvline(pycbc_speeds.mean()-pycbc_speeds.std(), color='r', linestyle='dashed', linewidth=1)\n",
        "\n",
        "print('mean = %f' %(pycbc_speeds.mean()))\n",
        "print('std = %f'%(pycbc_speeds.std()))"
      ],
      "execution_count": 29,
      "outputs": [
        {
          "output_type": "stream",
          "text": [
            "mean = 0.126459\n",
            "std = 0.002934\n"
          ],
          "name": "stdout"
        },
        {
          "output_type": "display_data",
          "data": {
            "image/png": "[encoded data removed]",
            "text/plain": [
              "<Figure size 432x288 with 1 Axes>"
            ]
          },
          "metadata": {
            "tags": []
          }
        }
      ]
    },
    {
      "cell_type": "code",
      "metadata": {
        "id": "Vs953lgUPgNJ",
        "colab_type": "code",
        "outputId": "73a31682-fd0e-4fa7-cfd4-037769d86919",
        "colab": {
          "base_uri": "https://localhost:8080/",
          "height": 317
        }
      },
      "source": [
        "plt.figure()\n",
        "plt.hist(tf_speeds[:],30,density=True,color='darkorange')\n",
        "plt.xlabel('Time (s)')\n",
        "plt.ylabel('Probability Density')\n",
        "plt.legend(['TensorFlow GPU/CPU Hybrid'])\n",
        "plt.grid()\n",
        "plt.axvline(tf_speeds.mean(), color='k', linestyle='dashed', linewidth=1)\n",
        "plt.axvline(tf_speeds.mean()+tf_speeds.std(), color='r', linestyle='dashed', linewidth=1)\n",
        "plt.axvline(tf_speeds.mean()-tf_speeds.std(), color='r', linestyle='dashed', linewidth=1)\n",
        "\n",
        "print('mean = %f' %(tf_speeds.mean()))\n",
        "print('std = %f'%(tf_speeds.std()))"
      ],
      "execution_count": 23,
      "outputs": [
        {
          "output_type": "stream",
          "text": [
            "mean = 0.024621\n",
            "std = 0.001488\n"
          ],
          "name": "stdout"
        },
        {
          "output_type": "display_data",
          "data": {
            "image/png": "[encoded data removed]",
            "text/plain": [
              "<Figure size 432x288 with 1 Axes>"
            ]
          },
          "metadata": {
            "tags": []
          }
        }
      ]
    },
    {
      "cell_type": "code",
      "metadata": {
        "id": "Uh2GGY-LPjXD",
        "colab_type": "code",
        "outputId": "6f23afc8-db8e-49ed-fa9b-936eef576a61",
        "colab": {
          "base_uri": "https://localhost:8080/",
          "height": 317
        }
      },
      "source": [
        "plt.figure()\n",
        "plt.hist(tfcpu_speeds[:],30,density=True,color='g')\n",
        "plt.xlabel('Time (s)')\n",
        "plt.ylabel('Probability Density')\n",
        "plt.legend(['TensorFlow CPU'])\n",
        "plt.grid()\n",
        "plt.axvline(tfcpu_speeds.mean(), color='k', linestyle='dashed', linewidth=1)\n",
        "plt.axvline(tfcpu_speeds.mean()+tfcpu_speeds.std(), color='r', linestyle='dashed', linewidth=1)\n",
        "plt.axvline(tfcpu_speeds.mean()-tfcpu_speeds.std(), color='r', linestyle='dashed', linewidth=1)\n",
        "\n",
        "print('mean = %f' %(tfcpu_speeds.mean()))\n",
        "print('std = %f'%(tfcpu_speeds.std()))"
      ],
      "execution_count": 24,
      "outputs": [
        {
          "output_type": "stream",
          "text": [
            "mean = 0.145375\n",
            "std = 0.004275\n"
          ],
          "name": "stdout"
        },
        {
          "output_type": "display_data",
          "data": {
            "image/png": "[encoded data removed]",
            "text/plain": [
              "<Figure size 432x288 with 1 Axes>"
            ]
          },
          "metadata": {
            "tags": []
          }
        }
      ]
    },
    {
      "cell_type": "code",
      "metadata": {
        "id": "rvatQ5TUPmGh",
        "colab_type": "code",
        "outputId": "74f3dd4f-cba6-4be0-f1aa-23ef65f3a39a",
        "colab": {
          "base_uri": "https://localhost:8080/",
          "height": 317
        }
      },
      "source": [
        "plt.figure()\n",
        "plt.hist(tfgpu_speeds[:],30,density=True,color='firebrick')\n",
        "plt.xlabel('Time (s)')\n",
        "plt.ylabel('Probability Density')\n",
        "plt.legend(['TensorFlow GPU'])\n",
        "plt.grid()\n",
        "plt.axvline(tfgpu_speeds.mean(), color='k', linestyle='dashed', linewidth=1)\n",
        "plt.axvline(tfgpu_speeds.mean()+tfgpu_speeds.std(), color='g', linestyle='dashed', linewidth=1)\n",
        "plt.axvline(tfgpu_speeds.mean()-tfgpu_speeds.std(), color='g', linestyle='dashed', linewidth=1)\n",
        "\n",
        "print('mean = %f' %(tfgpu_speeds.mean()))\n",
        "print('std = %f'%(tfgpu_speeds.std()))"
      ],
      "execution_count": 26,
      "outputs": [
        {
          "output_type": "stream",
          "text": [
            "mean = 0.020340\n",
            "std = 0.001667\n"
          ],
          "name": "stdout"
        },
        {
          "output_type": "display_data",
          "data": {
            "image/png": "[encoded data removed]",
            "text/plain": [
              "<Figure size 432x288 with 1 Axes>"
            ]
          },
          "metadata": {
            "tags": []
          }
        }
      ]
    },
    {
      "cell_type": "code",
      "metadata": {
        "id": "b4qIX9w4PoFs",
        "colab_type": "code",
        "outputId": "6ae2b446-d9ce-426b-e0c3-210950311a9a",
        "colab": {
          "base_uri": "https://localhost:8080/",
          "height": 317
        }
      },
      "source": [
        "plt.figure()\n",
        "plt.hist(python_speeds[:],30,density=True,color='darkviolet')\n",
        "plt.xlabel('Time (s)')\n",
        "plt.ylabel('Probability Density')\n",
        "plt.legend(['Python'])\n",
        "plt.grid()\n",
        "plt.axvline(python_speeds.mean(), color='k', linestyle='dashed', linewidth=1)\n",
        "plt.axvline(python_speeds.mean()+python_speeds.std(), color='g', linestyle='dashed', linewidth=1)\n",
        "plt.axvline(python_speeds.mean()-python_speeds.std(), color='g', linestyle='dashed', linewidth=1)\n",
        "\n",
        "print('mean = %f' %(python_speeds.mean()))\n",
        "print('std = %f'%(python_speeds.std()))"
      ],
      "execution_count": 27,
      "outputs": [
        {
          "output_type": "stream",
          "text": [
            "mean = 0.283072\n",
            "std = 0.005072\n"
          ],
          "name": "stdout"
        },
        {
          "output_type": "display_data",
          "data": {
            "image/png": "[encoded data removed]",
            "text/plain": [
              "<Figure size 432x288 with 1 Axes>"
            ]
          },
          "metadata": {
            "tags": []
          }
        }
      ]
    },
    {
      "cell_type": "code",
      "metadata": {
        "id": "UHpyI0XEJZ0k",
        "colab_type": "code",
        "outputId": "fa87e2e6-6e37-4f26-b427-c87e6d639555",
        "colab": {
          "base_uri": "https://localhost:8080/",
          "height": 134
        }
      },
      "source": [
        "print(pycbc_waveform.sample_frequencies[512:])\n",
        "print(freq.numpy())\n",
        "print(pycbc_waveform.sample_frequencies[1]-pycbc_waveform.sample_frequencies[0])\n",
        "print(freq.numpy()[1]-freq.numpy()[0])\n",
        "print(len(pycbc_waveform.sample_frequencies)-len(freq.numpy()))"
      ],
      "execution_count": 21,
      "outputs": [
        {
          "output_type": "stream",
          "text": [
            "[1.00000000e+00 1.00195312e+00 1.00390625e+00 ... 1.57041406e+03\n",
            " 1.57041602e+03 1.57041797e+03]\n",
            "[1.0000000e+00 1.0019531e+00 1.0039062e+00 ... 1.5704141e+03 1.5704160e+03\n",
            " 1.5704180e+03]\n",
            "0.001953125\n",
            "0.001953125\n",
            "512\n"
          ],
          "name": "stdout"
        }
      ]
    }
  ]
}
