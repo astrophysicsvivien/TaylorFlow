{
 "cells": [
  {
   "cell_type": "code",
   "execution_count": 1,
   "metadata": {},
   "outputs": [],
   "source": [
    "#preamble\n",
    "import numpy as np\n",
    "import matplotlib.pyplot as plt\n",
    "from pycbc import types, waveform"
   ]
  },
  {
   "cell_type": "code",
   "execution_count": 2,
   "metadata": {},
   "outputs": [],
   "source": [
    "m1 = 2\n",
    "m2 = 2\n",
    "f_low = 20.\n",
    "df = 1./512"
   ]
  },
  {
   "cell_type": "code",
   "execution_count": 3,
   "metadata": {},
   "outputs": [],
   "source": [
    "waveformplus,waveformcross = waveform.get_fd_waveform(approximant=\"TaylorF2\",\n",
    "                         mass1=m1,\n",
    "                         mass2=m2,\n",
    "                         f_lower=f_low,\n",
    "                         delta_f=df,\n",
    "                         phase_order=0,\n",
    "                         amplitude_order=0)"
   ]
  },
  {
   "cell_type": "code",
   "execution_count": 4,
   "metadata": {},
   "outputs": [],
   "source": [
    "#save frequency and waveform to file\n",
    "\n",
    "np.savetxt('PycbcFreq.txt',(waveformplus.sample_frequencies))\n",
    "np.savetxt('PycbcWaveform.txt', waveformplus)"
   ]
  },
  {
   "cell_type": "code",
   "execution_count": null,
   "metadata": {},
   "outputs": [],
   "source": []
  }
 ],
 "metadata": {
  "kernelspec": {
   "display_name": "ligo-py36",
   "language": "python",
   "name": "ligo-py36"
  },
  "language_info": {
   "codemirror_mode": {
    "name": "ipython",
    "version": 3
   },
   "file_extension": ".py",
   "mimetype": "text/x-python",
   "name": "python",
   "nbconvert_exporter": "python",
   "pygments_lexer": "ipython3",
   "version": "3.6.7"
  }
 },
 "nbformat": 4,
 "nbformat_minor": 2
}
