{
 "cells": [
  {
   "cell_type": "code",
   "execution_count": 1,
   "metadata": {},
   "outputs": [],
   "source": [
    "#Preamble\n",
    "import tensorflow as tf\n",
    "#enable Eager execution\n",
    "tf.enable_eager_execution()\n",
    "\n",
    "import numpy as np\n",
    "import matplotlib.pyplot as plt\n"
   ]
  },
  {
   "cell_type": "code",
   "execution_count": 2,
   "metadata": {},
   "outputs": [],
   "source": [
    "#Start Interactive Session\n",
    "sess = tf.InteractiveSession()\n",
    "\n",
    "def mTot(mass1,mass2):\n",
    "    # Input tensor constants, outputs a tensor constant\n",
    "    return tf.add(mass1,mass2)\n",
    "\n",
    "def eta(mass1,mass2):\n",
    "    #returns symetric mass in TensorFlow syntax\n",
    "    #must input tensorflow constants\n",
    "    M = mTot(mass1,mass2)\n",
    "    \n",
    "    eta_top = tf.multiply(mass1,mass2)\n",
    "    eta_bottom = tf.square(tf.add(mass1,mass2))\n",
    "    \n",
    "    return tf.divide(eta_top,eta_bottom)\n",
    "\n",
    "def mChirp(mass1,mass2):\n",
    "    \n",
    "    M = mTot(mass1,mass2)\n",
    "    m_eta = eta(mass1,mass2)\n",
    "        \n",
    "    #Chirp mass is given by M*(eta^3/5)\n",
    "    ChirpMass = tf.multiply(M,tf.pow(m_eta,(3/5)))\n",
    "    \n",
    "    return ChirpMass\n",
    "    \n",
    "def vParam(mTotal,frequencies,Order):\n",
    "    \n",
    "    piM = tf.multiply(mTotal,np.pi)\n",
    "    v = tf.pow(tf.multiply(piM,frequencies),(1/3))\n",
    "    \n",
    "    return tf.pow(v,Order)\n",
    "    \n",
    "def phase_0PN(freq,mTot,mSym,t_c,phi_c):\n",
    "    # returns the phase orders of the 0PN waveform\n",
    "    # arguments are total mass, frequencies, symertric mass ratio, coelescence time & coalecencse phase\n",
    "    \n",
    "    #Equation in non-TensorFlow syntax is given as:\n",
    "    #(3/128)*((np.pi*mTot*freq)**(-5/3))*(1/mSym)+(2*np.pi*freq*t_c) - phi_c\n",
    "    \n",
    "    #constants in equation\n",
    "    c1 = tf.constant((3/128), name= \"cnst1\", dtype= tf.float32)\n",
    "    c2 = tf.constant((2*np.pi*t_c),name = \"coa_time_cnst\", dtype = tf.float32)\n",
    "    coa_phase = tf.constant(phi_c,name = \"coa_phase\", dtype = tf.float32)\n",
    "    eta_r = tf.reciprocal(mSym)\n",
    "\n",
    "    #multiply terms\n",
    "    term1 = tf.multiply(c1,tf.multiply(vParam(mTot,freq,(-5)),eta_r))\n",
    "                        \n",
    "    #produce 2pift term\n",
    "    term2 = tf.multiply(c2,freq)\n",
    "\n",
    "    #add terms\n",
    "    phases = tf.add(term1,tf.add(term2,(-phi_c)))\n",
    "        \n",
    "    return phases\n",
    "                         \n",
    "def amp_0PN(freq,ChirpMass,LuminosityDistance):\n",
    "    #returns the amplitude of the 0PN waveform\n",
    "    #arguments are chirp mass, luminosity distance and frequencies\n",
    "                         \n",
    "    term1 = tf.reciprocal(LuminosityDistance)\n",
    "    term2 = tf.multiply(np.sqrt(5/24)*(np.pi**(-2/3)),tf.pow(ChirpMass,(5/6)))\n",
    "    term3 = tf.pow(freq,(-7/6))\n",
    "                         \n",
    "    return tf.multiply(term1,tf.multiply(term2,term3))\n",
    "                         \n",
    "def TaylorFlow(mass1,mass2,frequencies,LuminosityDistance=40,t_c=-1.0,phi_c=np.pi):\n",
    "    \"\"\"TaylorFlow\"\"\"\n",
    "                         \n",
    "    #Define variable and constants in TensorFlow variables and constants    \n",
    "    #Masses and frequencies are required inputs\n",
    "    mass1 = tf.constant(mass1,name=\"mass1\",dtype=tf.float32)\n",
    "    mass2 = tf.constant(mass2,name=\"mass2\",dtype=tf.float32)\n",
    "    frequencies = tf.constant(frequencies,name= frequencies,dtype= tf.float32)\n",
    "    #other constants                     \n",
    "    L_D =  tf.constant((3.086e+22*LuminosityDistance),name=\"LuminosityDistance\",dtype=tf.float32) \n",
    "    \n",
    "    #get total mass,chirp mass and symetric mass ratio for use later in function\n",
    "    M = mTot(mass1,mass2)\n",
    "    etaMass = eta(mass1,mass2)\n",
    "    ChirpMass = mChirp(mass1,mass2)\n",
    "    \n",
    "    #get phases at 0PN order\n",
    "    phase = phase_0PN(frequencies,M,etaMass,t_c,phi_c)\n",
    "    amp = amp_0PN(frequencies,ChirpMass,L_D)\n",
    "    \n",
    "    iphase = tf.multiply(tf.complex(0.,1.),tf.complex(phase,0.))\n",
    "    waveform = tf.multiply(tf.complex(amp,0.),tf.exp(iphase))\n",
    "    return waveform\n",
    "\n",
    "def getFrequencies(mass1,mass2,f_low,df):\n",
    "\n",
    "    M = mass1+mass2\n",
    "    fISCO = 1/(6.**1.5*np.pi*M*4.93e-6)\n",
    "    N = int(fISCO/df + 1)\n",
    "    freq = np.linspace(f_low,fISCO,N,np.float64)\n",
    "    return freq"
   ]
  },
  {
   "cell_type": "code",
   "execution_count": 3,
   "metadata": {},
   "outputs": [],
   "source": [
    "m1 = 1.4\n",
    "m2 = 1.8\n",
    "f = getFrequencies(m1,m2,20,0.5)\n",
    "waveform = TaylorFlow(m1,m2,f)\n",
    "waveform = tf.abs(waveform)"
   ]
  },
  {
   "cell_type": "code",
   "execution_count": 4,
   "metadata": {},
   "outputs": [
    {
     "data": {
      "text/plain": [
       "[<matplotlib.lines.Line2D at 0x21803657860>]"
      ]
     },
     "execution_count": 4,
     "metadata": {},
     "output_type": "execute_result"
    },
    {
     "data": {
      "image/png": "[encoded data removed]",
      "text/plain": [
       "<Figure size 432x288 with 1 Axes>"
      ]
     },
     "metadata": {
      "needs_background": "light"
     },
     "output_type": "display_data"
    }
   ],
   "source": [
    "#print(waveform.numpy())\n",
    "plt.plot(f,waveform.numpy())"
   ]
  },
  {
   "cell_type": "code",
   "execution_count": null,
   "metadata": {},
   "outputs": [],
   "source": []
  }
 ],
 "metadata": {
  "kernelspec": {
   "display_name": "Python 3",
   "language": "python",
   "name": "python3"
  },
  "language_info": {
   "codemirror_mode": {
    "name": "ipython",
    "version": 3
   },
   "file_extension": ".py",
   "mimetype": "text/x-python",
   "name": "python",
   "nbconvert_exporter": "python",
   "pygments_lexer": "ipython3",
   "version": "3.7.3"
  }
 },
 "nbformat": 4,
 "nbformat_minor": 2
}
