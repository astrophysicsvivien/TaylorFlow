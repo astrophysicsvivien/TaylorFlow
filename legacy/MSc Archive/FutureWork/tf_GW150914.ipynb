{
  "nbformat": 4,
  "nbformat_minor": 0,
  "metadata": {
    "colab": {
      "name": "tf_GW150914",
      "version": "0.3.2",
      "provenance": [],
      "collapsed_sections": [],
      "include_colab_link": true
    },
    "kernelspec": {
      "name": "python3",
      "display_name": "Python 3"
    }
  },
  "cells": [
    {
      "cell_type": "markdown",
      "metadata": {
        "id": "view-in-github",
        "colab_type": "text"
      },
      "source": [
        "<a href=\"https://colab.research.google.com/github/astrophysicsvivien/TaylorFlow/blob/master/FutureWork/tf_GW150914.ipynb\" target=\"_parent\"><img src=\"https://colab.research.google.com/assets/colab-badge.svg\" alt=\"Open In Colab\"/></a>"
      ]
    },
    {
      "cell_type": "code",
      "metadata": {
        "id": "kX3B6N0PLNCJ",
        "colab_type": "code",
        "outputId": "b0380474-0163-4347-853e-e52d29d2774c",
        "colab": {
          "base_uri": "https://localhost:8080/",
          "height": 1000
        }
      },
      "source": [
        "pip install lalsuite pycbc"
      ],
      "execution_count": 1,
      "outputs": [
        {
          "output_type": "stream",
          "text": [
            "Collecting lalsuite\n",
            "\u001b[?25l  Downloading https://files.pythonhosted.org/packages/df/af/cc935da87397aab1229c2f84868e9981ec854f1569ef552b4330d1363479/lalsuite-6.62-cp36-cp36m-manylinux1_x86_64.whl (30.3MB)\n",
            "\u001b[K     |████████████████████████████████| 30.3MB 1.2MB/s \n",
            "\u001b[?25hCollecting pycbc\n",
            "\u001b[?25l  Downloading https://files.pythonhosted.org/packages/04/76/7c8acca810d5031a764c1d9d1fae26934509d951aa3d7a37a4539a487e9e/PyCBC-1.14.1.tar.gz (3.0MB)\n",
            "\u001b[K     |████████████████████████████████| 3.0MB 40.1MB/s \n",
            "\u001b[?25hRequirement already satisfied: numpy>=1.7 in /usr/local/lib/python3.6/dist-packages (from lalsuite) (1.16.4)\n",
            "Requirement already satisfied: matplotlib in /usr/local/lib/python3.6/dist-packages (from lalsuite) (3.0.3)\n",
            "Collecting ligo-segments (from lalsuite)\n",
            "\u001b[?25l  Downloading https://files.pythonhosted.org/packages/62/cd/225e331e95cf6aff8ba13bf9a8053b29248a5e71f7fa9bbb1f0db1eaadff/ligo-segments-1.2.0.tar.gz (48kB)\n",
            "\u001b[K     |████████████████████████████████| 51kB 22.1MB/s \n",
            "\u001b[?25hRequirement already satisfied: python-dateutil in /usr/local/lib/python3.6/dist-packages (from lalsuite) (2.5.3)\n",
            "Requirement already satisfied: scipy in /usr/local/lib/python3.6/dist-packages (from lalsuite) (1.3.1)\n",
            "Collecting lscsoft-glue (from lalsuite)\n",
            "\u001b[?25l  Downloading https://files.pythonhosted.org/packages/3b/65/e93853bc1876516db8d58f4590dba1d6b85eaf9d1bd375926ac7897e525a/lscsoft-glue-2.0.0.tar.gz (1.6MB)\n",
            "\u001b[K     |████████████████████████████████| 1.6MB 44.8MB/s \n",
            "\u001b[?25hCollecting Mako>=1.0.1 (from pycbc)\n",
            "\u001b[?25l  Downloading https://files.pythonhosted.org/packages/b0/3c/8dcd6883d009f7cae0f3157fb53e9afb05a0d3d33b3db1268ec2e6f4a56b/Mako-1.1.0.tar.gz (463kB)\n",
            "\u001b[K     |████████████████████████████████| 471kB 50.5MB/s \n",
            "\u001b[?25hRequirement already satisfied: cython in /usr/local/lib/python3.6/dist-packages (from pycbc) (0.29.13)\n",
            "Requirement already satisfied: decorator>=3.4.2 in /usr/local/lib/python3.6/dist-packages (from pycbc) (4.4.0)\n",
            "Requirement already satisfied: pillow in /usr/local/lib/python3.6/dist-packages (from pycbc) (4.3.0)\n",
            "Requirement already satisfied: h5py>=2.5 in /usr/local/lib/python3.6/dist-packages (from pycbc) (2.8.0)\n",
            "Requirement already satisfied: jinja2 in /usr/local/lib/python3.6/dist-packages (from pycbc) (2.10.1)\n",
            "Collecting mpld3>=0.3 (from pycbc)\n",
            "\u001b[?25l  Downloading https://files.pythonhosted.org/packages/91/95/a52d3a83d0a29ba0d6898f6727e9858fe7a43f6c2ce81a5fe7e05f0f4912/mpld3-0.3.tar.gz (788kB)\n",
            "\u001b[K     |████████████████████████████████| 798kB 48.9MB/s \n",
            "\u001b[?25hCollecting emcee==2.2.1 (from pycbc)\n",
            "  Downloading https://files.pythonhosted.org/packages/3f/d3/7635106605dedccd08705beac53be4c43a8da1caad6be667adbf93ed0965/emcee-2.2.1.tar.gz\n",
            "Requirement already satisfied: requests>=1.2.1 in /usr/local/lib/python3.6/dist-packages (from pycbc) (2.21.0)\n",
            "Requirement already satisfied: beautifulsoup4>=4.6.0 in /usr/local/lib/python3.6/dist-packages (from pycbc) (4.6.3)\n",
            "Requirement already satisfied: six>=1.10.0 in /usr/local/lib/python3.6/dist-packages (from pycbc) (1.12.0)\n",
            "Requirement already satisfied: astropy>=2.0.3 in /usr/local/lib/python3.6/dist-packages (from pycbc) (3.0.5)\n",
            "Requirement already satisfied: kiwisolver>=1.0.1 in /usr/local/lib/python3.6/dist-packages (from matplotlib->lalsuite) (1.1.0)\n",
            "Requirement already satisfied: cycler>=0.10 in /usr/local/lib/python3.6/dist-packages (from matplotlib->lalsuite) (0.10.0)\n",
            "Requirement already satisfied: pyparsing!=2.0.4,!=2.1.2,!=2.1.6,>=2.0.1 in /usr/local/lib/python3.6/dist-packages (from matplotlib->lalsuite) (2.4.2)\n",
            "Collecting pyOpenSSL (from lscsoft-glue->lalsuite)\n",
            "\u001b[?25l  Downloading https://files.pythonhosted.org/packages/01/c8/ceb170d81bd3941cbeb9940fc6cc2ef2ca4288d0ca8929ea4db5905d904d/pyOpenSSL-19.0.0-py2.py3-none-any.whl (53kB)\n",
            "\u001b[K     |████████████████████████████████| 61kB 26.5MB/s \n",
            "\u001b[?25hRequirement already satisfied: MarkupSafe>=0.9.2 in /usr/local/lib/python3.6/dist-packages (from Mako>=1.0.1->pycbc) (1.1.1)\n",
            "Requirement already satisfied: olefile in /usr/local/lib/python3.6/dist-packages (from pillow->pycbc) (0.46)\n",
            "Requirement already satisfied: idna<2.9,>=2.5 in /usr/local/lib/python3.6/dist-packages (from requests>=1.2.1->pycbc) (2.8)\n",
            "Requirement already satisfied: certifi>=2017.4.17 in /usr/local/lib/python3.6/dist-packages (from requests>=1.2.1->pycbc) (2019.6.16)\n",
            "Requirement already satisfied: chardet<3.1.0,>=3.0.2 in /usr/local/lib/python3.6/dist-packages (from requests>=1.2.1->pycbc) (3.0.4)\n",
            "Requirement already satisfied: urllib3<1.25,>=1.21.1 in /usr/local/lib/python3.6/dist-packages (from requests>=1.2.1->pycbc) (1.24.3)\n",
            "Requirement already satisfied: setuptools in /usr/local/lib/python3.6/dist-packages (from kiwisolver>=1.0.1->matplotlib->lalsuite) (41.2.0)\n",
            "Collecting cryptography>=2.3 (from pyOpenSSL->lscsoft-glue->lalsuite)\n",
            "\u001b[?25l  Downloading https://files.pythonhosted.org/packages/97/18/c6557f63a6abde34707196fb2cad1c6dc0dbff25a200d5044922496668a4/cryptography-2.7-cp34-abi3-manylinux1_x86_64.whl (2.3MB)\n",
            "\u001b[K     |████████████████████████████████| 2.3MB 40.1MB/s \n",
            "\u001b[?25hRequirement already satisfied: cffi!=1.11.3,>=1.8 in /usr/local/lib/python3.6/dist-packages (from cryptography>=2.3->pyOpenSSL->lscsoft-glue->lalsuite) (1.12.3)\n",
            "Collecting asn1crypto>=0.21.0 (from cryptography>=2.3->pyOpenSSL->lscsoft-glue->lalsuite)\n",
            "\u001b[?25l  Downloading https://files.pythonhosted.org/packages/ea/cd/35485615f45f30a510576f1a56d1e0a7ad7bd8ab5ed7cdc600ef7cd06222/asn1crypto-0.24.0-py2.py3-none-any.whl (101kB)\n",
            "\u001b[K     |████████████████████████████████| 102kB 6.2MB/s \n",
            "\u001b[?25hRequirement already satisfied: pycparser in /usr/local/lib/python3.6/dist-packages (from cffi!=1.11.3,>=1.8->cryptography>=2.3->pyOpenSSL->lscsoft-glue->lalsuite) (2.19)\n",
            "Building wheels for collected packages: pycbc, ligo-segments, lscsoft-glue, Mako, mpld3, emcee\n",
            "  Building wheel for pycbc (setup.py) ... \u001b[?25l\u001b[?25hdone\n",
            "  Created wheel for pycbc: filename=PyCBC-1.14.1-cp36-cp36m-linux_x86_64.whl size=5259691 sha256=962a0314acfff82ba7cc953e9ba00b4b763dd3d44138cf57ff7fe6e82fb6c6aa\n",
            "  Stored in directory: /root/.cache/pip/wheels/3f/7c/19/4914de84108f2eb0aad470552315bcb067a636050e2a1a9437\n",
            "  Building wheel for ligo-segments (setup.py) ... \u001b[?25l\u001b[?25hdone\n",
            "  Created wheel for ligo-segments: filename=ligo_segments-1.2.0-cp36-cp36m-linux_x86_64.whl size=83619 sha256=94dd128bdec50928604a7e898bd4effff940ccb4808982e8efaddc89e3972df6\n",
            "  Stored in directory: /root/.cache/pip/wheels/5d/1e/4a/ab4122baed7d67f6abce65b2b12049d3bc7fe5dad24edf89df\n",
            "  Building wheel for lscsoft-glue (setup.py) ... \u001b[?25l\u001b[?25hdone\n",
            "  Created wheel for lscsoft-glue: filename=lscsoft_glue-2.0.0-cp36-cp36m-linux_x86_64.whl size=414151 sha256=331a312e8b8d4d5c4bf8ff6f67843a7e7f2b75aa2d5028bb42035af95ac90b0b\n",
            "  Stored in directory: /root/.cache/pip/wheels/aa/fa/38/d61b002c627ca54f03755b9a288f4b1fa83291608a4bc47b7b\n",
            "  Building wheel for Mako (setup.py) ... \u001b[?25l\u001b[?25hdone\n",
            "  Created wheel for Mako: filename=Mako-1.1.0-cp36-none-any.whl size=75361 sha256=ca75a4dc12d78d5dd327e3dd68b59d425451ecddae46b7aafd184f30fb589495\n",
            "  Stored in directory: /root/.cache/pip/wheels/98/32/7b/a291926643fc1d1e02593e0d9e247c5a866a366b8343b7aa27\n",
            "  Building wheel for mpld3 (setup.py) ... \u001b[?25l\u001b[?25hdone\n",
            "  Created wheel for mpld3: filename=mpld3-0.3-cp36-none-any.whl size=116679 sha256=9b5327e526e1c8fccb5b8203f1a63b5932750b168f2b6d0af6d055c83dbdd1a6\n",
            "  Stored in directory: /root/.cache/pip/wheels/c0/47/fb/8a64f89aecfe0059830479308ad42d62e898a3e3cefdf6ba28\n",
            "  Building wheel for emcee (setup.py) ... \u001b[?25l\u001b[?25hdone\n",
            "  Created wheel for emcee: filename=emcee-2.2.1-cp36-none-any.whl size=29597 sha256=921cebe7c4df1d60c158ad4b0497061468f478af84222a2fae0b81bd87add936\n",
            "  Stored in directory: /root/.cache/pip/wheels/2f/5d/a5/78f84e23329ad7d9b1787c9d24371100cae74cdefe25eba50d\n",
            "Successfully built pycbc ligo-segments lscsoft-glue Mako mpld3 emcee\n",
            "Installing collected packages: ligo-segments, asn1crypto, cryptography, pyOpenSSL, lscsoft-glue, lalsuite, Mako, mpld3, emcee, pycbc\n",
            "Successfully installed Mako-1.1.0 asn1crypto-0.24.0 cryptography-2.7 emcee-2.2.1 lalsuite-6.62 ligo-segments-1.2.0 lscsoft-glue-2.0.0 mpld3-0.3 pyOpenSSL-19.0.0 pycbc-1.14.1\n"
          ],
          "name": "stdout"
        }
      ]
    },
    {
      "cell_type": "code",
      "metadata": {
        "id": "6MIcY8XGLJql",
        "colab_type": "code",
        "colab": {}
      },
      "source": [
        "from pycbc.frame import read_frame\n",
        "from pycbc.filter import highpass_fir, lowpass_fir\n",
        "from pycbc.waveform import get_fd_waveform\n",
        "from pycbc.psd import welch, interpolate, aLIGOZeroDetHighPower\n",
        "from pycbc.catalog import Merger\n",
        "\n",
        "import pylab\n",
        "import matplotlib.pyplot as plt"
      ],
      "execution_count": 0,
      "outputs": []
    },
    {
      "cell_type": "code",
      "metadata": {
        "id": "UaSltd-JLSk6",
        "colab_type": "code",
        "outputId": "f660849b-a633-4ee7-d025-750d2d86073a",
        "colab": {
          "base_uri": "https://localhost:8080/",
          "height": 317
        }
      },
      "source": [
        "from pycbc.frame import read_frame\n",
        "from pycbc.filter import highpass_fir, lowpass_fir\n",
        "from pycbc.waveform import get_fd_waveform\n",
        "from pycbc.psd import welch, interpolate\n",
        "from pycbc.catalog import Merger\n",
        "import pylab\n",
        "\n",
        "for ifo in ['H1']:\n",
        "    # Read data and remove low frequency content\n",
        "    h1 = Merger(\"GW150914\").strain(ifo)\n",
        "    h1 = highpass_fir(h1, 15, 8)\n",
        "\n",
        "    # Calculate the noise spectrum\n",
        "    psd = interpolate(welch(h1), 1.0 / h1.duration)\n",
        "\n",
        "    # whiten\n",
        "    white_strain = (h1.to_frequencyseries() / psd ** 0.5).to_timeseries()\n",
        "\n",
        "    # remove some of the high and low\n",
        "    smooth = highpass_fir(white_strain, 35, 8)\n",
        "    smooth = lowpass_fir(white_strain, 300, 8)\n",
        "\n",
        "    # time shift and flip L1\n",
        "    if ifo == 'L1':\n",
        "        smooth *= -1\n",
        "        smooth.roll(int(.007 / smooth.delta_t))\n",
        "\n",
        "    pylab.plot(smooth.sample_times, smooth, label=ifo)\n",
        "\n",
        "pylab.legend()\n",
        "pylab.xlim(1126259462.21, 1126259462.45)\n",
        "pylab.ylim(-150, 150)\n",
        "pylab.ylabel('Smoothed-Whitened Strain')\n",
        "pylab.grid()\n",
        "pylab.xlabel('GPS Time (s)')\n",
        "pylab.show()"
      ],
      "execution_count": 3,
      "outputs": [
        {
          "output_type": "stream",
          "text": [
            "Downloading https://www.gw-openscience.org/catalog/GWTC-1-confident/filelist/ [Done]\n",
            "Downloading https://www.gw-openscience.org/catalog/GWTC-1-confident/data/GW150914/H-H1_GWOSC_4KHZ_R1-1126259447-32.gwf [Done]\n"
          ],
          "name": "stdout"
        },
        {
          "output_type": "display_data",
          "data": {
            "image/png": "[encoded data removed]",
            "text/plain": [
              "<Figure size 432x288 with 1 Axes>"
            ]
          },
          "metadata": {
            "tags": []
          }
        }
      ]
    },
    {
      "cell_type": "code",
      "metadata": {
        "id": "Z6IT3TyCcVVF",
        "colab_type": "code",
        "colab": {}
      },
      "source": [
        "fd_smooth = smooth.to_frequencyseries()"
      ],
      "execution_count": 0,
      "outputs": []
    },
    {
      "cell_type": "code",
      "metadata": {
        "id": "gxpUDrv0999f",
        "colab_type": "code",
        "outputId": "98114605-79b9-4b7a-9cd5-9455515703c9",
        "colab": {
          "base_uri": "https://localhost:8080/",
          "height": 34
        }
      },
      "source": [
        "print(h1.start_time)\n"
      ],
      "execution_count": 5,
      "outputs": [
        {
          "output_type": "stream",
          "text": [
            "1126259447\n"
          ],
          "name": "stdout"
        }
      ]
    },
    {
      "cell_type": "code",
      "metadata": {
        "id": "Dnl5x34z_haw",
        "colab_type": "code",
        "colab": {}
      },
      "source": [
        "gps_low = 1126259447"
      ],
      "execution_count": 0,
      "outputs": []
    },
    {
      "cell_type": "code",
      "metadata": {
        "id": "15J1komHRBd0",
        "colab_type": "code",
        "colab": {}
      },
      "source": [
        "import tensorflow as tf\n",
        "#enable Eager execution\n",
        "tf.enable_eager_execution()\n",
        "\n",
        "import numpy as np\n",
        "import matplotlib.pyplot as plt\n",
        "import time"
      ],
      "execution_count": 0,
      "outputs": []
    },
    {
      "cell_type": "code",
      "metadata": {
        "id": "Ny9wXSM7Ou13",
        "colab_type": "code",
        "colab": {}
      },
      "source": [
        "def PN_phases(freq,mTot,eta,phase_order):\n",
        "    \"\"\"\n",
        "    PN phase orders for TaylorF2\n",
        "    \"\"\"\n",
        "    \n",
        "    #constants in equation\n",
        "    piM = tf.multiply(mTot*4.92549102554e-6,np.pi) # Total mass times pi\n",
        "    v = tf.pow(tf.multiply(piM,freq),(1/3)) # characteristic velocity of binary\n",
        "    etasq = tf.pow(eta,2) # square of the symmetric mass ratio\n",
        "    etacb= tf.pow(eta,3) # cube of the symmetric mass ratio\n",
        "    gamma = 0.577215664901532 #Euler–Mascheroni constant\n",
        "    \n",
        "    #v parameters\n",
        "    v0 = tf.pow(v,-5)\n",
        "    v2 = tf.pow(v,2)\n",
        "    v3 = tf.pow(v,3)\n",
        "    v4 = tf.pow(v,4)\n",
        "    v5 = tf.pow(v,5)\n",
        "    v5log = tf.log(v)\n",
        "    v6 = tf.pow(v,6)\n",
        "    v6log = tf.log(4*v)\n",
        "    v7 = tf.pow(v,7)\n",
        "    \n",
        "    #produce PN coeffiecients\n",
        "    P0 = tf.multiply((3./128),tf.reciprocal(eta))\n",
        "    P2 = tf.multiply(tf.add(743/84,((11)*eta)),(5/9))\n",
        "    P3 = (-16*np.pi)\n",
        "    P4 = tf.multiply(tf.add((3058673/1016064),tf.add(((5429/1008)*eta),(617/144)*etasq)),(10))\n",
        "    P5 = tf.multiply(tf.add(7729/84,(-13*eta)),(np.pi*5/9))\n",
        "    Pl5 = tf.multiply(tf.add(7729/84,(-13*eta)),(np.pi*5/3))\n",
        "    P6 = tf.add(((11583231236531/4694215680)-(640*np.pi*np.pi/3)-(6848*gamma/21)),\\\n",
        "         tf.add(((((-15737765635/3048192)+(2255*np.pi*np.pi/12)))*eta),\\\n",
        "         tf.add(((76055/1728)*etasq),(-127825/1296)*etacb)))\n",
        "    Pl6 = -(6848/21)\n",
        "    P7 = tf.multiply(tf.add((77096675/254016),tf.add(((378515/1512)*eta),(-74045/756)*etasq)),(np.pi))\n",
        "\n",
        "    \n",
        "    #Produce full PN terms\n",
        "    PN0 = tf.multiply(P0,v0)\n",
        "    PN2 = tf.multiply(P2,v2)\n",
        "    PN3 = tf.multiply(P3,v3)\n",
        "    PN4 = tf.multiply(P4,v4)\n",
        "    PN5 = tf.multiply(tf.add(P5,tf.multiply(Pl5,v5log)),v5)\n",
        "    PN6 = tf.multiply(tf.add(P6,tf.multiply(Pl6,v6log)),v6)\n",
        "    PN7 = tf.multiply(P7,v7)\n",
        "    \n",
        "    #phases = PN_cnst + PN0(1+PN1*v+PN2*v2+PN3*v3+PN4+PN5+PN6+PN7)\n",
        "    if phase_order == 7:\n",
        "        phases = tf.multiply(PN0,(1+PN2+PN3+PN4+PN5+PN6+PN7))\n",
        "    elif phase_order == 6:\n",
        "        phases = tf.multiply(PN0,(1+PN2+PN3+PN4+PN5+PN6))\n",
        "    elif phase_order == 5:\n",
        "        phases = tf.multiply(PN0,(1+PN2+PN3+PN4+PN5))\n",
        "    elif phase_order == 4:\n",
        "        phases = tf.multiply(PN0,(1+PN2+PN3+PN4)) \n",
        "    elif phase_order == 3:\n",
        "        phases = tf.multiply(PN0,(1+PN2+PN3))\n",
        "    elif phase_order == 2:\n",
        "        phases = tf.multiply(PN0,(1+PN2))\n",
        "    elif phase_order == 1:\n",
        "        phases = PN0\n",
        "    else:\n",
        "        phases = PN0\n",
        "        \n",
        "\n",
        "    return phases\n",
        "                         \n",
        "def PN_amplitude(freq,ChirpMass,LuminosityDistance):\n",
        "    \"\"\"\n",
        "    Amplitude at 0PN order\n",
        "    \n",
        "    \"\"\"\n",
        "    #returns the amplitude of the 0PN waveform\n",
        "    #arguments are chirp mass, luminosity distance and frequencies\n",
        "                         \n",
        "    term1 = tf.reciprocal(LuminosityDistance/299792458)# divide by factor of c to convert to units of time\n",
        "    term2 = tf.multiply(np.sqrt(5/24)*(np.pi**(-2/3)),tf.pow(ChirpMass*4.92549102554e-6,(5/6))) #times by mtsol to get units of time\n",
        "    term3 = tf.pow(freq,(-7/6))\n",
        "                         \n",
        "    return tf.multiply(term1,tf.multiply(term2,term3))\n",
        "                         \n",
        "def taylorf2(mass1,mass2,frequencies=None,LuminosityDistance=1.,f_low=10.,\n",
        "               df=1./512,f_high=1600.,phase_order=0):\n",
        "    \"\"\"\n",
        "    TaylorFlow Main Function\n",
        "    \n",
        "    \"\"\"\n",
        "                         \n",
        "    #Define variable and constants in TensorFlow variables and constants   \n",
        "    #Masses and frequencies are required inputs\n",
        "    mass1 = tf.constant(mass1,name=\"mass1\",dtype=tf.float32)\n",
        "    mass2 = tf.constant(mass2,name=\"mass2\",dtype=tf.float32)\n",
        "    \n",
        "    #get total mass,chirp mass and symetric mass ratio for use later in function\n",
        "    M = tf.add(mass1,mass2)\n",
        "    eta = tf.divide(tf.multiply(mass1,mass2),tf.pow(M,2))\n",
        "    ChirpMass = tf.multiply(M,tf.pow(eta,(3/5))) #Chirp mass is given by M*(eta^3/5)   \n",
        "    \n",
        "    #define fISCO\n",
        "    f_ISO = 1/(6.**1.5*np.pi*(M)*4.92549102554e-6) #frequency of innermost stable circular orbit (SI units)\n",
        "    \n",
        "    #define frequencies\n",
        "    if frequencies is None:\n",
        "        f = np.arange(1.,f_high,df)\n",
        "        frequencies = tf.Variable(f,name= \"frequencies\",dtype= tf.float32)\n",
        "    else: \n",
        "        frequencies[0] = 1\n",
        "        frequencies = tf.Variable(frequencies,name= \"frequencies\",dtype= tf.float32)\n",
        "        \n",
        "\n",
        "    #other constants                     \n",
        "    L_D =  tf.constant((3.086e+22*LuminosityDistance),name=\"LuminosityDistance\",dtype=tf.float32) \n",
        "    \n",
        "    #get phases at 0PN order\n",
        "    phase = PN_phases(frequencies, M, eta, phase_order)\n",
        "    amp = PN_amplitude(frequencies, ChirpMass, L_D)\n",
        "    \n",
        "    #set amplitude to zero where the waveform results are unphysical/unwanted\n",
        "    cond1 = frequencies<f_low #below f_low\n",
        "    ind1 = tf.where(cond1)\n",
        "    cond2 = frequencies>f_ISO #above fISCO\n",
        "    ind2 = tf.where(cond2)\n",
        "    amp = tf.scatter_update(tf.Variable(amp), ind1, tf.constant(0.))\n",
        "    amp = tf.scatter_update(tf.Variable(amp), ind2, tf.constant(0.))\n",
        "    \n",
        "    #Calculte waveform\n",
        "    iphase = tf.multiply(tf.complex(0.,1.),tf.complex(phase-(np.pi/4)+np.pi,0.))\n",
        "    waveform = tf.multiply(tf.complex(amp,0.),tf.exp(iphase))\n",
        "     \n",
        "    return frequencies, waveform"
      ],
      "execution_count": 0,
      "outputs": []
    },
    {
      "cell_type": "code",
      "metadata": {
        "id": "ILHAsjGIQdrG",
        "colab_type": "code",
        "colab": {}
      },
      "source": [
        "def tensornorm(a):\n",
        "    \"\"\"divides by max value of tensor to normalise between 0 and 1\"\"\"\n",
        "    TensorMax = tf.reduce_max(tf.abs(a))\n",
        "    norm_condition = tf.complex(tf.reciprocal(TensorMax),0.)\n",
        "    \n",
        "    return tf.multiply(a,norm_condition),norm_condition\n",
        "\n",
        "def ComplexInnerProduct(temp,data,psd,df):\n",
        "    \"\"\"computes complex inner product in the fourier domain IP = 4 deltaf sum((a * conguagte(b))/Weights)\"\"\"\n",
        "    \n",
        "    weights = tf.sqrt(psd)\n",
        "    norm = (4*df)\n",
        "    a_weight = tf.div_no_nan(temp,weights)\n",
        "    b_conj = tf.conj(data)\n",
        "    b_weight = tf.div_no_nan(tf.cast(b_conj,dtype=tf.complex64),weights)\n",
        "    a_dot_b = tf.reduce_sum(tf.multiply(a_weight,b_weight))\n",
        "    \n",
        "    return tf.multiply(norm,a_dot_b)\n",
        "\n",
        "def InnerProduct(temp,data,psd,df):\n",
        "    \"\"\"computes inner product in the fourier domain IP = 4 deltaf RE sum((a * conguagte(b))/Weights)\"\"\"\n",
        "    \n",
        "    return tf.real(ComplexInnerProduct(temp,data,psd,df))\n",
        "\n",
        "def matchedfilter(temp,data,psd,df):\n",
        "    \"\"\"Computes the overlap between two waveforms\"\"\"\n",
        "    \n",
        "    prod_a_b = InnerProduct(temp,data,psd,df)\n",
        "    prod_a_a = InnerProduct(temp,temp,psd,df)\n",
        "    prod_b_b = InnerProduct(data,data,psd,df)\n",
        "    \n",
        "    sigma = tf.sqrt(tf.multiply(prod_a_a,prod_b_b))\n",
        "    \n",
        "    return tf.divide(prod_a_b,sigma)\n",
        "\n",
        "def match(temp,data,psd,df,freq,tc_low = -1.,tc_high = 1.,samples=201):\n",
        "    \"\"\"Calculate the max match between two waveforms by maximisiung over coalescence time\"\"\"\n",
        "    \n",
        "    t_c = tf.cast(tf.linspace(tc_low,tc_high,samples),dtype=tf.float32)\n",
        "    freq_tc = tf.tensordot(t_c,freq,axes=0)\n",
        "    freq_tc = tf.cast(freq_tc,dtype=tf.complex64)\n",
        "    shift_factor = tf.exp(1j*2*np.pi*freq_tc)\n",
        "\n",
        "    match_max = np.zeros(len(t_c))\n",
        "    for coa_time in range(len(t_c)):\n",
        "        waveform_shift = shift_factor[coa_time,:]\n",
        "        waveform_shifted = tf.multiply(waveform_shift,temp)\n",
        "        match_max[coa_time] = matchedfilter(waveform_shifted,data,psd,df)\n",
        "    \n",
        "    return t_c, match_max\n",
        "\n",
        "def match_cpu(temp,data,psd,df,freq,norm_condition,tc_low = -1.,tc_high = 1.,samples=201):\n",
        "    \"\"\"Calculate the max match between two waveforms by maximisiung over coalescence time, calculated on the cpu\"\"\"\n",
        "    \n",
        "    with tf.device('/cpu:0'):\n",
        "        t_c = tf.cast(tf.linspace(tc_low,tc_high,samples),dtype=tf.float32)\n",
        "        freq_tc = tf.tensordot(t_c,freq,axes=0)\n",
        "        freq_tc = tf.cast(freq_tc,dtype=tf.complex64)\n",
        "        shift_factor = tf.exp(1j*2*np.pi*freq_tc)\n",
        "\n",
        "        match_max = np.zeros(len(t_c))\n",
        "        for coa_time in range(len(t_c)):\n",
        "            waveform_shift = shift_factor[coa_time,:]\n",
        "            waveform_shifted = tf.multiply(waveform_shift,temp)\n",
        "            match_max[coa_time] = matchedfilter(waveform_shifted,data,psd,df)\n",
        "    \n",
        "    return t_c, match_max\n",
        "\n",
        "def loglikelihood(temp,data,psd,df):\n",
        "    \"\"\"Computes the relative log likelihood of two data sets, computed by <data|temp>-1/2<temp|temp> \"\"\"\n",
        "    return (InnerProduct(data,temp,psd,df)-0.5*InnerProduct(temp,temp,psd,df))\n",
        "\n",
        "\n",
        "def SNR(temp,data,psd,df):\n",
        "    \"\"\"Compute the SNR at the true value of the parameters \"\"\"\n",
        "\n",
        "    return tf.sqrt(2*loglikelihood(temp,data,psd,df))"
      ],
      "execution_count": 0,
      "outputs": []
    },
    {
      "cell_type": "code",
      "metadata": {
        "id": "uP3tYBuzQevF",
        "colab_type": "code",
        "colab": {}
      },
      "source": [
        "m1 = 35.6\n",
        "m2 = 30.6 \n",
        "\n",
        "freq = fd_smooth.sample_frequencies\n",
        "psd1 = psd\n",
        "df = fd_smooth.sample_frequencies[1]-fd_smooth.sample_frequencies[0]\n",
        "\n",
        "tf_freq,tf_waveform = taylorf2(m1,m2,frequencies=freq)"
      ],
      "execution_count": 0,
      "outputs": []
    },
    {
      "cell_type": "code",
      "metadata": {
        "id": "PxFb1AuTWxbU",
        "colab_type": "code",
        "colab": {}
      },
      "source": [
        "data = tf.constant(fd_smooth,dtype=tf.complex64)\n",
        "my_temp,norm_condition = tensornorm(tf_waveform)"
      ],
      "execution_count": 0,
      "outputs": []
    },
    {
      "cell_type": "code",
      "metadata": {
        "id": "C2j3uaxgWs1S",
        "colab_type": "code",
        "outputId": "f92fd24d-ebb0-4c0f-c546-5c2771dc8eec",
        "colab": {
          "base_uri": "https://localhost:8080/",
          "height": 336
        }
      },
      "source": [
        "print(my_temp)\n",
        "plt.plot(freq,my_temp*120)\n",
        "plt.legend(['taylorflow Waveform'])"
      ],
      "execution_count": 26,
      "outputs": [
        {
          "output_type": "stream",
          "text": [
            "tf.Tensor([ 0.+0.j -0.+0.j  0.+0.j ... -0.+0.j -0.+0.j -0.+0.j], shape=(65537,), dtype=complex64)\n"
          ],
          "name": "stdout"
        },
        {
          "output_type": "stream",
          "text": [
            "/usr/local/lib/python3.6/dist-packages/numpy/core/numeric.py:538: ComplexWarning: Casting complex values to real discards the imaginary part\n",
            "  return array(a, dtype, copy=False, order=order)\n"
          ],
          "name": "stderr"
        },
        {
          "output_type": "execute_result",
          "data": {
            "text/plain": [
              "<matplotlib.legend.Legend at 0x7fa8313f96a0>"
            ]
          },
          "metadata": {
            "tags": []
          },
          "execution_count": 26
        },
        {
          "output_type": "display_data",
          "data": {
            "image/png": "[encoded data removed]",
            "text/plain": [
              "<Figure size 432x288 with 1 Axes>"
            ]
          },
          "metadata": {
            "tags": []
          }
        }
      ]
    },
    {
      "cell_type": "code",
      "metadata": {
        "id": "b6VrYHFCXBUw",
        "colab_type": "code",
        "outputId": "a1ef5771-c5b4-4ee9-c107-a2d7c590b6f8",
        "colab": {
          "base_uri": "https://localhost:8080/",
          "height": 386
        }
      },
      "source": [
        "print(data)\n",
        "plt.plot(freq,data)\n",
        "plt.legend(['Whitened and filtered H1 Data'])"
      ],
      "execution_count": 27,
      "outputs": [
        {
          "output_type": "stream",
          "text": [
            "tf.Tensor(\n",
            "[ 8.275761  +0.0000000e+00j  9.30006   +1.2856642e+00j\n",
            " 15.222969  +9.4771461e+00j ... -0.10312042-2.0913774e-04j\n",
            " -0.10288444+3.9915717e-04j -0.10054187+0.0000000e+00j], shape=(65537,), dtype=complex64)\n"
          ],
          "name": "stdout"
        },
        {
          "output_type": "stream",
          "text": [
            "/usr/local/lib/python3.6/dist-packages/numpy/core/numeric.py:538: ComplexWarning: Casting complex values to real discards the imaginary part\n",
            "  return array(a, dtype, copy=False, order=order)\n"
          ],
          "name": "stderr"
        },
        {
          "output_type": "execute_result",
          "data": {
            "text/plain": [
              "<matplotlib.legend.Legend at 0x7fa8313c7208>"
            ]
          },
          "metadata": {
            "tags": []
          },
          "execution_count": 27
        },
        {
          "output_type": "display_data",
          "data": {
            "image/png": "[encoded data removed]",
            "text/plain": [
              "<Figure size 432x288 with 1 Axes>"
            ]
          },
          "metadata": {
            "tags": []
          }
        }
      ]
    },
    {
      "cell_type": "code",
      "metadata": {
        "id": "7Pba2HJLTvjy",
        "colab_type": "code",
        "outputId": "f3083b01-033d-4816-a955-4731be5f9d1f",
        "colab": {
          "base_uri": "https://localhost:8080/",
          "height": 286
        }
      },
      "source": [
        "psd1 = psd/(max(abs(tf_waveform))*max(abs(tf_waveform)))\n",
        "# psd1 = np.ones(len(freq))\n",
        "plt.plot(freq,psd1)\n",
        "plt.xlim(10,1600)\n",
        "\n",
        "plt.legend(['Interpolated PSD'])\n",
        "print(psd1.dtype)"
      ],
      "execution_count": 28,
      "outputs": [
        {
          "output_type": "stream",
          "text": [
            "<dtype: 'float32'>\n"
          ],
          "name": "stdout"
        },
        {
          "output_type": "display_data",
          "data": {
            "image/png": "[encoded data removed]",
            "text/plain": [
              "<Figure size 432x288 with 1 Axes>"
            ]
          },
          "metadata": {
            "tags": []
          }
        }
      ]
    },
    {
      "cell_type": "code",
      "metadata": {
        "id": "J6-3G_aCnge-",
        "colab_type": "code",
        "colab": {}
      },
      "source": [
        "psd1 = tf.cast(tf.constant(psd1),dtype=tf.complex64)\n",
        "match_freq = tf.cast(freq,dtype=tf.float32)"
      ],
      "execution_count": 0,
      "outputs": []
    },
    {
      "cell_type": "code",
      "metadata": {
        "id": "FnjV4Qe-7oQk",
        "colab_type": "code",
        "colab": {}
      },
      "source": [
        "temp_shifted = my_temp*np.exp(1j*2*np.pi*freq*gps_low)"
      ],
      "execution_count": 0,
      "outputs": []
    },
    {
      "cell_type": "code",
      "metadata": {
        "id": "QIfbOTPoD67C",
        "colab_type": "code",
        "colab": {
          "base_uri": "https://localhost:8080/",
          "height": 34
        },
        "outputId": "5320ecd2-fd15-4fda-b5e8-afba5d51a5ea"
      },
      "source": [
        "gps_high= h1.end_time\n",
        "print(h1.end_time-h1.start_time)"
      ],
      "execution_count": 40,
      "outputs": [
        {
          "output_type": "stream",
          "text": [
            "32\n"
          ],
          "name": "stdout"
        }
      ]
    },
    {
      "cell_type": "code",
      "metadata": {
        "id": "YOr0oc2kRUm1",
        "colab_type": "code",
        "outputId": "dfdad752-ddc4-40e4-9773-bcb95ff3b06f",
        "colab": {
          "base_uri": "https://localhost:8080/",
          "height": 101
        }
      },
      "source": [
        "t_c, m = match(temp_shifted,data,psd1,df,match_freq,tc_low=0.,tc_high = 32.,samples=1600)\n",
        "print(t_c)\n",
        "print(m)"
      ],
      "execution_count": 42,
      "outputs": [
        {
          "output_type": "stream",
          "text": [
            "tf.Tensor(\n",
            "[0.0000000e+00 2.0012507e-02 4.0025014e-02 ... 3.1959974e+01 3.1979986e+01\n",
            " 3.2000000e+01], shape=(1600,), dtype=float32)\n",
            "[ 0.01625616 -0.02795128  0.00955668 ...  0.00278032 -0.00685512\n",
            "  0.01625756]\n"
          ],
          "name": "stdout"
        }
      ]
    },
    {
      "cell_type": "code",
      "metadata": {
        "id": "nyPjGKOdi00h",
        "colab_type": "code",
        "outputId": "b3f3e6f7-8ee4-4c15-e7bb-218de4f41151",
        "colab": {
          "base_uri": "https://localhost:8080/",
          "height": 302
        }
      },
      "source": [
        "print(1126259462.4-gps_low)\n",
        "plt.plot(t_c,abs(m))"
      ],
      "execution_count": 43,
      "outputs": [
        {
          "output_type": "stream",
          "text": [
            "15.400000095367432\n"
          ],
          "name": "stdout"
        },
        {
          "output_type": "execute_result",
          "data": {
            "text/plain": [
              "[<matplotlib.lines.Line2D at 0x7fa83120c518>]"
            ]
          },
          "metadata": {
            "tags": []
          },
          "execution_count": 43
        },
        {
          "output_type": "display_data",
          "data": {
            "image/png": "[encoded data removed]",
            "text/plain": [
              "<Figure size 432x288 with 1 Axes>"
            ]
          },
          "metadata": {
            "tags": []
          }
        }
      ]
    },
    {
      "cell_type": "code",
      "metadata": {
        "id": "RbrCLpmYXzPj",
        "colab_type": "code",
        "outputId": "c8d22c05-e8fd-40a6-f7c2-2abd7ddb29c0",
        "colab": {
          "base_uri": "https://localhost:8080/",
          "height": 34
        }
      },
      "source": [
        "CIP = ComplexInnerProduct(my_temp,data,psd1,df)\n",
        "print(CIP)"
      ],
      "execution_count": 33,
      "outputs": [
        {
          "output_type": "stream",
          "text": [
            "tf.Tensor((-4645343.5+45369588j), shape=(), dtype=complex64)\n"
          ],
          "name": "stdout"
        }
      ]
    },
    {
      "cell_type": "code",
      "metadata": {
        "id": "X9kjae97Ydo0",
        "colab_type": "code",
        "outputId": "b4d3ee65-6155-4738-f20b-4d8a9396cf1a",
        "colab": {
          "base_uri": "https://localhost:8080/",
          "height": 34
        }
      },
      "source": [
        "IP = InnerProduct(my_temp,data,psd1,df)\n",
        "print(IP)"
      ],
      "execution_count": 34,
      "outputs": [
        {
          "output_type": "stream",
          "text": [
            "tf.Tensor(-4645343.5, shape=(), dtype=float32)\n"
          ],
          "name": "stdout"
        }
      ]
    },
    {
      "cell_type": "code",
      "metadata": {
        "id": "zZ4ZG1dndlrP",
        "colab_type": "code",
        "outputId": "ff54ca2a-c309-42af-b387-3e640ff5b556",
        "colab": {
          "base_uri": "https://localhost:8080/",
          "height": 34
        }
      },
      "source": [
        "overlap = matchedfilter(my_temp,data,psd1,df)\n",
        "print(overlap)"
      ],
      "execution_count": 35,
      "outputs": [
        {
          "output_type": "stream",
          "text": [
            "tf.Tensor(-0.013734195, shape=(), dtype=float32)\n"
          ],
          "name": "stdout"
        }
      ]
    },
    {
      "cell_type": "code",
      "metadata": {
        "id": "P7oa0opXR5-V",
        "colab_type": "code",
        "outputId": "ce4cde05-b924-45df-d7eb-0a9886c832f2",
        "colab": {
          "base_uri": "https://localhost:8080/",
          "height": 34
        }
      },
      "source": [
        "logl_shift = np.exp(freq*(1187008882.4-2)*2*np.pi*1j)\n",
        "logl= loglikelihood(my_temp*logl_shift,data,psd1,df)\n",
        "print(logl)"
      ],
      "execution_count": 36,
      "outputs": [
        {
          "output_type": "stream",
          "text": [
            "tf.Tensor(-12151398.0, shape=(), dtype=float32)\n"
          ],
          "name": "stdout"
        }
      ]
    },
    {
      "cell_type": "code",
      "metadata": {
        "id": "uDkZLRdndvU-",
        "colab_type": "code",
        "outputId": "41a68c4c-7632-40ce-cc5d-9385add10131",
        "colab": {
          "base_uri": "https://localhost:8080/",
          "height": 34
        }
      },
      "source": [
        "SNR_true = SNR(my_temp,data,psd1,df)\n",
        "print(SNR_true)"
      ],
      "execution_count": 37,
      "outputs": [
        {
          "output_type": "stream",
          "text": [
            "tf.Tensor(nan, shape=(), dtype=float32)\n"
          ],
          "name": "stdout"
        }
      ]
    },
    {
      "cell_type": "code",
      "metadata": {
        "id": "ywhkFl-hByWW",
        "colab_type": "code",
        "colab": {}
      },
      "source": [
        ""
      ],
      "execution_count": 0,
      "outputs": []
    }
  ]
}